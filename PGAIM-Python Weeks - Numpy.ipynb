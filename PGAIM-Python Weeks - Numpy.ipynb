{
 "cells": [
  {
   "cell_type": "code",
   "execution_count": 1,
   "metadata": {},
   "outputs": [],
   "source": [
    "#Using Numpy handson\n",
    "# The first step of using numpy is to tell python to import it\n",
    "import numpy as np"
   ]
  },
  {
   "cell_type": "code",
   "execution_count": 8,
   "metadata": {},
   "outputs": [
    {
     "data": {
      "text/plain": [
       "[0, 1, 4]"
      ]
     },
     "execution_count": 8,
     "metadata": {},
     "output_type": "execute_result"
    }
   ],
   "source": [
    "prec_on_time = [0.62, 0.78, 0.20, 0.32, 0.85]\n",
    "[i for i,x in enumerate(prec_on_time) if x >0.5]"
   ]
  },
  {
   "cell_type": "code",
   "execution_count": 9,
   "metadata": {},
   "outputs": [],
   "source": [
    "# defining a list of different car companies or string elements\n",
    "arr_str = ['Mercedes', 'BMW', 'Audi', 'Ferrari', 'Tesla']\n",
    "\n",
    "# defining a list of number of cylinders in car or numerical elements\n",
    "arr_num = [5, 4, 6, 7, 3]"
   ]
  },
  {
   "cell_type": "code",
   "execution_count": 10,
   "metadata": {},
   "outputs": [
    {
     "data": {
      "text/plain": [
       "[5, 4, 6, 7, 3]"
      ]
     },
     "execution_count": 10,
     "metadata": {},
     "output_type": "execute_result"
    }
   ],
   "source": [
    "arr_num"
   ]
  },
  {
   "cell_type": "code",
   "execution_count": 16,
   "metadata": {},
   "outputs": [
    {
     "name": "stdout",
     "output_type": "stream",
     "text": [
      "Numpy Array (arr_str):  ['Mercedes' 'BMW' 'Audi' 'Ferrari' 'Tesla']\n",
      "Numpy Array (arr_num):  [5 4 6 7 3]\n"
     ]
    }
   ],
   "source": [
    "\n",
    "# connverting the list arr_str to a NumPy array\n",
    "np_arr_str = np.array(arr_str)\n",
    "\n",
    "\n",
    "# connverting the list arr_num to a NumPy array\n",
    "np_arr_num = np.array(arr_num)\n",
    "\n",
    "# checking the output\n",
    "print('Numpy Array (arr_str): ',np_arr_str)\n",
    "print('Numpy Array (arr_num): ',np_arr_num)"
   ]
  },
  {
   "cell_type": "code",
   "execution_count": 17,
   "metadata": {},
   "outputs": [
    {
     "name": "stdout",
     "output_type": "stream",
     "text": [
      "Data type of arr_str:  <class 'list'>\n",
      "Data type of arr_num:  <class 'list'>\n",
      "Data type of np_arr_str:  <class 'numpy.ndarray'>\n",
      "Data type of np_arr_num:  <class 'numpy.ndarray'>\n"
     ]
    }
   ],
   "source": [
    "# printing the data type of lists\n",
    "print('Data type of arr_str: ',type(arr_str))\n",
    "print('Data type of arr_num: ',type(arr_num))\n",
    "\n",
    "# printing the data type after conversion of lists to array\n",
    "print('Data type of np_arr_str: ',type(np_arr_str))\n",
    "print('Data type of np_arr_num: ',type(np_arr_num))"
   ]
  },
  {
   "cell_type": "code",
   "execution_count": 20,
   "metadata": {},
   "outputs": [
    {
     "name": "stdout",
     "output_type": "stream",
     "text": [
      "[[1 2 1]\n",
      " [4 5 9]\n",
      " [1 8 9]]\n",
      "Data type of matrix:  <class 'numpy.ndarray'>\n"
     ]
    }
   ],
   "source": [
    "# let's say we have information of different number of cylinders in a car and we want to display them in a matrix format\n",
    "matrix = np.array([[1,2,1],[4,5,9],[1,8,9]])\n",
    "print(matrix)\n",
    "print('Data type of matrix: ',type(matrix))"
   ]
  },
  {
   "cell_type": "code",
   "execution_count": 23,
   "metadata": {},
   "outputs": [
    {
     "name": "stdout",
     "output_type": "stream",
     "text": [
      "arr2\n",
      " [0 1 2 3 4 5 6 7 8 9]\n",
      "arr3\n",
      " [0 1 2 3 4 5 6 7 8 9]\n"
     ]
    }
   ],
   "source": [
    "arr2  = np.arange(start = 0, stop = 10) # 10 will be excluded from the output\n",
    "print('arr2\\n',arr2)\n",
    "\n",
    "arr3  = np.arange(0,10) \n",
    "print('arr3\\n',arr3)"
   ]
  },
  {
   "cell_type": "code",
   "execution_count": 42,
   "metadata": {},
   "outputs": [
    {
     "data": {
      "text/plain": [
       "array([0.        , 0.10204082, 0.20408163, 0.30612245, 0.40816327,\n",
       "       0.51020408, 0.6122449 , 0.71428571, 0.81632653, 0.91836735,\n",
       "       1.02040816, 1.12244898, 1.2244898 , 1.32653061, 1.42857143,\n",
       "       1.53061224, 1.63265306, 1.73469388, 1.83673469, 1.93877551,\n",
       "       2.04081633, 2.14285714, 2.24489796, 2.34693878, 2.44897959,\n",
       "       2.55102041, 2.65306122, 2.75510204, 2.85714286, 2.95918367,\n",
       "       3.06122449, 3.16326531, 3.26530612, 3.36734694, 3.46938776,\n",
       "       3.57142857, 3.67346939, 3.7755102 , 3.87755102, 3.97959184,\n",
       "       4.08163265, 4.18367347, 4.28571429, 4.3877551 , 4.48979592,\n",
       "       4.59183673, 4.69387755, 4.79591837, 4.89795918, 5.        ])"
      ]
     },
     "execution_count": 42,
     "metadata": {},
     "output_type": "execute_result"
    }
   ],
   "source": [
    "# by default 50 evenly spaced values will be generated between 0 and 5\n",
    "matrix2 = np.linspace(0, 5)\n",
    "matrix2"
   ]
  },
  {
   "cell_type": "code",
   "execution_count": 46,
   "metadata": {},
   "outputs": [
    {
     "name": "stdout",
     "output_type": "stream",
     "text": [
      "matrix4:\n",
      " [[0. 0. 0. 0. 0.]\n",
      " [0. 0. 0. 0. 0.]\n",
      " [0. 0. 0. 0. 0.]]\n",
      "\n",
      "matrix5:\n",
      " [[1. 1. 1. 1. 1.]\n",
      " [1. 1. 1. 1. 1.]\n",
      " [1. 1. 1. 1. 1.]]\n",
      "\n",
      "matrix eye:\n",
      " [[1. 0. 0. 0. 0.]\n",
      " [0. 1. 0. 0. 0.]\n",
      " [0. 0. 1. 0. 0.]\n",
      " [0. 0. 0. 1. 0.]\n",
      " [0. 0. 0. 0. 1.]]\n"
     ]
    }
   ],
   "source": [
    "matrix4 = np.zeros([3,5])\n",
    "print('matrix4:\\n', matrix4)\n",
    "\n",
    "matrix5 = np.ones([3,5])\n",
    "print('\\nmatrix5:\\n', matrix5)\n",
    "\n",
    "matrix6 = np.eye(5)\n",
    "print('\\nmatrix eye:\\n', matrix6)\n"
   ]
  },
  {
   "cell_type": "code",
   "execution_count": 54,
   "metadata": {},
   "outputs": [
    {
     "name": "stdout",
     "output_type": "stream",
     "text": [
      "arr4 is [0 1 2 3 4 5 6 7 8 9]\n",
      "\n",
      "Reshaped to Matrix 2, 5)\n",
      " [[0 1 2 3 4]\n",
      " [5 6 7 8 9]]\n",
      "reshaped array to 5x2 matrix\n",
      " [[0 1]\n",
      " [2 3]\n",
      " [4 5]\n",
      " [6 7]\n",
      " [8 9]]\n",
      "\n",
      "arr5\n",
      " [0 1 2 3 4 5 6 7 8]\n",
      "Reshaped arr5 to 3x3 matrix\n",
      " [[0 1 2]\n",
      " [3 4 5]\n",
      " [6 7 8]]\n"
     ]
    }
   ],
   "source": [
    "# defining an array with values 0 to 9\n",
    "arr4 = np.arange(0,10) \n",
    "print('arr4 is',arr4)\n",
    "\n",
    "# reshaping the array arr4 to a 2 x 5 matrix\n",
    "arr4_reshaped = arr4.reshape((2,5))\n",
    "print('\\nReshaped to Matrix 2, 5)\\n',arr4_reshaped)\n",
    "print('reshaped array to 5x2 matrix\\n', arr4.reshape(5,2))\n",
    "\n",
    "arr5 = np.arange(0,9)\n",
    "arr5_reshaped = arr5.reshape((3,3))\n",
    "print('\\narr5\\n',arr5)\n",
    "print('Reshaped arr5 to 3x3 matrix\\n',arr5_reshaped)"
   ]
  },
  {
   "cell_type": "markdown",
   "metadata": {},
   "source": [
    "**Trigonometric functions**"
   ]
  },
  {
   "cell_type": "code",
   "execution_count": 60,
   "metadata": {},
   "outputs": [
    {
     "name": "stdout",
     "output_type": "stream",
     "text": [
      "Sine Function: -0.7568024953079283\n",
      "Cosine Function: -0.6536436208636119\n",
      "Tan Function 1.1578212823495775\n"
     ]
    }
   ],
   "source": [
    "print('Sine Function:',np.sin(4))\n",
    "print('Cosine Function:',np.cos(4))\n",
    "print('Tan Function',np.tan(4))\n"
   ]
  },
  {
   "cell_type": "code",
   "execution_count": 67,
   "metadata": {},
   "outputs": [
    {
     "name": "stdout",
     "output_type": "stream",
     "text": [
      "exponant of 0 is 1.0\n",
      "log of 1 is 0.0\n"
     ]
    }
   ],
   "source": [
    "print('exponant of 0 is', np.exp(0))\n",
    "print('log of 1 is', np.log(1))\n",
    "\n"
   ]
  },
  {
   "cell_type": "code",
   "execution_count": 77,
   "metadata": {},
   "outputs": [
    {
     "data": {
      "text/plain": [
       "array([  7.3890561 ,  54.59815003, 403.42879349])"
      ]
     },
     "execution_count": 77,
     "metadata": {},
     "output_type": "execute_result"
    }
   ],
   "source": [
    "arr5 = np.array([2,4,6])\n",
    "np.exp(arr5)"
   ]
  },
  {
   "cell_type": "code",
   "execution_count": 78,
   "metadata": {},
   "outputs": [
    {
     "data": {
      "text/plain": [
       "0.6931471805599453"
      ]
     },
     "execution_count": 78,
     "metadata": {},
     "output_type": "execute_result"
    }
   ],
   "source": [
    "# by default NumPy takes the base of log as e\n",
    "np.log(2)"
   ]
  },
  {
   "cell_type": "code",
   "execution_count": 79,
   "metadata": {},
   "outputs": [
    {
     "data": {
      "text/plain": [
       "array([0.69314718, 1.38629436, 1.79175947])"
      ]
     },
     "execution_count": 79,
     "metadata": {},
     "output_type": "execute_result"
    }
   ],
   "source": [
    "np.log(arr5)"
   ]
  },
  {
   "cell_type": "code",
   "execution_count": 80,
   "metadata": {},
   "outputs": [
    {
     "data": {
      "text/plain": [
       "array([0.30103   , 0.60205999, 0.77815125])"
      ]
     },
     "execution_count": 80,
     "metadata": {},
     "output_type": "execute_result"
    }
   ],
   "source": [
    "np.log10(arr5)"
   ]
  },
  {
   "cell_type": "markdown",
   "metadata": {},
   "source": [
    "**Arithmatic Operations in Arrays**"
   ]
  },
  {
   "cell_type": "code",
   "execution_count": 81,
   "metadata": {},
   "outputs": [
    {
     "name": "stdout",
     "output_type": "stream",
     "text": [
      "[1, 2, 3, 4, 5, 6]\n"
     ]
    }
   ],
   "source": [
    "# arithmetic on lists\n",
    "\n",
    "l1 = [1,2,3]\n",
    "l2 = [4,5,6]\n",
    "print(l1+l2)\n",
    "# this does not behave as you would expect!\n",
    "# Concatenates two lists instead of adding them together.\n"
   ]
  },
  {
   "cell_type": "code",
   "execution_count": 85,
   "metadata": {},
   "outputs": [
    {
     "name": "stdout",
     "output_type": "stream",
     "text": [
      "arr7: [1 2 3 4 5]\n",
      "arr8: [3 4 5 6 7]\n",
      "arr7 + arr8: [ 4  6  8 10 12]\n",
      "arr7 - arr8: [-2 -2 -2 -2 -2]\n",
      "arr7 * arr8: [ 3  8 15 24 35]\n",
      "arr7 / arr8: [0.33333333 0.5        0.6        0.66666667 0.71428571]\n",
      "Inverse of arr7: [1.         0.5        0.33333333 0.25       0.2       ]\n",
      "arr7 ** arr8: [    1    16   243  4096 78125]\n"
     ]
    }
   ],
   "source": [
    "# we can +-*/ arrays together\n",
    "\n",
    "# defining two arrays\n",
    "arr7 = np.arange(1,6)\n",
    "print('arr7:', arr7)\n",
    "\n",
    "arr8 = np.arange(3,8)\n",
    "print('arr8:', arr8)\n",
    "\n",
    "# adding them together\n",
    "print('arr7 + arr8:', arr7 + arr8)\n",
    "\n",
    "# subtracting them together\n",
    "print('arr7 - arr8:', arr7 - arr8)\n",
    "\n",
    "# multiplying them together \n",
    "print('arr7 * arr8:', arr7 * arr8)\n",
    "\n",
    "# dividing them together\n",
    "print('arr7 / arr8:', arr7 / arr8)\n",
    "\n",
    "#Inverse\n",
    "print('Inverse of arr7:', 1/(arr7))\n",
    "\n",
    "#powers\n",
    "print('arr7 ** arr8:', arr7 ** arr8)\n"
   ]
  },
  {
   "cell_type": "markdown",
   "metadata": {},
   "source": [
    "**Operations on Matrix**"
   ]
  },
  {
   "cell_type": "code",
   "execution_count": 89,
   "metadata": {},
   "outputs": [
    {
     "name": "stdout",
     "output_type": "stream",
     "text": [
      "[[1 2 3]\n",
      " [4 5 6]\n",
      " [7 8 9]]\n",
      "[[1. 0. 0.]\n",
      " [0. 1. 0.]\n",
      " [0. 0. 1.]]\n",
      "Addition: \n",
      " [[ 2.  2.  3.]\n",
      " [ 4.  6.  6.]\n",
      " [ 7.  8. 10.]]\n",
      "Subtraction: \n",
      "  [[0. 2. 3.]\n",
      " [4. 4. 6.]\n",
      " [7. 8. 8.]]\n",
      "Multiplication: \n",
      " [[1. 0. 0.]\n",
      " [0. 5. 0.]\n",
      " [0. 0. 9.]]\n",
      "Division: \n",
      " [[ 1. inf inf]\n",
      " [inf  5. inf]\n",
      " [inf inf  9.]]\n"
     ]
    },
    {
     "name": "stderr",
     "output_type": "stream",
     "text": [
      "/var/folders/hn/gtr1m4r92597m52h_j8yq2c00000gn/T/ipykernel_33086/1269734437.py:10: RuntimeWarning: divide by zero encountered in divide\n",
      "  print('Division: \\n', matrix7/matrix8)\n"
     ]
    }
   ],
   "source": [
    "matrix7 = np.arange(1,10).reshape(3,3)\n",
    "print(matrix7)\n",
    "\n",
    "matrix8 = np.eye(3)\n",
    "print(matrix8)\n",
    "\n",
    "print('Addition: \\n', matrix7+matrix8)\n",
    "print('Subtraction: \\n ', matrix7-matrix8)\n",
    "print('Multiplication: \\n', matrix7*matrix8)\n",
    "print('Division: \\n', matrix7/matrix8)"
   ]
  },
  {
   "cell_type": "markdown",
   "metadata": {},
   "source": [
    "**Linear Algebra Matrix Multiplication**"
   ]
  },
  {
   "cell_type": "code",
   "execution_count": 101,
   "metadata": {},
   "outputs": [
    {
     "name": "stdout",
     "output_type": "stream",
     "text": [
      "First Matrix: \n",
      " [[1 2 3]\n",
      " [4 5 6]\n",
      " [7 8 9]]\n",
      "Second Matrix: \n",
      " [[11 12 13]\n",
      " [14 15 16]\n",
      " [17 18 19]]\n",
      "\n",
      "Multiplication: \n",
      " [[ 90  96 102]\n",
      " [216 231 246]\n",
      " [342 366 390]]\n",
      "\n",
      "\n",
      "Transpose: \n",
      " [[1 2 3]\n",
      " [4 5 6]\n",
      " [7 8 9]] \n",
      "equivalent to \n",
      " [[1 4 7]\n",
      " [2 5 8]\n",
      " [3 6 9]]\n"
     ]
    },
    {
     "data": {
      "text/plain": [
       "array([[1, 4, 7],\n",
       "       [2, 5, 8],\n",
       "       [3, 6, 9]])"
      ]
     },
     "execution_count": 101,
     "metadata": {},
     "output_type": "execute_result"
    }
   ],
   "source": [
    "matrix9 = np.arange(1,10).reshape(3,3)\n",
    "print('First Matrix: \\n',matrix9)\n",
    "\n",
    "matrix10 = np.arange(11,20).reshape(3,3)\n",
    "print('Second Matrix: \\n',matrix10)\n",
    "print('')\n",
    "# taking linear algebra matrix multiplication (some may have heard this called the dot product)\n",
    "print('Multiplication: \\n', matrix9 @ matrix10)\n",
    "\n",
    "print('\\n\\nTranspose: \\n', matrix7, '\\nequivalent to \\n', matrix7.T)\n",
    "np.transpose(matrix7)"
   ]
  },
  {
   "cell_type": "code",
   "execution_count": 104,
   "metadata": {},
   "outputs": [
    {
     "name": "stdout",
     "output_type": "stream",
     "text": [
      "Min of matrix7 is  1\n",
      "Max of matrix7 is  9\n"
     ]
    }
   ],
   "source": [
    "print('Min of matrix7 is ', np.min(matrix7))\n",
    "print('Max of matrix7 is ', np.max(matrix7))"
   ]
  },
  {
   "cell_type": "markdown",
   "metadata": {},
   "source": [
    "**Random functions in numpy**"
   ]
  },
  {
   "cell_type": "code",
   "execution_count": 142,
   "metadata": {},
   "outputs": [
    {
     "name": "stdout",
     "output_type": "stream",
     "text": [
      "Mean of rad_mat2: 0.36764589715429247 0.3676\n",
      "Median of rad_mat2: 0.2261098076045134 0.2261\n",
      "Standard deviation of rad_mat2: 1.142628651676325 1.1426\n"
     ]
    }
   ],
   "source": [
    "int_mat = np.random.randint(0, 100, size=(3, 3))\n",
    "\n",
    "rad_mat2 = np.random.randn(3, 3)\n",
    "\n",
    "print('Mean of rad_mat2: {}'.format(np.mean(rad_mat2)),round(np.mean(rad_mat2),4))\n",
    "print('Median of rad_mat2: {}'.format(np.median(rad_mat2)), round(np.median(rad_mat2),4))\n",
    "\n",
    "print('Standard deviation of rad_mat2: {}'.format(np.std(rad_mat2)),round(np.std(rad_mat2),4))"
   ]
  },
  {
   "cell_type": "code",
   "execution_count": 126,
   "metadata": {},
   "outputs": [
    {
     "name": "stdout",
     "output_type": "stream",
     "text": [
      "[ 0.1869693  -0.14165787  0.18763621  0.77276326 -0.38927029  0.08944631\n",
      " -1.34199507  2.2131202  -0.62200716 -0.31182739]\n",
      "6 th entry of rand_arr -1.3419950683454065\n",
      "\n",
      "access multiple entries at once using rand_arr[4:9]\n",
      " [-0.38927029  0.08944631 -1.34199507  2.2131202  -0.62200716]\n"
     ]
    }
   ],
   "source": [
    "# let's generate an array with 10 random values\n",
    "rand_arr = np.random.randn(10)\n",
    "print(rand_arr)\n",
    "\n",
    "# accessing the 6 th entry of rand_arr\n",
    "print('6 th entry of rand_arr', rand_arr[6])\n",
    "\n",
    "# we can access multiple entries at once using\n",
    "print('\\naccess multiple entries at once using rand_arr[4:9]\\n', rand_arr[4:9])"
   ]
  },
  {
   "cell_type": "code",
   "execution_count": 127,
   "metadata": {},
   "outputs": [
    {
     "name": "stdout",
     "output_type": "stream",
     "text": [
      "Index of values to access:  [3 6 9]\n",
      "[ 0.77276326 -1.34199507 -0.31182739]\n"
     ]
    }
   ],
   "source": [
    "# we can also access multiple non-consecutive entries using np.arange\n",
    "print('Index of values to access: ',np.arange(3,10,3))\n",
    "print(rand_arr[np.arange(3,10,3)])"
   ]
  },
  {
   "cell_type": "code",
   "execution_count": 130,
   "metadata": {},
   "outputs": [
    {
     "name": "stdout",
     "output_type": "stream",
     "text": [
      "rand_arr values >0 are [ True False  True  True False  True False  True False False]\n",
      "Values greater than 0:  [0.1869693  0.18763621 0.77276326 0.08944631 2.2131202 ]\n",
      "Values less than 0:  [-0.14165787 -0.38927029 -1.34199507 -0.62200716 -0.31182739]\n"
     ]
    }
   ],
   "source": [
    "print('rand_arr values >0 are', rand_arr>0)\n",
    "\n",
    "# accessing all the values of rand_arr which are greater than 0\n",
    "print('Values greater than 0: ',rand_arr[rand_arr>0])\n",
    "\n",
    "# accessing all the values of rand_arr which are less than 0\n",
    "print('Values less than 0: ',rand_arr[rand_arr<0])"
   ]
  },
  {
   "cell_type": "code",
   "execution_count": 141,
   "metadata": {},
   "outputs": [
    {
     "name": "stdout",
     "output_type": "stream",
     "text": [
      "[0, 2, 3, 5, 7]\n",
      "[0.1869693  0.18763621 0.77276326 0.08944631 2.2131202 ]\n"
     ]
    }
   ],
   "source": [
    "print([i for i, x in enumerate(rand_arr) if x > 0])\n",
    "print(rand_arr[[i for i, x in enumerate(rand_arr) if x > 0]])"
   ]
  },
  {
   "cell_type": "markdown",
   "metadata": {},
   "source": [
    "**Accessing Matrix Data**"
   ]
  },
  {
   "cell_type": "code",
   "execution_count": 145,
   "metadata": {},
   "outputs": [
    {
     "name": "stdout",
     "output_type": "stream",
     "text": [
      "[[-1.31213026  0.76623925 -1.19627106  0.64600053 -0.62017967]\n",
      " [-1.12080531 -0.58909086  0.35358714 -0.37653943  1.0801799 ]\n",
      " [-1.89493834  0.12401185  0.68964589 -1.64221988 -1.44005918]\n",
      " [-0.26805288 -0.09981414 -0.49773025  0.63723555  0.40334015]\n",
      " [-1.30875886  0.57232547  1.0902531   0.02800017  0.16321003]]\n",
      "0.35358713694468247\n",
      "0.35358713694468247\n",
      "[[ 0.76623925 -1.19627106]\n",
      " [-0.58909086  0.35358714]]\n"
     ]
    }
   ],
   "source": [
    "# let's generate an array with 10 random values\n",
    "rand_mat = np.random.randn(5,5)\n",
    "print(rand_mat)\n",
    "\n",
    "# acessing third element of the second row\n",
    "print(rand_mat[1][2])\n",
    "\n",
    "#or \n",
    "\n",
    "print(rand_mat[1,2])\n",
    "\n",
    "# accessing first two rows with second and third column \n",
    "print(rand_mat[0:2,1:3])"
   ]
  },
  {
   "cell_type": "code",
   "execution_count": 153,
   "metadata": {},
   "outputs": [
    {
     "name": "stdout",
     "output_type": "stream",
     "text": [
      "Values greater than 0: \n",
      "  [0.76623925 0.64600053 0.35358714 1.0801799  0.12401185 0.68964589\n",
      " 0.63723555 0.40334015 0.57232547 1.0902531  0.02800017 0.16321003]\n",
      "Values less than 0: \n",
      " [-1.31213026 -1.19627106 -0.62017967 -1.12080531 -0.58909086 -0.37653943\n",
      " -1.89493834 -1.64221988 -1.44005918 -0.26805288 -0.09981414 -0.49773025\n",
      " -1.30875886]\n"
     ]
    }
   ],
   "source": [
    "# accessing all the values of rand_mat which are greater than 0\n",
    "print('Values greater than 0: \\n ',rand_mat[rand_mat>0])\n",
    "\n",
    "# accessing all the values of rand_mat which are less than 0\n",
    "print('Values less than 0: \\n',rand_mat[rand_mat<0])"
   ]
  },
  {
   "cell_type": "markdown",
   "metadata": {},
   "source": [
    "**Modifying entries of an array**"
   ]
  },
  {
   "cell_type": "code",
   "execution_count": 147,
   "metadata": {},
   "outputs": [
    {
     "name": "stdout",
     "output_type": "stream",
     "text": [
      "[ 0.1869693  -0.14165787  0.18763621  5.          5.          0.08944631\n",
      " -1.34199507  2.2131202  -0.62200716 -0.31182739]\n"
     ]
    }
   ],
   "source": [
    "# let's change some values in an array!\n",
    "# changing the values of index value 3 and index value 4 to 5\n",
    "rand_arr[3:5] = 5\n",
    "print(rand_arr)"
   ]
  },
  {
   "cell_type": "code",
   "execution_count": 148,
   "metadata": {},
   "outputs": [
    {
     "name": "stdout",
     "output_type": "stream",
     "text": [
      "[ 2.          3.          0.18763621  5.          5.          0.08944631\n",
      " -1.34199507  2.2131202  -0.62200716 -0.31182739]\n"
     ]
    }
   ],
   "source": [
    "# changing the values of index value 0 and index value 1 to 2 and 3 respectively\n",
    "rand_arr[0:2] = [2,3]\n",
    "print(rand_arr)"
   ]
  },
  {
   "cell_type": "code",
   "execution_count": 149,
   "metadata": {},
   "outputs": [
    {
     "data": {
      "text/plain": [
       "array([65.        , 65.        , 65.        , 65.        , 65.        ,\n",
       "       65.        , -1.34199507, 65.        , -0.62200716, -0.31182739])"
      ]
     },
     "execution_count": 149,
     "metadata": {},
     "output_type": "execute_result"
    }
   ],
   "source": [
    "# modify entries using logical references\n",
    "rand_arr[rand_arr>0] = 65\n",
    "rand_arr"
   ]
  },
  {
   "cell_type": "markdown",
   "metadata": {},
   "source": [
    "***Modify matix entities***"
   ]
  },
  {
   "cell_type": "code",
   "execution_count": 158,
   "metadata": {},
   "outputs": [
    {
     "name": "stdout",
     "output_type": "stream",
     "text": [
      "[4 1 4 2 4 3 2 1 2 2]\n",
      "[[2 5 7 7 3]\n",
      " [2 9 9 2 8]\n",
      " [3 9 3 4 9]\n",
      " [9 5 5 9 7]\n",
      " [1 5 5 9 6]]\n"
     ]
    }
   ],
   "source": [
    "# Generating random values in an array\n",
    "rand_mat3 = np.random.randint(1,5,10)\n",
    "print(rand_mat3)\n",
    "\n",
    "# Generating random values in a matrix\n",
    "rand_mat3 = np.random.randint(1,10,[5,5])\n",
    "print(rand_mat3)"
   ]
  },
  {
   "cell_type": "code",
   "execution_count": 159,
   "metadata": {},
   "outputs": [
    {
     "name": "stdout",
     "output_type": "stream",
     "text": [
      "Matrix before modification: \n",
      " [[2 5 7 7 3]\n",
      " [2 9 9 2 8]\n",
      " [3 9 3 4 9]\n",
      " [9 5 5 9 7]\n",
      " [1 5 5 9 6]]\n",
      "Matrix after modification: \n",
      " [[2 5 7 7 3]\n",
      " [2 9 9 0 0]\n",
      " [3 9 3 0 0]\n",
      " [9 5 5 9 7]\n",
      " [1 5 5 9 6]]\n"
     ]
    }
   ],
   "source": [
    "# changing the values of the 4th and 5th element of the second and third rows of the matrix to 0\n",
    "print('Matrix before modification: \\n',rand_mat3)\n",
    "rand_mat3[1:3,3:5] = 0\n",
    "print('Matrix after modification: \\n',rand_mat3)"
   ]
  },
  {
   "cell_type": "code",
   "execution_count": 161,
   "metadata": {},
   "outputs": [
    {
     "name": "stdout",
     "output_type": "stream",
     "text": [
      "[[-1.31213026  0.76623925 -1.19627106]\n",
      " [-1.12080531 -0.58909086  0.35358714]]\n",
      "[[-1.31213026  0.76623925 -1.19627106  0.64600053 -0.62017967]\n",
      " [-1.12080531 -0.58909086  0.35358714 -0.37653943  1.0801799 ]\n",
      " [-1.89493834  0.12401185  0.68964589 -1.64221988 -1.44005918]\n",
      " [-0.26805288 -0.09981414 -0.49773025  0.63723555  0.40334015]\n",
      " [-1.30875886  0.57232547  1.0902531   0.02800017  0.16321003]]\n"
     ]
    }
   ],
   "source": [
    "# extracting the first 2 rows and first 3 columns from the matrix\n",
    "sub_mat = rand_mat[0:2,0:3]\n",
    "print(sub_mat)\n",
    "print(rand_mat)"
   ]
  },
  {
   "cell_type": "code",
   "execution_count": 162,
   "metadata": {},
   "outputs": [
    {
     "name": "stdout",
     "output_type": "stream",
     "text": [
      "[[3. 3. 3.]\n",
      " [3. 3. 3.]]\n",
      "[[ 3.          3.          3.          0.64600053 -0.62017967]\n",
      " [ 3.          3.          3.         -0.37653943  1.0801799 ]\n",
      " [-1.89493834  0.12401185  0.68964589 -1.64221988 -1.44005918]\n",
      " [-0.26805288 -0.09981414 -0.49773025  0.63723555  0.40334015]\n",
      " [-1.30875886  0.57232547  1.0902531   0.02800017  0.16321003]]\n"
     ]
    }
   ],
   "source": [
    "# changing all the values of the extracted matrix to 3\n",
    "sub_mat[:] = 3\n",
    "print(sub_mat)\n",
    "print(rand_mat)"
   ]
  },
  {
   "cell_type": "code",
   "execution_count": 165,
   "metadata": {},
   "outputs": [
    {
     "name": "stdout",
     "output_type": "stream",
     "text": [
      "Ran mat init\n",
      " [[-1.49531282  0.03415959 -0.21380921  0.32174969  0.59968743]\n",
      " [-0.18741669 -0.70185737 -1.09807461 -1.06753011 -1.43458375]\n",
      " [ 2.04222359  1.18777385 -0.23271279  0.56554057 -0.64556264]\n",
      " [ 0.14919126 -1.98126024  0.0353187   0.89143227 -0.69400569]\n",
      " [-0.65447314 -0.35131833  1.11218198  0.00649183 -1.25222383]]\n",
      "\n",
      "Gent sub mat\n",
      " [[-1.49531282  0.03415959 -0.21380921]\n",
      " [-0.18741669 -0.70185737 -1.09807461]]\n",
      "\n",
      "Manipulate sub mat\n",
      " [[3. 3. 3.]\n",
      " [3. 3. 3.]]\n",
      "\n",
      "Afrer manipulation\n",
      " [[-1.49531282  0.03415959 -0.21380921  0.32174969  0.59968743]\n",
      " [-0.18741669 -0.70185737 -1.09807461 -1.06753011 -1.43458375]\n",
      " [ 2.04222359  1.18777385 -0.23271279  0.56554057 -0.64556264]\n",
      " [ 0.14919126 -1.98126024  0.0353187   0.89143227 -0.69400569]\n",
      " [-0.65447314 -0.35131833  1.11218198  0.00649183 -1.25222383]]\n"
     ]
    }
   ],
   "source": [
    "# to prevent this behavior we need to use the .copy() method when we assign sub_mat\n",
    "# this behavior is the source of MANY errors for early python users!!!\n",
    "\n",
    "rand_mat = np.random.randn(5,5)\n",
    "print('Ran mat init\\n',rand_mat)\n",
    "sub_mat = rand_mat[0:2,0:3].copy()\n",
    "print('\\nGent sub mat\\n',sub_mat)\n",
    "sub_mat[:] = 3\n",
    "print('\\nManipulate sub mat\\n', sub_mat)\n",
    "print('\\nAfrer manipulation\\n', rand_mat)"
   ]
  },
  {
   "cell_type": "code",
   "execution_count": 166,
   "metadata": {},
   "outputs": [
    {
     "ename": "OSError",
     "evalue": "[Errno 30] Read-only file system: 'matdata.txt.npy'",
     "output_type": "error",
     "traceback": [
      "\u001b[0;31m---------------------------------------------------------------------------\u001b[0m",
      "\u001b[0;31mOSError\u001b[0m                                   Traceback (most recent call last)",
      "Cell \u001b[0;32mIn[166], line 1\u001b[0m\n\u001b[0;32m----> 1\u001b[0m np\u001b[38;5;241m.\u001b[39msave(\u001b[38;5;124m'\u001b[39m\u001b[38;5;124mmatdata.txt\u001b[39m\u001b[38;5;124m'\u001b[39m,rand_mat)\n",
      "File \u001b[0;32m<__array_function__ internals>:200\u001b[0m, in \u001b[0;36msave\u001b[0;34m(*args, **kwargs)\u001b[0m\n",
      "File \u001b[0;32m/Applications/anaconda3/lib/python3.11/site-packages/numpy/lib/npyio.py:518\u001b[0m, in \u001b[0;36msave\u001b[0;34m(file, arr, allow_pickle, fix_imports)\u001b[0m\n\u001b[1;32m    516\u001b[0m     \u001b[38;5;28;01mif\u001b[39;00m \u001b[38;5;129;01mnot\u001b[39;00m file\u001b[38;5;241m.\u001b[39mendswith(\u001b[38;5;124m'\u001b[39m\u001b[38;5;124m.npy\u001b[39m\u001b[38;5;124m'\u001b[39m):\n\u001b[1;32m    517\u001b[0m         file \u001b[38;5;241m=\u001b[39m file \u001b[38;5;241m+\u001b[39m \u001b[38;5;124m'\u001b[39m\u001b[38;5;124m.npy\u001b[39m\u001b[38;5;124m'\u001b[39m\n\u001b[0;32m--> 518\u001b[0m     file_ctx \u001b[38;5;241m=\u001b[39m \u001b[38;5;28mopen\u001b[39m(file, \u001b[38;5;124m\"\u001b[39m\u001b[38;5;124mwb\u001b[39m\u001b[38;5;124m\"\u001b[39m)\n\u001b[1;32m    520\u001b[0m \u001b[38;5;28;01mwith\u001b[39;00m file_ctx \u001b[38;5;28;01mas\u001b[39;00m fid:\n\u001b[1;32m    521\u001b[0m     arr \u001b[38;5;241m=\u001b[39m np\u001b[38;5;241m.\u001b[39masanyarray(arr)\n",
      "\u001b[0;31mOSError\u001b[0m: [Errno 30] Read-only file system: 'matdata.txt.npy'"
     ]
    }
   ],
   "source": [
    "np.save('matdata.txt',rand_mat)"
   ]
  },
  {
   "cell_type": "code",
   "execution_count": 167,
   "metadata": {},
   "outputs": [],
   "source": [
    "my_numpy_array = np.array([1, 2, 'hello', 3.14])"
   ]
  },
  {
   "cell_type": "code",
   "execution_count": 168,
   "metadata": {},
   "outputs": [
    {
     "name": "stdout",
     "output_type": "stream",
     "text": [
      "['Cricket' 'Football' 'Tennis' 'Golf' 'Baseball']\n"
     ]
    }
   ],
   "source": [
    "sports = ['Cricket', 'Football', 'Tennis', 'Golf', 'Baseball']\n",
    "sports_new = np.array(sports)\n",
    "print(sports_new)"
   ]
  },
  {
   "cell_type": "code",
   "execution_count": 169,
   "metadata": {},
   "outputs": [
    {
     "name": "stdout",
     "output_type": "stream",
     "text": [
      "[[1 2 1]\n",
      " [4 5 9]\n",
      " [1 8 9]]\n"
     ]
    }
   ],
   "source": [
    "mat = np.array([[1,2,1],[4,5,9],[1,8,9]])\n",
    "print(mat)"
   ]
  },
  {
   "cell_type": "code",
   "execution_count": 170,
   "metadata": {},
   "outputs": [
    {
     "name": "stdout",
     "output_type": "stream",
     "text": [
      "[10 13 16 19]\n"
     ]
    }
   ],
   "source": [
    "vec = np.arange(10, 20, 3)\n",
    "print(vec)"
   ]
  },
  {
   "cell_type": "code",
   "execution_count": 171,
   "metadata": {},
   "outputs": [
    {
     "name": "stdout",
     "output_type": "stream",
     "text": [
      "[10. 15. 20.]\n"
     ]
    }
   ],
   "source": [
    "vec = np.linspace(10,20,3)\n",
    "print(vec)"
   ]
  },
  {
   "cell_type": "code",
   "execution_count": 172,
   "metadata": {},
   "outputs": [
    {
     "name": "stdout",
     "output_type": "stream",
     "text": [
      "[[0. 0. 0.]\n",
      " [0. 0. 0.]]\n"
     ]
    }
   ],
   "source": [
    "vec = np.zeros([2,3])\n",
    "print(vec)"
   ]
  },
  {
   "cell_type": "code",
   "execution_count": 173,
   "metadata": {},
   "outputs": [
    {
     "name": "stdout",
     "output_type": "stream",
     "text": [
      "[[ 0  1  2]\n",
      " [ 3  4  5]\n",
      " [ 6  7  8]\n",
      " [ 9 10 11]]\n"
     ]
    }
   ],
   "source": [
    "vec1 = np.arange(0, 12)\n",
    "vec2 = vec1.reshape(4, 3)\n",
    "print(vec2)"
   ]
  },
  {
   "cell_type": "code",
   "execution_count": 179,
   "metadata": {},
   "outputs": [
    {
     "ename": "ValueError",
     "evalue": "operands could not be broadcast together with shapes (3,3) (2,5) ",
     "output_type": "error",
     "traceback": [
      "\u001b[0;31m---------------------------------------------------------------------------\u001b[0m",
      "\u001b[0;31mValueError\u001b[0m                                Traceback (most recent call last)",
      "Cell \u001b[0;32mIn[179], line 4\u001b[0m\n\u001b[1;32m      1\u001b[0m mat1 \u001b[38;5;241m=\u001b[39m np\u001b[38;5;241m.\u001b[39marange(\u001b[38;5;241m10\u001b[39m)\u001b[38;5;241m.\u001b[39mreshape(\u001b[38;5;241m2\u001b[39m, \u001b[38;5;241m5\u001b[39m)\n\u001b[1;32m      2\u001b[0m mat2 \u001b[38;5;241m=\u001b[39m np\u001b[38;5;241m.\u001b[39marange(\u001b[38;5;241m9\u001b[39m)\u001b[38;5;241m.\u001b[39mreshape(\u001b[38;5;241m3\u001b[39m,\u001b[38;5;241m3\u001b[39m)\n\u001b[0;32m----> 4\u001b[0m mat2 \u001b[38;5;241m*\u001b[39m mat1\n",
      "\u001b[0;31mValueError\u001b[0m: operands could not be broadcast together with shapes (3,3) (2,5) "
     ]
    }
   ],
   "source": [
    "mat1 = np.arange(10).reshape(2, 5)\n",
    "mat2 = np.arange(9).reshape(3,3)\n",
    "\n",
    "mat2 * mat1"
   ]
  },
  {
   "cell_type": "code",
   "execution_count": 180,
   "metadata": {},
   "outputs": [
    {
     "name": "stdout",
     "output_type": "stream",
     "text": [
      "[10, 15, 20, 15, 25, 35]\n"
     ]
    }
   ],
   "source": [
    "vec1 = [10,15,20]\n",
    "vec2 = [15,25,35]\n",
    "print(vec1+vec2)"
   ]
  },
  {
   "cell_type": "code",
   "execution_count": 183,
   "metadata": {},
   "outputs": [
    {
     "name": "stdout",
     "output_type": "stream",
     "text": [
      "[20. 30. 40. 50.] [100. 110. 120.]\n"
     ]
    },
    {
     "ename": "ValueError",
     "evalue": "operands could not be broadcast together with shapes (4,) (3,) ",
     "output_type": "error",
     "traceback": [
      "\u001b[0;31m---------------------------------------------------------------------------\u001b[0m",
      "\u001b[0;31mValueError\u001b[0m                                Traceback (most recent call last)",
      "Cell \u001b[0;32mIn[183], line 4\u001b[0m\n\u001b[1;32m      2\u001b[0m vec2 \u001b[38;5;241m=\u001b[39m np\u001b[38;5;241m.\u001b[39mlinspace(\u001b[38;5;241m100\u001b[39m,\u001b[38;5;241m120\u001b[39m,\u001b[38;5;241m3\u001b[39m)\n\u001b[1;32m      3\u001b[0m \u001b[38;5;28mprint\u001b[39m(vec1, vec2)\n\u001b[0;32m----> 4\u001b[0m \u001b[38;5;28mprint\u001b[39m(vec1 \u001b[38;5;241m+\u001b[39m vec2)\n",
      "\u001b[0;31mValueError\u001b[0m: operands could not be broadcast together with shapes (4,) (3,) "
     ]
    }
   ],
   "source": [
    "vec1 = np.linspace(20,50,4)\n",
    "vec2 = np.linspace(100,120,3)\n",
    "print(vec1, vec2)\n",
    "print(vec1 + vec2)"
   ]
  },
  {
   "cell_type": "code",
   "execution_count": 184,
   "metadata": {},
   "outputs": [
    {
     "name": "stdout",
     "output_type": "stream",
     "text": [
      "[0.5        0.33333333 0.25      ]\n",
      "[ 4  9 16]\n"
     ]
    }
   ],
   "source": [
    "vec = np.arange(2,5,1)\n",
    "print(1/vec)\n",
    "print(vec**2)"
   ]
  },
  {
   "cell_type": "code",
   "execution_count": 185,
   "metadata": {},
   "outputs": [
    {
     "name": "stdout",
     "output_type": "stream",
     "text": [
      "[[ 1. inf]\n",
      " [inf  4.]]\n"
     ]
    },
    {
     "name": "stderr",
     "output_type": "stream",
     "text": [
      "/var/folders/hn/gtr1m4r92597m52h_j8yq2c00000gn/T/ipykernel_33086/3306162440.py:3: RuntimeWarning: divide by zero encountered in divide\n",
      "  print(mat1/mat2)\n"
     ]
    }
   ],
   "source": [
    "mat1 = np.arange(1,5).reshape(2,2)\n",
    "mat2 = np.eye(2)\n",
    "print(mat1/mat2)"
   ]
  },
  {
   "cell_type": "code",
   "execution_count": 186,
   "metadata": {},
   "outputs": [
    {
     "name": "stdout",
     "output_type": "stream",
     "text": [
      "-9\n",
      "-1\n"
     ]
    }
   ],
   "source": [
    "mat1 = np.arange(-9,0,1).reshape(3,3)\n",
    "print(np.min(mat1))\n",
    "print(np.max(mat1))"
   ]
  },
  {
   "cell_type": "code",
   "execution_count": 187,
   "metadata": {},
   "outputs": [
    {
     "name": "stdout",
     "output_type": "stream",
     "text": [
      "5\n"
     ]
    }
   ],
   "source": [
    "matrix = np.array([[1,2,3],[4,5,6],[7,8,9]])\n",
    "print(matrix[1][1])"
   ]
  },
  {
   "cell_type": "code",
   "execution_count": 188,
   "metadata": {},
   "outputs": [
    {
     "name": "stdout",
     "output_type": "stream",
     "text": [
      "[ 7  8  9 10]\n"
     ]
    }
   ],
   "source": [
    "vec = np.array([4,7,8,9,10,6,1])\n",
    "print(vec[vec>6])"
   ]
  },
  {
   "cell_type": "code",
   "execution_count": 189,
   "metadata": {},
   "outputs": [
    {
     "name": "stdout",
     "output_type": "stream",
     "text": [
      "[4 2 2 2 2 6 1]\n"
     ]
    }
   ],
   "source": [
    "vec1 = np.array([4, 7, 8, 9, 10, 6, 1])\n",
    "vec1[vec1>6] = 2\n",
    "print(vec1)"
   ]
  },
  {
   "cell_type": "code",
   "execution_count": 190,
   "metadata": {},
   "outputs": [
    {
     "name": "stdout",
     "output_type": "stream",
     "text": [
      "[[1 0 3]\n",
      " [4 0 6]\n",
      " [7 8 9]]\n"
     ]
    }
   ],
   "source": [
    "matrix = np.arange(1,10).reshape(3,3)\n",
    "matrix[0:2,1:2] = 0\n",
    "print(matrix)"
   ]
  },
  {
   "cell_type": "code",
   "execution_count": 193,
   "metadata": {},
   "outputs": [
    {
     "name": "stdout",
     "output_type": "stream",
     "text": [
      "[[1 2 3]\n",
      " [4 5 6]\n",
      " [7 8 9]]\n",
      "[[1 2 3]\n",
      " [4 5 6]\n",
      " [7 8 9]]\n",
      "[[  1 100   3]\n",
      " [  4   5   6]\n",
      " [  7   8   9]]\n",
      "[[  1 100   3]\n",
      " [  4   5   6]\n",
      " [  7   8   9]]\n"
     ]
    }
   ],
   "source": [
    "array1 = np.array([[1,2,3],[4,5,6],[7,8,9]])\n",
    "array2 = array1\n",
    "\n",
    "print(array1)\n",
    "print(array2)\n",
    "\n",
    "array2[0,1] = 100\n",
    "\n",
    "print(array1)\n",
    "print(array2)"
   ]
  },
  {
   "cell_type": "code",
   "execution_count": 206,
   "metadata": {},
   "outputs": [
    {
     "data": {
      "text/html": [
       "<div>\n",
       "<style scoped>\n",
       "    .dataframe tbody tr th:only-of-type {\n",
       "        vertical-align: middle;\n",
       "    }\n",
       "\n",
       "    .dataframe tbody tr th {\n",
       "        vertical-align: top;\n",
       "    }\n",
       "\n",
       "    .dataframe thead th {\n",
       "        text-align: right;\n",
       "    }\n",
       "</style>\n",
       "<table border=\"1\" class=\"dataframe\">\n",
       "  <thead>\n",
       "    <tr style=\"text-align: right;\">\n",
       "      <th></th>\n",
       "    </tr>\n",
       "  </thead>\n",
       "  <tbody>\n",
       "  </tbody>\n",
       "</table>\n",
       "</div>"
      ],
      "text/plain": [
       "Empty DataFrame\n",
       "Columns: []\n",
       "Index: []"
      ]
     },
     "execution_count": 206,
     "metadata": {},
     "output_type": "execute_result"
    }
   ],
   "source": [
    "import pandas as pd\n",
    "pd.DataFrame() #- works with pandas\n",
    "# pd.Dataframe() - Error\n",
    "# pd.dataframe()\n",
    "#pd.DATAFRAME()\n"
   ]
  },
  {
   "cell_type": "code",
   "execution_count": 209,
   "metadata": {},
   "outputs": [
    {
     "data": {
      "text/plain": [
       "day1    31\n",
       "day2    28\n",
       "dtype: int64"
      ]
     },
     "execution_count": 209,
     "metadata": {},
     "output_type": "execute_result"
    }
   ],
   "source": [
    "day = ['day1', 'day2', 'day3', 'day4']\n",
    "temperature = [31, 28, 30, 32] #temperature in degree Celsius\n",
    "temp_data = pd.Series(temperature, index=day)\n",
    "temp_data[:2]"
   ]
  },
  {
   "cell_type": "code",
   "execution_count": 210,
   "metadata": {},
   "outputs": [
    {
     "data": {
      "text/plain": [
       "30"
      ]
     },
     "execution_count": 210,
     "metadata": {},
     "output_type": "execute_result"
    }
   ],
   "source": [
    "temp_data['day3']"
   ]
  },
  {
   "cell_type": "code",
   "execution_count": 212,
   "metadata": {},
   "outputs": [
    {
     "data": {
      "text/plain": [
       "day3    30\n",
       "day4    32\n",
       "dtype: int64"
      ]
     },
     "execution_count": 212,
     "metadata": {},
     "output_type": "execute_result"
    }
   ],
   "source": [
    "temp_data[2:]"
   ]
  },
  {
   "cell_type": "code",
   "execution_count": 214,
   "metadata": {},
   "outputs": [
    {
     "data": {
      "text/html": [
       "<div>\n",
       "<style scoped>\n",
       "    .dataframe tbody tr th:only-of-type {\n",
       "        vertical-align: middle;\n",
       "    }\n",
       "\n",
       "    .dataframe tbody tr th {\n",
       "        vertical-align: top;\n",
       "    }\n",
       "\n",
       "    .dataframe thead th {\n",
       "        text-align: right;\n",
       "    }\n",
       "</style>\n",
       "<table border=\"1\" class=\"dataframe\">\n",
       "  <thead>\n",
       "    <tr style=\"text-align: right;\">\n",
       "      <th></th>\n",
       "      <th>day</th>\n",
       "      <th>calories</th>\n",
       "      <th>duration_min</th>\n",
       "    </tr>\n",
       "  </thead>\n",
       "  <tbody>\n",
       "    <tr>\n",
       "      <th>0</th>\n",
       "      <td>day1</td>\n",
       "      <td>450</td>\n",
       "      <td>30</td>\n",
       "    </tr>\n",
       "    <tr>\n",
       "      <th>1</th>\n",
       "      <td>day2</td>\n",
       "      <td>300</td>\n",
       "      <td>25</td>\n",
       "    </tr>\n",
       "  </tbody>\n",
       "</table>\n",
       "</div>"
      ],
      "text/plain": [
       "    day  calories  duration_min\n",
       "0  day1       450            30\n",
       "1  day2       300            25"
      ]
     },
     "execution_count": 214,
     "metadata": {},
     "output_type": "execute_result"
    }
   ],
   "source": [
    "calorie_data = pd.DataFrame({'day': ['day1','day2','day3','day4','day5']\n",
    "                           ,'calories': [450, 300, 345, 520, 600]\n",
    "                           ,'duration_min': [30, 25, 29, 39, 48]\n",
    "                           })\n",
    "calorie_data[:2]"
   ]
  },
  {
   "cell_type": "code",
   "execution_count": 216,
   "metadata": {},
   "outputs": [
    {
     "data": {
      "text/plain": [
       "0    450\n",
       "1    300\n",
       "2    345\n",
       "3    520\n",
       "4    600\n",
       "Name: calories, dtype: int64"
      ]
     },
     "execution_count": 216,
     "metadata": {},
     "output_type": "execute_result"
    }
   ],
   "source": [
    "calorie_data['calories']"
   ]
  },
  {
   "cell_type": "code",
   "execution_count": 217,
   "metadata": {},
   "outputs": [
    {
     "data": {
      "text/html": [
       "<div>\n",
       "<style scoped>\n",
       "    .dataframe tbody tr th:only-of-type {\n",
       "        vertical-align: middle;\n",
       "    }\n",
       "\n",
       "    .dataframe tbody tr th {\n",
       "        vertical-align: top;\n",
       "    }\n",
       "\n",
       "    .dataframe thead th {\n",
       "        text-align: right;\n",
       "    }\n",
       "</style>\n",
       "<table border=\"1\" class=\"dataframe\">\n",
       "  <thead>\n",
       "    <tr style=\"text-align: right;\">\n",
       "      <th></th>\n",
       "      <th>day</th>\n",
       "      <th>calories</th>\n",
       "      <th>duration_min</th>\n",
       "    </tr>\n",
       "  </thead>\n",
       "  <tbody>\n",
       "    <tr>\n",
       "      <th>0</th>\n",
       "      <td>day1</td>\n",
       "      <td>450</td>\n",
       "      <td>30</td>\n",
       "    </tr>\n",
       "    <tr>\n",
       "      <th>2</th>\n",
       "      <td>day3</td>\n",
       "      <td>345</td>\n",
       "      <td>29</td>\n",
       "    </tr>\n",
       "    <tr>\n",
       "      <th>4</th>\n",
       "      <td>day5</td>\n",
       "      <td>600</td>\n",
       "      <td>48</td>\n",
       "    </tr>\n",
       "  </tbody>\n",
       "</table>\n",
       "</div>"
      ],
      "text/plain": [
       "    day  calories  duration_min\n",
       "0  day1       450            30\n",
       "2  day3       345            29\n",
       "4  day5       600            48"
      ]
     },
     "execution_count": 217,
     "metadata": {},
     "output_type": "execute_result"
    }
   ],
   "source": [
    "calorie_data[::2]"
   ]
  },
  {
   "cell_type": "code",
   "execution_count": 222,
   "metadata": {},
   "outputs": [
    {
     "data": {
      "text/plain": [
       "day             day1\n",
       "calories         450\n",
       "duration_min      30\n",
       "Name: 0, dtype: object"
      ]
     },
     "execution_count": 222,
     "metadata": {},
     "output_type": "execute_result"
    }
   ],
   "source": [
    "calorie_data = pd.DataFrame({'day': ['day1','day2','day3','day4','day5']\n",
    "                           ,'calories': [450, 300, 345, 520, 600]\n",
    "                           ,'duration_min': [30, 25, 29, 39, 48]\n",
    "                           })\n",
    "calorie_data.loc[0]"
   ]
  },
  {
   "cell_type": "code",
   "execution_count": 223,
   "metadata": {},
   "outputs": [
    {
     "data": {
      "text/html": [
       "<div>\n",
       "<style scoped>\n",
       "    .dataframe tbody tr th:only-of-type {\n",
       "        vertical-align: middle;\n",
       "    }\n",
       "\n",
       "    .dataframe tbody tr th {\n",
       "        vertical-align: top;\n",
       "    }\n",
       "\n",
       "    .dataframe thead th {\n",
       "        text-align: right;\n",
       "    }\n",
       "</style>\n",
       "<table border=\"1\" class=\"dataframe\">\n",
       "  <thead>\n",
       "    <tr style=\"text-align: right;\">\n",
       "      <th></th>\n",
       "      <th>calories</th>\n",
       "    </tr>\n",
       "  </thead>\n",
       "  <tbody>\n",
       "    <tr>\n",
       "      <th>1</th>\n",
       "      <td>300</td>\n",
       "    </tr>\n",
       "    <tr>\n",
       "      <th>2</th>\n",
       "      <td>345</td>\n",
       "    </tr>\n",
       "  </tbody>\n",
       "</table>\n",
       "</div>"
      ],
      "text/plain": [
       "   calories\n",
       "1       300\n",
       "2       345"
      ]
     },
     "execution_count": 223,
     "metadata": {},
     "output_type": "execute_result"
    }
   ],
   "source": [
    "\n",
    "calorie_data.iloc[[1,2],[1]]\n",
    "\n",
    " "
   ]
  },
  {
   "cell_type": "code",
   "execution_count": 224,
   "metadata": {},
   "outputs": [
    {
     "data": {
      "text/html": [
       "<div>\n",
       "<style scoped>\n",
       "    .dataframe tbody tr th:only-of-type {\n",
       "        vertical-align: middle;\n",
       "    }\n",
       "\n",
       "    .dataframe tbody tr th {\n",
       "        vertical-align: top;\n",
       "    }\n",
       "\n",
       "    .dataframe thead th {\n",
       "        text-align: right;\n",
       "    }\n",
       "</style>\n",
       "<table border=\"1\" class=\"dataframe\">\n",
       "  <thead>\n",
       "    <tr style=\"text-align: right;\">\n",
       "      <th></th>\n",
       "      <th>calories</th>\n",
       "    </tr>\n",
       "  </thead>\n",
       "  <tbody>\n",
       "    <tr>\n",
       "      <th>1</th>\n",
       "      <td>300</td>\n",
       "    </tr>\n",
       "    <tr>\n",
       "      <th>2</th>\n",
       "      <td>345</td>\n",
       "    </tr>\n",
       "  </tbody>\n",
       "</table>\n",
       "</div>"
      ],
      "text/plain": [
       "   calories\n",
       "1       300\n",
       "2       345"
      ]
     },
     "execution_count": 224,
     "metadata": {},
     "output_type": "execute_result"
    }
   ],
   "source": [
    " calorie_data.loc[[1,2],['calories']]"
   ]
  },
  {
   "cell_type": "code",
   "execution_count": 225,
   "metadata": {},
   "outputs": [
    {
     "data": {
      "text/html": [
       "<div>\n",
       "<style scoped>\n",
       "    .dataframe tbody tr th:only-of-type {\n",
       "        vertical-align: middle;\n",
       "    }\n",
       "\n",
       "    .dataframe tbody tr th {\n",
       "        vertical-align: top;\n",
       "    }\n",
       "\n",
       "    .dataframe thead th {\n",
       "        text-align: right;\n",
       "    }\n",
       "</style>\n",
       "<table border=\"1\" class=\"dataframe\">\n",
       "  <thead>\n",
       "    <tr style=\"text-align: right;\">\n",
       "      <th></th>\n",
       "      <th>day</th>\n",
       "      <th>calories</th>\n",
       "      <th>duration_min</th>\n",
       "    </tr>\n",
       "  </thead>\n",
       "  <tbody>\n",
       "    <tr>\n",
       "      <th>0</th>\n",
       "      <td>day1</td>\n",
       "      <td>450</td>\n",
       "      <td>30</td>\n",
       "    </tr>\n",
       "    <tr>\n",
       "      <th>1</th>\n",
       "      <td>day2</td>\n",
       "      <td>300</td>\n",
       "      <td>25</td>\n",
       "    </tr>\n",
       "    <tr>\n",
       "      <th>2</th>\n",
       "      <td>day3</td>\n",
       "      <td>345</td>\n",
       "      <td>29</td>\n",
       "    </tr>\n",
       "    <tr>\n",
       "      <th>3</th>\n",
       "      <td>day4</td>\n",
       "      <td>520</td>\n",
       "      <td>39</td>\n",
       "    </tr>\n",
       "    <tr>\n",
       "      <th>4</th>\n",
       "      <td>day5</td>\n",
       "      <td>600</td>\n",
       "      <td>48</td>\n",
       "    </tr>\n",
       "  </tbody>\n",
       "</table>\n",
       "</div>"
      ],
      "text/plain": [
       "    day  calories  duration_min\n",
       "0  day1       450            30\n",
       "1  day2       300            25\n",
       "2  day3       345            29\n",
       "3  day4       520            39\n",
       "4  day5       600            48"
      ]
     },
     "execution_count": 225,
     "metadata": {},
     "output_type": "execute_result"
    }
   ],
   "source": [
    "calorie_data = pd.DataFrame({'day': ['day1','day2','day3','day4','day5']\n",
    "                           ,'calories': [450, 300, 345, 520, 600]\n",
    "                           ,'duration_min': [30, 25, 29, 39, 48]\n",
    "                           })\n",
    "calorie_data"
   ]
  },
  {
   "cell_type": "code",
   "execution_count": 226,
   "metadata": {},
   "outputs": [
    {
     "data": {
      "text/html": [
       "<div>\n",
       "<style scoped>\n",
       "    .dataframe tbody tr th:only-of-type {\n",
       "        vertical-align: middle;\n",
       "    }\n",
       "\n",
       "    .dataframe tbody tr th {\n",
       "        vertical-align: top;\n",
       "    }\n",
       "\n",
       "    .dataframe thead th {\n",
       "        text-align: right;\n",
       "    }\n",
       "</style>\n",
       "<table border=\"1\" class=\"dataframe\">\n",
       "  <thead>\n",
       "    <tr style=\"text-align: right;\">\n",
       "      <th></th>\n",
       "      <th>day</th>\n",
       "      <th>calories</th>\n",
       "      <th>duration_min</th>\n",
       "    </tr>\n",
       "  </thead>\n",
       "  <tbody>\n",
       "    <tr>\n",
       "      <th>3</th>\n",
       "      <td>day4</td>\n",
       "      <td>520</td>\n",
       "      <td>39</td>\n",
       "    </tr>\n",
       "    <tr>\n",
       "      <th>4</th>\n",
       "      <td>day5</td>\n",
       "      <td>600</td>\n",
       "      <td>48</td>\n",
       "    </tr>\n",
       "  </tbody>\n",
       "</table>\n",
       "</div>"
      ],
      "text/plain": [
       "    day  calories  duration_min\n",
       "3  day4       520            39\n",
       "4  day5       600            48"
      ]
     },
     "execution_count": 226,
     "metadata": {},
     "output_type": "execute_result"
    }
   ],
   "source": [
    "calorie_data.loc[calorie_data['calories']>500]"
   ]
  },
  {
   "cell_type": "code",
   "execution_count": 228,
   "metadata": {},
   "outputs": [
    {
     "data": {
      "text/html": [
       "<div>\n",
       "<style scoped>\n",
       "    .dataframe tbody tr th:only-of-type {\n",
       "        vertical-align: middle;\n",
       "    }\n",
       "\n",
       "    .dataframe tbody tr th {\n",
       "        vertical-align: top;\n",
       "    }\n",
       "\n",
       "    .dataframe thead th {\n",
       "        text-align: right;\n",
       "    }\n",
       "</style>\n",
       "<table border=\"1\" class=\"dataframe\">\n",
       "  <thead>\n",
       "    <tr style=\"text-align: right;\">\n",
       "      <th></th>\n",
       "      <th>day</th>\n",
       "      <th>calories</th>\n",
       "    </tr>\n",
       "  </thead>\n",
       "  <tbody>\n",
       "    <tr>\n",
       "      <th>0</th>\n",
       "      <td>day1</td>\n",
       "      <td>450</td>\n",
       "    </tr>\n",
       "    <tr>\n",
       "      <th>1</th>\n",
       "      <td>day2</td>\n",
       "      <td>300</td>\n",
       "    </tr>\n",
       "    <tr>\n",
       "      <th>2</th>\n",
       "      <td>day3</td>\n",
       "      <td>345</td>\n",
       "    </tr>\n",
       "    <tr>\n",
       "      <th>3</th>\n",
       "      <td>day4</td>\n",
       "      <td>520</td>\n",
       "    </tr>\n",
       "    <tr>\n",
       "      <th>4</th>\n",
       "      <td>day5</td>\n",
       "      <td>600</td>\n",
       "    </tr>\n",
       "  </tbody>\n",
       "</table>\n",
       "</div>"
      ],
      "text/plain": [
       "    day  calories\n",
       "0  day1       450\n",
       "1  day2       300\n",
       "2  day3       345\n",
       "3  day4       520\n",
       "4  day5       600"
      ]
     },
     "execution_count": 228,
     "metadata": {},
     "output_type": "execute_result"
    }
   ],
   "source": [
    "calorie_data.drop('duration_min',axis=1)"
   ]
  },
  {
   "cell_type": "code",
   "execution_count": 231,
   "metadata": {},
   "outputs": [
    {
     "data": {
      "text/html": [
       "<div>\n",
       "<style scoped>\n",
       "    .dataframe tbody tr th:only-of-type {\n",
       "        vertical-align: middle;\n",
       "    }\n",
       "\n",
       "    .dataframe tbody tr th {\n",
       "        vertical-align: top;\n",
       "    }\n",
       "\n",
       "    .dataframe thead th {\n",
       "        text-align: right;\n",
       "    }\n",
       "</style>\n",
       "<table border=\"1\" class=\"dataframe\">\n",
       "  <thead>\n",
       "    <tr style=\"text-align: right;\">\n",
       "      <th></th>\n",
       "      <th>day</th>\n",
       "      <th>calories</th>\n",
       "      <th>duration_min</th>\n",
       "    </tr>\n",
       "  </thead>\n",
       "  <tbody>\n",
       "    <tr>\n",
       "      <th>0</th>\n",
       "      <td>day1</td>\n",
       "      <td>450</td>\n",
       "      <td>30</td>\n",
       "    </tr>\n",
       "    <tr>\n",
       "      <th>1</th>\n",
       "      <td>day2</td>\n",
       "      <td>300</td>\n",
       "      <td>25</td>\n",
       "    </tr>\n",
       "    <tr>\n",
       "      <th>2</th>\n",
       "      <td>day3</td>\n",
       "      <td>345</td>\n",
       "      <td>29</td>\n",
       "    </tr>\n",
       "    <tr>\n",
       "      <th>3</th>\n",
       "      <td>day4</td>\n",
       "      <td>520</td>\n",
       "      <td>39</td>\n",
       "    </tr>\n",
       "    <tr>\n",
       "      <th>4</th>\n",
       "      <td>day5</td>\n",
       "      <td>600</td>\n",
       "      <td>48</td>\n",
       "    </tr>\n",
       "  </tbody>\n",
       "</table>\n",
       "</div>"
      ],
      "text/plain": [
       "    day  calories  duration_min\n",
       "0  day1       450            30\n",
       "1  day2       300            25\n",
       "2  day3       345            29\n",
       "3  day4       520            39\n",
       "4  day5       600            48"
      ]
     },
     "execution_count": 231,
     "metadata": {},
     "output_type": "execute_result"
    }
   ],
   "source": [
    "calorie_data"
   ]
  },
  {
   "cell_type": "code",
   "execution_count": 242,
   "metadata": {},
   "outputs": [
    {
     "data": {
      "text/plain": [
       "array([450, 300, 345, 520, 600])"
      ]
     },
     "execution_count": 242,
     "metadata": {},
     "output_type": "execute_result"
    }
   ],
   "source": [
    "calorie_data['calories'].unique()"
   ]
  },
  {
   "cell_type": "code",
   "execution_count": 245,
   "metadata": {},
   "outputs": [],
   "source": [
    "calorie_data[0,2] = 600"
   ]
  },
  {
   "cell_type": "code",
   "execution_count": 249,
   "metadata": {},
   "outputs": [],
   "source": [
    "calorie_data.loc[0,['calorie']] = 600"
   ]
  },
  {
   "cell_type": "code",
   "execution_count": 250,
   "metadata": {},
   "outputs": [
    {
     "data": {
      "text/html": [
       "<div>\n",
       "<style scoped>\n",
       "    .dataframe tbody tr th:only-of-type {\n",
       "        vertical-align: middle;\n",
       "    }\n",
       "\n",
       "    .dataframe tbody tr th {\n",
       "        vertical-align: top;\n",
       "    }\n",
       "\n",
       "    .dataframe thead th {\n",
       "        text-align: right;\n",
       "    }\n",
       "</style>\n",
       "<table border=\"1\" class=\"dataframe\">\n",
       "  <thead>\n",
       "    <tr style=\"text-align: right;\">\n",
       "      <th></th>\n",
       "      <th>day</th>\n",
       "      <th>calories</th>\n",
       "      <th>duration_min</th>\n",
       "      <th>(0, 2)</th>\n",
       "      <th>calorie</th>\n",
       "    </tr>\n",
       "  </thead>\n",
       "  <tbody>\n",
       "    <tr>\n",
       "      <th>0</th>\n",
       "      <td>day1</td>\n",
       "      <td>450</td>\n",
       "      <td>30</td>\n",
       "      <td>600</td>\n",
       "      <td>600.0</td>\n",
       "    </tr>\n",
       "    <tr>\n",
       "      <th>1</th>\n",
       "      <td>day2</td>\n",
       "      <td>300</td>\n",
       "      <td>25</td>\n",
       "      <td>600</td>\n",
       "      <td>NaN</td>\n",
       "    </tr>\n",
       "    <tr>\n",
       "      <th>2</th>\n",
       "      <td>day3</td>\n",
       "      <td>345</td>\n",
       "      <td>29</td>\n",
       "      <td>600</td>\n",
       "      <td>NaN</td>\n",
       "    </tr>\n",
       "    <tr>\n",
       "      <th>3</th>\n",
       "      <td>day4</td>\n",
       "      <td>520</td>\n",
       "      <td>39</td>\n",
       "      <td>600</td>\n",
       "      <td>NaN</td>\n",
       "    </tr>\n",
       "    <tr>\n",
       "      <th>4</th>\n",
       "      <td>day5</td>\n",
       "      <td>600</td>\n",
       "      <td>48</td>\n",
       "      <td>600</td>\n",
       "      <td>NaN</td>\n",
       "    </tr>\n",
       "  </tbody>\n",
       "</table>\n",
       "</div>"
      ],
      "text/plain": [
       "    day  calories  duration_min  (0, 2)  calorie\n",
       "0  day1       450            30     600    600.0\n",
       "1  day2       300            25     600      NaN\n",
       "2  day3       345            29     600      NaN\n",
       "3  day4       520            39     600      NaN\n",
       "4  day5       600            48     600      NaN"
      ]
     },
     "execution_count": 250,
     "metadata": {},
     "output_type": "execute_result"
    }
   ],
   "source": [
    "calorie_data"
   ]
  },
  {
   "cell_type": "code",
   "execution_count": 293,
   "metadata": {},
   "outputs": [
    {
     "data": {
      "text/plain": [
       "array([450, 300, 345, 520, 600])"
      ]
     },
     "execution_count": 293,
     "metadata": {},
     "output_type": "execute_result"
    }
   ],
   "source": [
    "calorie_data['calories'].unique()"
   ]
  },
  {
   "cell_type": "code",
   "execution_count": 270,
   "metadata": {},
   "outputs": [
    {
     "name": "stdout",
     "output_type": "stream",
     "text": [
      "2022-12-29\n"
     ]
    }
   ],
   "source": [
    "import datetime as dt\n",
    "data = dt.date(2022, 12, 29)\n",
    "print(data)"
   ]
  },
  {
   "cell_type": "code",
   "execution_count": 275,
   "metadata": {},
   "outputs": [
    {
     "ename": "TypeError",
     "evalue": "string indices must be integers, not 'str'",
     "output_type": "error",
     "traceback": [
      "\u001b[0;31m---------------------------------------------------------------------------\u001b[0m",
      "\u001b[0;31mTypeError\u001b[0m                                 Traceback (most recent call last)",
      "Cell \u001b[0;32mIn[275], line 2\u001b[0m\n\u001b[1;32m      1\u001b[0m dat \u001b[38;5;241m=\u001b[39m \u001b[38;5;124m'\u001b[39m\u001b[38;5;124m2023-12-12\u001b[39m\u001b[38;5;124m'\u001b[39m\n\u001b[0;32m----> 2\u001b[0m dat[\u001b[38;5;124m'\u001b[39m\u001b[38;5;124mdate\u001b[39m\u001b[38;5;124m'\u001b[39m]\u001b[38;5;241m.\u001b[39mdt\u001b[38;5;241m.\u001b[39mmonth\n",
      "\u001b[0;31mTypeError\u001b[0m: string indices must be integers, not 'str'"
     ]
    }
   ],
   "source": [
    "dat = '2023-12-12'\n",
    "dat['date'].dt.month"
   ]
  },
  {
   "cell_type": "code",
   "execution_count": 276,
   "metadata": {},
   "outputs": [
    {
     "data": {
      "text/plain": [
       "array([[35, 74],\n",
       "       [37, 37],\n",
       "       [39, 93]])"
      ]
     },
     "execution_count": 276,
     "metadata": {},
     "output_type": "execute_result"
    }
   ],
   "source": [
    "demo_matrix = np.array(([13,35,74,48], [23,37,37,38],[73,39,93,39]))\n",
    "demo_matrix[0:3, 1:3]"
   ]
  },
  {
   "cell_type": "code",
   "execution_count": 281,
   "metadata": {},
   "outputs": [
    {
     "data": {
      "text/plain": [
       "[1, 2, 3, 4, 5, 6, 7, 8, 9, 10]"
      ]
     },
     "execution_count": 281,
     "metadata": {},
     "output_type": "execute_result"
    }
   ],
   "source": [
    "demo_array = [1, 2, 3, 4, 5, 6, 7, 8, 9, 10]\n",
    "\n",
    "demo_array"
   ]
  },
  {
   "cell_type": "code",
   "execution_count": 285,
   "metadata": {},
   "outputs": [
    {
     "name": "stdout",
     "output_type": "stream",
     "text": [
      "[5, 8, 9, 10]\n"
     ]
    }
   ],
   "source": [
    "\n",
    "\n",
    "# Replace the first 7 elements with the value 5\n",
    "demo_array[:7] = [5] * 7\n",
    "\n",
    "print(demo_array)"
   ]
  },
  {
   "cell_type": "code",
   "execution_count": 288,
   "metadata": {},
   "outputs": [
    {
     "ename": "TypeError",
     "evalue": "can only assign an iterable",
     "output_type": "error",
     "traceback": [
      "\u001b[0;31m---------------------------------------------------------------------------\u001b[0m",
      "\u001b[0;31mTypeError\u001b[0m                                 Traceback (most recent call last)",
      "Cell \u001b[0;32mIn[288], line 3\u001b[0m\n\u001b[1;32m      1\u001b[0m demo_array \u001b[38;5;241m=\u001b[39m [\u001b[38;5;241m1\u001b[39m, \u001b[38;5;241m2\u001b[39m, \u001b[38;5;241m3\u001b[39m, \u001b[38;5;241m4\u001b[39m, \u001b[38;5;241m5\u001b[39m, \u001b[38;5;241m6\u001b[39m, \u001b[38;5;241m7\u001b[39m, \u001b[38;5;241m8\u001b[39m, \u001b[38;5;241m9\u001b[39m, \u001b[38;5;241m10\u001b[39m]\n\u001b[1;32m      2\u001b[0m \u001b[38;5;66;03m#demo_array[1:7] = 5\u001b[39;00m\n\u001b[0;32m----> 3\u001b[0m demo_array[\u001b[38;5;241m1\u001b[39m:\u001b[38;5;241m8\u001b[39m] \u001b[38;5;241m=\u001b[39m \u001b[38;5;241m5\u001b[39m\n",
      "\u001b[0;31mTypeError\u001b[0m: can only assign an iterable"
     ]
    }
   ],
   "source": [
    "demo_array = [1, 2, 3, 4, 5, 6, 7, 8, 9, 10]\n"
   ]
  },
  {
   "cell_type": "code",
   "execution_count": 289,
   "metadata": {},
   "outputs": [
    {
     "data": {
      "text/plain": [
       "array([ True,  True,  True, False, False, False, False, False, False,\n",
       "       False])"
      ]
     },
     "execution_count": 289,
     "metadata": {},
     "output_type": "execute_result"
    }
   ],
   "source": [
    "import numpy as np\n",
    "demo_array = np.arange(0,10)\n",
    "demo_array<3"
   ]
  },
  {
   "cell_type": "code",
   "execution_count": 290,
   "metadata": {},
   "outputs": [
    {
     "data": {
      "text/plain": [
       "5"
      ]
     },
     "execution_count": 290,
     "metadata": {},
     "output_type": "execute_result"
    }
   ],
   "source": [
    "flowers = pd.Series([2, 3, 5, 4], index=['lily', 'rose', 'daisy', 'lotus'])\n",
    "flowers['daisy']"
   ]
  },
  {
   "cell_type": "code",
   "execution_count": 301,
   "metadata": {},
   "outputs": [
    {
     "data": {
      "text/html": [
       "<div>\n",
       "<style scoped>\n",
       "    .dataframe tbody tr th:only-of-type {\n",
       "        vertical-align: middle;\n",
       "    }\n",
       "\n",
       "    .dataframe tbody tr th {\n",
       "        vertical-align: top;\n",
       "    }\n",
       "\n",
       "    .dataframe thead th {\n",
       "        text-align: right;\n",
       "    }\n",
       "</style>\n",
       "<table border=\"1\" class=\"dataframe\">\n",
       "  <thead>\n",
       "    <tr style=\"text-align: right;\">\n",
       "      <th></th>\n",
       "      <th>customer</th>\n",
       "      <th>catogery</th>\n",
       "      <th>important</th>\n",
       "      <th>sales</th>\n",
       "    </tr>\n",
       "  </thead>\n",
       "  <tbody>\n",
       "    <tr>\n",
       "      <th>0</th>\n",
       "      <td>101</td>\n",
       "      <td>cat1</td>\n",
       "      <td>yes</td>\n",
       "      <td>123</td>\n",
       "    </tr>\n",
       "    <tr>\n",
       "      <th>1</th>\n",
       "      <td>102</td>\n",
       "      <td>cat2</td>\n",
       "      <td>no</td>\n",
       "      <td>52</td>\n",
       "    </tr>\n",
       "    <tr>\n",
       "      <th>2</th>\n",
       "      <td>103</td>\n",
       "      <td>cat3</td>\n",
       "      <td>yes</td>\n",
       "      <td>214</td>\n",
       "    </tr>\n",
       "    <tr>\n",
       "      <th>3</th>\n",
       "      <td>104</td>\n",
       "      <td>cat4</td>\n",
       "      <td>no</td>\n",
       "      <td>663</td>\n",
       "    </tr>\n",
       "  </tbody>\n",
       "</table>\n",
       "</div>"
      ],
      "text/plain": [
       "   customer catogery important  sales\n",
       "0       101     cat1       yes    123\n",
       "1       102     cat2        no     52\n",
       "2       103     cat3       yes    214\n",
       "3       104     cat4        no    663"
      ]
     },
     "execution_count": 301,
     "metadata": {},
     "output_type": "execute_result"
    }
   ],
   "source": [
    "data_customer = pd.DataFrame({'customer': [101, 102, 103, 104]\n",
    "                           ,'catogery': ['cat1', 'cat2', 'cat3', 'cat4']\n",
    "                           ,'important': ['yes', 'no', 'yes', 'no']\n",
    "                           , 'sales':[123,52,214,663]\n",
    "                           })\n",
    "data_customer "
   ]
  },
  {
   "cell_type": "code",
   "execution_count": 302,
   "metadata": {},
   "outputs": [
    {
     "data": {
      "text/plain": [
       "customer\n",
       "101    1\n",
       "102    1\n",
       "103    1\n",
       "104    1\n",
       "Name: count, dtype: int64"
      ]
     },
     "execution_count": 302,
     "metadata": {},
     "output_type": "execute_result"
    }
   ],
   "source": [
    "data_customer['customer'].value_counts()"
   ]
  },
  {
   "cell_type": "code",
   "execution_count": 303,
   "metadata": {},
   "outputs": [
    {
     "data": {
      "text/html": [
       "<div>\n",
       "<style scoped>\n",
       "    .dataframe tbody tr th:only-of-type {\n",
       "        vertical-align: middle;\n",
       "    }\n",
       "\n",
       "    .dataframe tbody tr th {\n",
       "        vertical-align: top;\n",
       "    }\n",
       "\n",
       "    .dataframe thead th {\n",
       "        text-align: right;\n",
       "    }\n",
       "</style>\n",
       "<table border=\"1\" class=\"dataframe\">\n",
       "  <thead>\n",
       "    <tr style=\"text-align: right;\">\n",
       "      <th></th>\n",
       "      <th>customer</th>\n",
       "      <th>catogery</th>\n",
       "      <th>important</th>\n",
       "      <th>sales</th>\n",
       "    </tr>\n",
       "  </thead>\n",
       "  <tbody>\n",
       "    <tr>\n",
       "      <th>3</th>\n",
       "      <td>104</td>\n",
       "      <td>cat4</td>\n",
       "      <td>no</td>\n",
       "      <td>663</td>\n",
       "    </tr>\n",
       "    <tr>\n",
       "      <th>2</th>\n",
       "      <td>103</td>\n",
       "      <td>cat3</td>\n",
       "      <td>yes</td>\n",
       "      <td>214</td>\n",
       "    </tr>\n",
       "    <tr>\n",
       "      <th>0</th>\n",
       "      <td>101</td>\n",
       "      <td>cat1</td>\n",
       "      <td>yes</td>\n",
       "      <td>123</td>\n",
       "    </tr>\n",
       "    <tr>\n",
       "      <th>1</th>\n",
       "      <td>102</td>\n",
       "      <td>cat2</td>\n",
       "      <td>no</td>\n",
       "      <td>52</td>\n",
       "    </tr>\n",
       "  </tbody>\n",
       "</table>\n",
       "</div>"
      ],
      "text/plain": [
       "   customer catogery important  sales\n",
       "3       104     cat4        no    663\n",
       "2       103     cat3       yes    214\n",
       "0       101     cat1       yes    123\n",
       "1       102     cat2        no     52"
      ]
     },
     "execution_count": 303,
     "metadata": {},
     "output_type": "execute_result"
    }
   ],
   "source": [
    "data_customer.sort_values(by='sales',ascending=False)"
   ]
  },
  {
   "cell_type": "code",
   "execution_count": 308,
   "metadata": {},
   "outputs": [
    {
     "data": {
      "text/html": [
       "<div>\n",
       "<style scoped>\n",
       "    .dataframe tbody tr th:only-of-type {\n",
       "        vertical-align: middle;\n",
       "    }\n",
       "\n",
       "    .dataframe tbody tr th {\n",
       "        vertical-align: top;\n",
       "    }\n",
       "\n",
       "    .dataframe thead th {\n",
       "        text-align: right;\n",
       "    }\n",
       "</style>\n",
       "<table border=\"1\" class=\"dataframe\">\n",
       "  <thead>\n",
       "    <tr style=\"text-align: right;\">\n",
       "      <th></th>\n",
       "      <th>customer</th>\n",
       "      <th>sales</th>\n",
       "    </tr>\n",
       "  </thead>\n",
       "  <tbody>\n",
       "    <tr>\n",
       "      <th>1</th>\n",
       "      <td>102</td>\n",
       "      <td>52</td>\n",
       "    </tr>\n",
       "    <tr>\n",
       "      <th>2</th>\n",
       "      <td>103</td>\n",
       "      <td>214</td>\n",
       "    </tr>\n",
       "  </tbody>\n",
       "</table>\n",
       "</div>"
      ],
      "text/plain": [
       "   customer  sales\n",
       "1       102     52\n",
       "2       103    214"
      ]
     },
     "execution_count": 308,
     "metadata": {},
     "output_type": "execute_result"
    }
   ],
   "source": [
    "#data_customer.loc[1:3, ['customer', 'sales']]\n",
    "data_customer.loc[[1,2], ['customer', 'sales']]"
   ]
  },
  {
   "cell_type": "code",
   "execution_count": 310,
   "metadata": {},
   "outputs": [
    {
     "data": {
      "text/html": [
       "<div>\n",
       "<style scoped>\n",
       "    .dataframe tbody tr th:only-of-type {\n",
       "        vertical-align: middle;\n",
       "    }\n",
       "\n",
       "    .dataframe tbody tr th {\n",
       "        vertical-align: top;\n",
       "    }\n",
       "\n",
       "    .dataframe thead th {\n",
       "        text-align: right;\n",
       "    }\n",
       "</style>\n",
       "<table border=\"1\" class=\"dataframe\">\n",
       "  <thead>\n",
       "    <tr style=\"text-align: right;\">\n",
       "      <th></th>\n",
       "      <th>customer</th>\n",
       "      <th>catogery</th>\n",
       "      <th>important</th>\n",
       "      <th>sales</th>\n",
       "    </tr>\n",
       "  </thead>\n",
       "  <tbody>\n",
       "    <tr>\n",
       "      <th>0</th>\n",
       "      <td>101</td>\n",
       "      <td>cat1</td>\n",
       "      <td>yes</td>\n",
       "      <td>123</td>\n",
       "    </tr>\n",
       "    <tr>\n",
       "      <th>1</th>\n",
       "      <td>102</td>\n",
       "      <td>cat2</td>\n",
       "      <td>no</td>\n",
       "      <td>52</td>\n",
       "    </tr>\n",
       "    <tr>\n",
       "      <th>2</th>\n",
       "      <td>103</td>\n",
       "      <td>cat3</td>\n",
       "      <td>yes</td>\n",
       "      <td>214</td>\n",
       "    </tr>\n",
       "    <tr>\n",
       "      <th>3</th>\n",
       "      <td>104</td>\n",
       "      <td>cat4</td>\n",
       "      <td>no</td>\n",
       "      <td>663</td>\n",
       "    </tr>\n",
       "    <tr>\n",
       "      <th>4</th>\n",
       "      <td>101</td>\n",
       "      <td>cat2</td>\n",
       "      <td>yes</td>\n",
       "      <td>204</td>\n",
       "    </tr>\n",
       "    <tr>\n",
       "      <th>5</th>\n",
       "      <td>103</td>\n",
       "      <td>cat1</td>\n",
       "      <td>yes</td>\n",
       "      <td>453</td>\n",
       "    </tr>\n",
       "  </tbody>\n",
       "</table>\n",
       "</div>"
      ],
      "text/plain": [
       "   customer catogery important  sales\n",
       "0       101     cat1       yes    123\n",
       "1       102     cat2        no     52\n",
       "2       103     cat3       yes    214\n",
       "3       104     cat4        no    663\n",
       "4       101     cat2       yes    204\n",
       "5       103     cat1       yes    453"
      ]
     },
     "execution_count": 310,
     "metadata": {},
     "output_type": "execute_result"
    }
   ],
   "source": [
    "data_cust = pd.DataFrame({'customer': [101, 102, 103, 104,101,103]\n",
    "                           ,'catogery': ['cat1', 'cat2', 'cat3', 'cat4','cat2','cat1']\n",
    "                           ,'important': ['yes', 'no', 'yes', 'no', 'yes', 'yes']\n",
    "                           , 'sales':[123,52,214,663,204,453]\n",
    "                           })\n",
    "data_cust"
   ]
  },
  {
   "cell_type": "code",
   "execution_count": 312,
   "metadata": {},
   "outputs": [
    {
     "data": {
      "text/plain": [
       "customer\n",
       "101    163.5\n",
       "102     52.0\n",
       "103    333.5\n",
       "104    663.0\n",
       "Name: sales, dtype: float64"
      ]
     },
     "execution_count": 312,
     "metadata": {},
     "output_type": "execute_result"
    }
   ],
   "source": [
    "data_cust.groupby(['customer'])['sales'].mean()"
   ]
  },
  {
   "cell_type": "code",
   "execution_count": 313,
   "metadata": {},
   "outputs": [
    {
     "data": {
      "text/plain": [
       "array([ 1, 10, 21, 35, 72])"
      ]
     },
     "execution_count": 313,
     "metadata": {},
     "output_type": "execute_result"
    }
   ],
   "source": [
    "np.array([1,10,21,35,72]) "
   ]
  },
  {
   "cell_type": "code",
   "execution_count": 314,
   "metadata": {},
   "outputs": [
    {
     "data": {
      "text/plain": [
       "array([[9, 8, 7],\n",
       "       [6, 5, 4],\n",
       "       [3, 2, 1]])"
      ]
     },
     "execution_count": 314,
     "metadata": {},
     "output_type": "execute_result"
    }
   ],
   "source": [
    "np.array([[9, 8, 7], [6, 5, 4], [3, 2, 1]])"
   ]
  },
  {
   "cell_type": "code",
   "execution_count": 315,
   "metadata": {},
   "outputs": [
    {
     "data": {
      "text/plain": [
       "array([[9, 8, 7, 6, 5, 4, 3, 2, 1]])"
      ]
     },
     "execution_count": 315,
     "metadata": {},
     "output_type": "execute_result"
    }
   ],
   "source": [
    "np.array([[9, 8, 7, 6, 5, 4, 3, 2, 1]])"
   ]
  },
  {
   "cell_type": "code",
   "execution_count": 316,
   "metadata": {},
   "outputs": [
    {
     "data": {
      "text/plain": [
       "array([[1, 2, 3],\n",
       "       [4, 5, 6],\n",
       "       [7, 8, 9]])"
      ]
     },
     "execution_count": 316,
     "metadata": {},
     "output_type": "execute_result"
    }
   ],
   "source": [
    "np.arange(start=1, stop=10, step=1).reshape(3,3)"
   ]
  },
  {
   "cell_type": "code",
   "execution_count": 318,
   "metadata": {},
   "outputs": [
    {
     "data": {
      "text/plain": [
       "array([ 0.,  4.,  8., 12., 16., 20.])"
      ]
     },
     "execution_count": 318,
     "metadata": {},
     "output_type": "execute_result"
    }
   ],
   "source": [
    "array_1 = np.linspace(0,20,6)\n",
    "array_1"
   ]
  },
  {
   "cell_type": "code",
   "execution_count": 319,
   "metadata": {},
   "outputs": [
    {
     "data": {
      "text/plain": [
       "array([ 0,  6, 12, 18])"
      ]
     },
     "execution_count": 319,
     "metadata": {},
     "output_type": "execute_result"
    }
   ],
   "source": [
    "array_2 = np.arange(0,20,6)\n",
    "array_2"
   ]
  },
  {
   "cell_type": "code",
   "execution_count": 322,
   "metadata": {},
   "outputs": [
    {
     "data": {
      "text/plain": [
       "131.66666666666666"
      ]
     },
     "execution_count": 322,
     "metadata": {},
     "output_type": "execute_result"
    }
   ],
   "source": [
    "mat = np.matrix([[ 1, 4, 9, 121, 144, 169],\n",
    "                [ 16, 25, 36, 196, 225, 256], \n",
    "                [ 49, 64, 81, 289, 324, 361]])\n",
    "\n",
    "mat.mean()"
   ]
  },
  {
   "cell_type": "code",
   "execution_count": 323,
   "metadata": {},
   "outputs": [
    {
     "data": {
      "text/plain": [
       "array([2, 3, 4, 5, 6])"
      ]
     },
     "execution_count": 323,
     "metadata": {},
     "output_type": "execute_result"
    }
   ],
   "source": [
    "a = np.arange(0,20)\n",
    "a[2:7]"
   ]
  },
  {
   "cell_type": "code",
   "execution_count": 324,
   "metadata": {},
   "outputs": [
    {
     "data": {
      "text/plain": [
       "array([ 1.        ,  0.54030231, -0.41614684, -0.9899925 , -0.65364362])"
      ]
     },
     "execution_count": 324,
     "metadata": {},
     "output_type": "execute_result"
    }
   ],
   "source": [
    "np.cos([0, 1, 2, 3, 4]) "
   ]
  },
  {
   "cell_type": "code",
   "execution_count": 326,
   "metadata": {},
   "outputs": [],
   "source": [
    "list_1 = [1,2,3] \n",
    "list_2 = [4,5,6]\n",
    "new_list = list_1 + list_2\n",
    "\n",
    "array_1 = np.array([1,2,3])\n",
    "array_2 = np.array([4,5,6])\n",
    "new_array = array_1 + array_2"
   ]
  },
  {
   "cell_type": "code",
   "execution_count": 327,
   "metadata": {},
   "outputs": [
    {
     "name": "stdout",
     "output_type": "stream",
     "text": [
      "[1, 2, 3, 4, 5, 6] \n",
      "\n",
      "\n",
      "[5 7 9]\n"
     ]
    }
   ],
   "source": [
    "print(new_list, \"\\n\\n\")\n",
    "print(new_array)"
   ]
  },
  {
   "cell_type": "code",
   "execution_count": 328,
   "metadata": {},
   "outputs": [],
   "source": [
    "mat = np.array([[1, 2, 1], [4, 5, 9],[1, 8, 9]])\n"
   ]
  },
  {
   "cell_type": "code",
   "execution_count": 329,
   "metadata": {},
   "outputs": [],
   "source": [
    "mat[1] = 5\n"
   ]
  },
  {
   "cell_type": "code",
   "execution_count": 330,
   "metadata": {},
   "outputs": [],
   "source": [
    "mat[2] = 5"
   ]
  },
  {
   "cell_type": "code",
   "execution_count": 331,
   "metadata": {},
   "outputs": [
    {
     "name": "stdout",
     "output_type": "stream",
     "text": [
      "21\n"
     ]
    }
   ],
   "source": [
    "array_1 = np.array([1, 2, 3, 5, 8])\n",
    "array_2 = np.array([0, 3, 4, 2, 1])\n",
    "new_array = array_1+ array_2\n",
    "final_array = new_array*array_1\n",
    "print(final_array[2])\n",
    "\n"
   ]
  },
  {
   "cell_type": "code",
   "execution_count": 332,
   "metadata": {},
   "outputs": [
    {
     "data": {
      "text/plain": [
       "array([[1., 1.],\n",
       "       [1., 1.]])"
      ]
     },
     "execution_count": 332,
     "metadata": {},
     "output_type": "execute_result"
    }
   ],
   "source": [
    "np.ones([2, 2])"
   ]
  },
  {
   "cell_type": "code",
   "execution_count": 333,
   "metadata": {},
   "outputs": [
    {
     "data": {
      "text/plain": [
       "matrix([[1786, 1880, 3017],\n",
       "        [2725, 2933, 4712],\n",
       "        [3862, 4220, 6785]])"
      ]
     },
     "execution_count": 333,
     "metadata": {},
     "output_type": "execute_result"
    }
   ],
   "source": [
    "n1 = np.matrix([[121, 144, 169], [196, 225, 256], [ 289, 324, 361]])\n",
    "n2 = np.matrix([[ 1, 4, 9], [ 1, 5, 4], [ 9, 4, 8]])\n",
    "\n",
    "n1@n2"
   ]
  },
  {
   "cell_type": "code",
   "execution_count": 335,
   "metadata": {},
   "outputs": [
    {
     "data": {
      "text/plain": [
       "array([[1, 2, 1],\n",
       "       [4, 5, 9],\n",
       "       [1, 8, 9]])"
      ]
     },
     "execution_count": 335,
     "metadata": {},
     "output_type": "execute_result"
    }
   ],
   "source": [
    "mat = np.array([[1, 2, 1], [4, 5, 9],[1, 8, 9]])\n",
    "mat"
   ]
  },
  {
   "cell_type": "code",
   "execution_count": 336,
   "metadata": {},
   "outputs": [
    {
     "data": {
      "text/plain": [
       "array([[1, 2, 1],\n",
       "       [5, 5, 5],\n",
       "       [1, 8, 9]])"
      ]
     },
     "execution_count": 336,
     "metadata": {},
     "output_type": "execute_result"
    }
   ],
   "source": [
    "mat[1] = 5\n",
    "\n",
    "mat"
   ]
  },
  {
   "cell_type": "code",
   "execution_count": 339,
   "metadata": {},
   "outputs": [],
   "source": [
    "bk = pd.read_csv('~/Downloads/books.csv')"
   ]
  },
  {
   "cell_type": "code",
   "execution_count": 340,
   "metadata": {},
   "outputs": [
    {
     "data": {
      "text/html": [
       "<div>\n",
       "<style scoped>\n",
       "    .dataframe tbody tr th:only-of-type {\n",
       "        vertical-align: middle;\n",
       "    }\n",
       "\n",
       "    .dataframe tbody tr th {\n",
       "        vertical-align: top;\n",
       "    }\n",
       "\n",
       "    .dataframe thead th {\n",
       "        text-align: right;\n",
       "    }\n",
       "</style>\n",
       "<table border=\"1\" class=\"dataframe\">\n",
       "  <thead>\n",
       "    <tr style=\"text-align: right;\">\n",
       "      <th></th>\n",
       "      <th>title</th>\n",
       "      <th>author</th>\n",
       "      <th>average_rating</th>\n",
       "      <th>isbn13</th>\n",
       "      <th>language_code</th>\n",
       "      <th>num_pages</th>\n",
       "      <th>ratings_count</th>\n",
       "      <th>text_reviews_count</th>\n",
       "      <th>publisher</th>\n",
       "      <th>year</th>\n",
       "    </tr>\n",
       "  </thead>\n",
       "  <tbody>\n",
       "    <tr>\n",
       "      <th>0</th>\n",
       "      <td>The Hunchback of Notre-Dame</td>\n",
       "      <td>Victor Hugo</td>\n",
       "      <td>4.00</td>\n",
       "      <td>9780345472427</td>\n",
       "      <td>en-US</td>\n",
       "      <td>534.0</td>\n",
       "      <td>140</td>\n",
       "      <td>22</td>\n",
       "      <td>Modern Library</td>\n",
       "      <td>2004</td>\n",
       "    </tr>\n",
       "    <tr>\n",
       "      <th>1</th>\n",
       "      <td>La Cucina Di Lidia: Recipes and Memories from ...</td>\n",
       "      <td>Lidia Matticchio Bastianich</td>\n",
       "      <td>4.14</td>\n",
       "      <td>9780767914222</td>\n",
       "      <td>en-GB</td>\n",
       "      <td>288.0</td>\n",
       "      <td>48</td>\n",
       "      <td>3</td>\n",
       "      <td>Clarkson Potter</td>\n",
       "      <td>2003</td>\n",
       "    </tr>\n",
       "    <tr>\n",
       "      <th>2</th>\n",
       "      <td>Breach of Promise</td>\n",
       "      <td>James Scott Bell</td>\n",
       "      <td>4.00</td>\n",
       "      <td>9780310243878</td>\n",
       "      <td>eng</td>\n",
       "      <td>345.0</td>\n",
       "      <td>368</td>\n",
       "      <td>36</td>\n",
       "      <td>Zondervan</td>\n",
       "      <td>2004</td>\n",
       "    </tr>\n",
       "    <tr>\n",
       "      <th>3</th>\n",
       "      <td>Brief Interviews with Hideous Men</td>\n",
       "      <td>David Foster Wallace</td>\n",
       "      <td>3.86</td>\n",
       "      <td>9780349111889</td>\n",
       "      <td>eng</td>\n",
       "      <td>273.0</td>\n",
       "      <td>18335</td>\n",
       "      <td>1155</td>\n",
       "      <td>Abacus</td>\n",
       "      <td>2000</td>\n",
       "    </tr>\n",
       "    <tr>\n",
       "      <th>4</th>\n",
       "      <td>The Killing Dance (Anita Blake  Vampire Hunter...</td>\n",
       "      <td>Laurell K. Hamilton</td>\n",
       "      <td>4.13</td>\n",
       "      <td>9780425209066</td>\n",
       "      <td>en-US</td>\n",
       "      <td>368.0</td>\n",
       "      <td>59524</td>\n",
       "      <td>946</td>\n",
       "      <td>Berkley Hardcover</td>\n",
       "      <td>2006</td>\n",
       "    </tr>\n",
       "    <tr>\n",
       "      <th>...</th>\n",
       "      <td>...</td>\n",
       "      <td>...</td>\n",
       "      <td>...</td>\n",
       "      <td>...</td>\n",
       "      <td>...</td>\n",
       "      <td>...</td>\n",
       "      <td>...</td>\n",
       "      <td>...</td>\n",
       "      <td>...</td>\n",
       "      <td>...</td>\n",
       "    </tr>\n",
       "    <tr>\n",
       "      <th>4995</th>\n",
       "      <td>The Complete Works</td>\n",
       "      <td>Michel de Montaigne</td>\n",
       "      <td>4.44</td>\n",
       "      <td>9781400040216</td>\n",
       "      <td>eng</td>\n",
       "      <td>1392.0</td>\n",
       "      <td>166</td>\n",
       "      <td>13</td>\n",
       "      <td>Everyman's Library</td>\n",
       "      <td>2003</td>\n",
       "    </tr>\n",
       "    <tr>\n",
       "      <th>4996</th>\n",
       "      <td>Shipwreck (Island I)</td>\n",
       "      <td>Gordon Korman</td>\n",
       "      <td>3.80</td>\n",
       "      <td>9780439023313</td>\n",
       "      <td>eng</td>\n",
       "      <td>NaN</td>\n",
       "      <td>103</td>\n",
       "      <td>14</td>\n",
       "      <td>Scholastic Audio Books</td>\n",
       "      <td>2007</td>\n",
       "    </tr>\n",
       "    <tr>\n",
       "      <th>4997</th>\n",
       "      <td>Every Night Italian: Every Night Italian</td>\n",
       "      <td>Giuliano Hazan</td>\n",
       "      <td>3.79</td>\n",
       "      <td>9780684800288</td>\n",
       "      <td>eng</td>\n",
       "      <td>256.0</td>\n",
       "      <td>70</td>\n",
       "      <td>2</td>\n",
       "      <td>Scribner</td>\n",
       "      <td>2000</td>\n",
       "    </tr>\n",
       "    <tr>\n",
       "      <th>4998</th>\n",
       "      <td>Go Down  Moses</td>\n",
       "      <td>William Faulkner</td>\n",
       "      <td>3.93</td>\n",
       "      <td>9780679732174</td>\n",
       "      <td>eng</td>\n",
       "      <td>365.0</td>\n",
       "      <td>8289</td>\n",
       "      <td>370</td>\n",
       "      <td>Vintage</td>\n",
       "      <td>1991</td>\n",
       "    </tr>\n",
       "    <tr>\n",
       "      <th>4999</th>\n",
       "      <td>The Avignon Quintet: Monsieur  Livia  Constanc...</td>\n",
       "      <td>Lawrence Durrell</td>\n",
       "      <td>4.07</td>\n",
       "      <td>9780571225552</td>\n",
       "      <td>en-US</td>\n",
       "      <td>1376.0</td>\n",
       "      <td>287</td>\n",
       "      <td>23</td>\n",
       "      <td>Faber &amp; Faber</td>\n",
       "      <td>2004</td>\n",
       "    </tr>\n",
       "  </tbody>\n",
       "</table>\n",
       "<p>5000 rows × 10 columns</p>\n",
       "</div>"
      ],
      "text/plain": [
       "                                                  title  \\\n",
       "0                           The Hunchback of Notre-Dame   \n",
       "1     La Cucina Di Lidia: Recipes and Memories from ...   \n",
       "2                                     Breach of Promise   \n",
       "3                     Brief Interviews with Hideous Men   \n",
       "4     The Killing Dance (Anita Blake  Vampire Hunter...   \n",
       "...                                                 ...   \n",
       "4995                                 The Complete Works   \n",
       "4996                               Shipwreck (Island I)   \n",
       "4997           Every Night Italian: Every Night Italian   \n",
       "4998                                     Go Down  Moses   \n",
       "4999  The Avignon Quintet: Monsieur  Livia  Constanc...   \n",
       "\n",
       "                           author  average_rating         isbn13  \\\n",
       "0                     Victor Hugo            4.00  9780345472427   \n",
       "1     Lidia Matticchio Bastianich            4.14  9780767914222   \n",
       "2                James Scott Bell            4.00  9780310243878   \n",
       "3            David Foster Wallace            3.86  9780349111889   \n",
       "4             Laurell K. Hamilton            4.13  9780425209066   \n",
       "...                           ...             ...            ...   \n",
       "4995          Michel de Montaigne            4.44  9781400040216   \n",
       "4996                Gordon Korman            3.80  9780439023313   \n",
       "4997               Giuliano Hazan            3.79  9780684800288   \n",
       "4998             William Faulkner            3.93  9780679732174   \n",
       "4999             Lawrence Durrell            4.07  9780571225552   \n",
       "\n",
       "     language_code  num_pages  ratings_count  text_reviews_count  \\\n",
       "0            en-US      534.0            140                  22   \n",
       "1            en-GB      288.0             48                   3   \n",
       "2              eng      345.0            368                  36   \n",
       "3              eng      273.0          18335                1155   \n",
       "4            en-US      368.0          59524                 946   \n",
       "...            ...        ...            ...                 ...   \n",
       "4995           eng     1392.0            166                  13   \n",
       "4996           eng        NaN            103                  14   \n",
       "4997           eng      256.0             70                   2   \n",
       "4998           eng      365.0           8289                 370   \n",
       "4999         en-US     1376.0            287                  23   \n",
       "\n",
       "                   publisher  year  \n",
       "0             Modern Library  2004  \n",
       "1            Clarkson Potter  2003  \n",
       "2                  Zondervan  2004  \n",
       "3                     Abacus  2000  \n",
       "4          Berkley Hardcover  2006  \n",
       "...                      ...   ...  \n",
       "4995      Everyman's Library  2003  \n",
       "4996  Scholastic Audio Books  2007  \n",
       "4997                Scribner  2000  \n",
       "4998                 Vintage  1991  \n",
       "4999           Faber & Faber  2004  \n",
       "\n",
       "[5000 rows x 10 columns]"
      ]
     },
     "execution_count": 340,
     "metadata": {},
     "output_type": "execute_result"
    }
   ],
   "source": [
    "bk"
   ]
  },
  {
   "cell_type": "code",
   "execution_count": 342,
   "metadata": {},
   "outputs": [
    {
     "data": {
      "text/html": [
       "<div>\n",
       "<style scoped>\n",
       "    .dataframe tbody tr th:only-of-type {\n",
       "        vertical-align: middle;\n",
       "    }\n",
       "\n",
       "    .dataframe tbody tr th {\n",
       "        vertical-align: top;\n",
       "    }\n",
       "\n",
       "    .dataframe thead th {\n",
       "        text-align: right;\n",
       "    }\n",
       "</style>\n",
       "<table border=\"1\" class=\"dataframe\">\n",
       "  <thead>\n",
       "    <tr style=\"text-align: right;\">\n",
       "      <th></th>\n",
       "      <th>average_rating</th>\n",
       "      <th>isbn13</th>\n",
       "      <th>num_pages</th>\n",
       "      <th>ratings_count</th>\n",
       "      <th>text_reviews_count</th>\n",
       "      <th>year</th>\n",
       "    </tr>\n",
       "  </thead>\n",
       "  <tbody>\n",
       "    <tr>\n",
       "      <th>count</th>\n",
       "      <td>5000.000000</td>\n",
       "      <td>5.000000e+03</td>\n",
       "      <td>4967.000000</td>\n",
       "      <td>5.000000e+03</td>\n",
       "      <td>5000.000000</td>\n",
       "      <td>5000.000000</td>\n",
       "    </tr>\n",
       "    <tr>\n",
       "      <th>mean</th>\n",
       "      <td>3.931932</td>\n",
       "      <td>9.752758e+12</td>\n",
       "      <td>341.094021</td>\n",
       "      <td>2.017549e+04</td>\n",
       "      <td>592.688600</td>\n",
       "      <td>2000.131800</td>\n",
       "    </tr>\n",
       "    <tr>\n",
       "      <th>std</th>\n",
       "      <td>0.348741</td>\n",
       "      <td>5.129254e+11</td>\n",
       "      <td>230.986115</td>\n",
       "      <td>1.175026e+05</td>\n",
       "      <td>2539.539004</td>\n",
       "      <td>8.069043</td>\n",
       "    </tr>\n",
       "    <tr>\n",
       "      <th>min</th>\n",
       "      <td>0.000000</td>\n",
       "      <td>8.987060e+09</td>\n",
       "      <td>1.000000</td>\n",
       "      <td>0.000000e+00</td>\n",
       "      <td>0.000000</td>\n",
       "      <td>1913.000000</td>\n",
       "    </tr>\n",
       "    <tr>\n",
       "      <th>25%</th>\n",
       "      <td>3.770000</td>\n",
       "      <td>9.780345e+12</td>\n",
       "      <td>200.000000</td>\n",
       "      <td>1.050000e+02</td>\n",
       "      <td>9.000000</td>\n",
       "      <td>1998.000000</td>\n",
       "    </tr>\n",
       "    <tr>\n",
       "      <th>50%</th>\n",
       "      <td>3.960000</td>\n",
       "      <td>9.780571e+12</td>\n",
       "      <td>304.000000</td>\n",
       "      <td>7.915000e+02</td>\n",
       "      <td>49.000000</td>\n",
       "      <td>2003.000000</td>\n",
       "    </tr>\n",
       "    <tr>\n",
       "      <th>75%</th>\n",
       "      <td>4.140000</td>\n",
       "      <td>9.780871e+12</td>\n",
       "      <td>416.500000</td>\n",
       "      <td>5.348750e+03</td>\n",
       "      <td>249.000000</td>\n",
       "      <td>2005.000000</td>\n",
       "    </tr>\n",
       "    <tr>\n",
       "      <th>max</th>\n",
       "      <td>5.000000</td>\n",
       "      <td>9.789879e+12</td>\n",
       "      <td>3342.000000</td>\n",
       "      <td>2.457092e+06</td>\n",
       "      <td>55843.000000</td>\n",
       "      <td>2019.000000</td>\n",
       "    </tr>\n",
       "  </tbody>\n",
       "</table>\n",
       "</div>"
      ],
      "text/plain": [
       "       average_rating        isbn13    num_pages  ratings_count  \\\n",
       "count     5000.000000  5.000000e+03  4967.000000   5.000000e+03   \n",
       "mean         3.931932  9.752758e+12   341.094021   2.017549e+04   \n",
       "std          0.348741  5.129254e+11   230.986115   1.175026e+05   \n",
       "min          0.000000  8.987060e+09     1.000000   0.000000e+00   \n",
       "25%          3.770000  9.780345e+12   200.000000   1.050000e+02   \n",
       "50%          3.960000  9.780571e+12   304.000000   7.915000e+02   \n",
       "75%          4.140000  9.780871e+12   416.500000   5.348750e+03   \n",
       "max          5.000000  9.789879e+12  3342.000000   2.457092e+06   \n",
       "\n",
       "       text_reviews_count         year  \n",
       "count         5000.000000  5000.000000  \n",
       "mean           592.688600  2000.131800  \n",
       "std           2539.539004     8.069043  \n",
       "min              0.000000  1913.000000  \n",
       "25%              9.000000  1998.000000  \n",
       "50%             49.000000  2003.000000  \n",
       "75%            249.000000  2005.000000  \n",
       "max          55843.000000  2019.000000  "
      ]
     },
     "execution_count": 342,
     "metadata": {},
     "output_type": "execute_result"
    }
   ],
   "source": [
    "bk.describe()"
   ]
  },
  {
   "cell_type": "code",
   "execution_count": 347,
   "metadata": {},
   "outputs": [
    {
     "name": "stdout",
     "output_type": "stream",
     "text": [
      "Number of columns with object datatype: 4\n"
     ]
    }
   ],
   "source": [
    "\n",
    "\n",
    "# Assuming df is your DataFrame\n",
    "object_columns = bk.select_dtypes(include='object').columns\n",
    "\n",
    "# Count the number of object columns\n",
    "num_object_columns = len(object_columns)\n",
    "\n",
    "print(f\"Number of columns with object datatype: {num_object_columns}\")"
   ]
  },
  {
   "cell_type": "code",
   "execution_count": 354,
   "metadata": {},
   "outputs": [
    {
     "name": "stdout",
     "output_type": "stream",
     "text": [
      "Number of books with an average rating greater than 4: 2115\n"
     ]
    }
   ],
   "source": [
    "books_greater_than_4 = bk[bk['average_rating'] > 4]\n",
    "\n",
    "# Count the number of books with an average rating greater than 4\n",
    "num_books_greater_than_4 = len(books_greater_than_4)\n",
    "\n",
    "print(f\"Number of books with an average rating greater than 4: {num_books_greater_than_4}\")"
   ]
  },
  {
   "cell_type": "code",
   "execution_count": 356,
   "metadata": {},
   "outputs": [],
   "source": [
    "df = bk"
   ]
  },
  {
   "cell_type": "code",
   "execution_count": 360,
   "metadata": {},
   "outputs": [
    {
     "data": {
      "text/plain": [
       "<bound method DataFrame.count of                                                   title  \\\n",
       "63                                             鋼之鍊金術師 9   \n",
       "178                                            鋼之鍊金術師 6   \n",
       "224                             Stargirl LitPlans on CD   \n",
       "454   Literature Circle Guide: Bridge to Terabithia:...   \n",
       "584                       Falling Angels (Luc Actar #1)   \n",
       "681        Fanning the Flame: Bible  Cross  and Mission   \n",
       "696                  Tyrannosaurus Wrecks (Stanley  #1)   \n",
       "741   The John Deere Two-Cylinder Tractor Encycloped...   \n",
       "757   The American Campaign: U.S. Presidential Campa...   \n",
       "1837  The Goon Show  Volume 4: My Knees Have Fallen ...   \n",
       "1856                                          鋼之鍊金術師 10   \n",
       "1960  Wissenschaft der Logik: Die Lehre Vom Begriff ...   \n",
       "2244  Getting a Grip on the Basics: Building a Firm ...   \n",
       "2496                               Come Away My Beloved   \n",
       "3178  Organizational Architecture: Designs for Chang...   \n",
       "3438         Bill Gates: Computer Legend (Famous Lives)   \n",
       "3706  A Wife After God's Own Heart Growth and Study ...   \n",
       "3833  His Princess Devotional: A Royal Encounter Wit...   \n",
       "3909                 Little Big Book for God's Children   \n",
       "3927  Colossians and Philemon: A Critical and Exeget...   \n",
       "4108                  Willem de Kooning: Late Paintings   \n",
       "4415                                           Corvette   \n",
       "4455  The Complete Theory Fun Factory: Music Theory ...   \n",
       "4917                          Taxation of Mineral Rents   \n",
       "4933  Oliver Wendell Holmes in Paris: Medicine  Theo...   \n",
       "\n",
       "                             author  average_rating         isbn13  \\\n",
       "63                   Hiromu Arakawa            4.57  9789861156521   \n",
       "178                  Hiromu Arakawa            4.58  9789861146140   \n",
       "224                 Mary B. Collins            4.86  9781583372920   \n",
       "454                  Tara MacCarthy            5.00  9780439271714   \n",
       "584               Melissa M. Garcia            4.67  9780595377107   \n",
       "681                  Chris    Green            5.00  9780310249870   \n",
       "696                  Laura Driscoll            5.00  9780786845033   \n",
       "741                   Don Macmillan            4.75  9780760329634   \n",
       "757               James E. Campbell            5.00  9780890969403   \n",
       "1837                     NOT A BOOK            5.00  9780563388692   \n",
       "1856                 Hiromu Arakawa            4.60  9789861156538   \n",
       "1960  Georg Wilhelm Friedrich Hegel            4.78  9783787307678   \n",
       "2244                  Beth A. Jones            4.67  9781577948261   \n",
       "2496             Frances J. Roberts            4.58  9781593109158   \n",
       "3178                David A. Nadler            4.62  9781555424435   \n",
       "3438               Sara Barton-Wood            5.00  9780739844328   \n",
       "3706               Elizabeth George            4.69  9780736911689   \n",
       "3833            Sheri Rose Shepherd            5.00  9781590529621   \n",
       "3909                     Alice Wong            4.88  9780941807555   \n",
       "3927                 R. McL. Wilson            5.00  9780567044716   \n",
       "4108                Julie Sylvester            5.00  9783829602266   \n",
       "4415                   Jerry Burton            4.83  9780883631218   \n",
       "4455              Ian        Martin            5.00  9780851621814   \n",
       "4917                   Ross Garnaut            5.00  9780198284543   \n",
       "4933             William C. Dowling            5.00  9781584655800   \n",
       "\n",
       "     language_code  num_pages  ratings_count  text_reviews_count  \\\n",
       "63             NaN      184.0              4                   0   \n",
       "178            NaN      191.0              5                   0   \n",
       "224            eng      210.0              5                   0   \n",
       "454            eng       32.0              4                   1   \n",
       "584            eng      216.0              1                   0   \n",
       "681            eng      336.0              1                   1   \n",
       "696            eng       24.0              2                   1   \n",
       "741            eng      256.0              4                   0   \n",
       "757            eng      314.0              0                   0   \n",
       "1837           eng        2.0              3                   0   \n",
       "1856           NaN      188.0              3                   0   \n",
       "1960           ger      337.0              0                   0   \n",
       "2244           eng      124.0              9                   0   \n",
       "2496           eng      192.0              8                   0   \n",
       "3178           eng      304.0              2                   0   \n",
       "3438           eng       48.0              0                   0   \n",
       "3706           eng      160.0              9                   1   \n",
       "3833           eng      240.0              2                   0   \n",
       "3909         en-US      352.0              8                   0   \n",
       "3927           eng      512.0              1                   0   \n",
       "4108           eng       83.0              1                   0   \n",
       "4415           eng      320.0              6                   1   \n",
       "4455           eng       96.0              1                   0   \n",
       "4917           eng      350.0              1                   0   \n",
       "4933           eng      179.0              1                   1   \n",
       "\n",
       "                            publisher  year  \n",
       "63                                 東立  2004  \n",
       "178                                東立  2004  \n",
       "224        Teacher's Pet Publications  2005  \n",
       "454                Teaching Resources  2002  \n",
       "584                         iUniverse  2006  \n",
       "681                         Zondervan  2003  \n",
       "696                      Disney Press  2003  \n",
       "741                    Voyageur Press  2007  \n",
       "757        Texas A&M University Press  2000  \n",
       "1837               BBC Physical Audio  1996  \n",
       "1856                               東立  2005  \n",
       "1960                        F. Meiner  1994  \n",
       "2244                   Harrison House  2006  \n",
       "2496                    Barbour Books  2005  \n",
       "3178                      Jossey-Bass  1992  \n",
       "3438                         Raintree  2001  \n",
       "3706         Harvest House Publishers  2004  \n",
       "3833                        Multnomah  2007  \n",
       "3909                    Welcome Books  2001  \n",
       "3927                  T&T Clark Int'l  2005  \n",
       "4108                   Schirmer Mosel  2006  \n",
       "4415          Universe Publishing(NY)  2006  \n",
       "4455              Boosey & Hawkes Inc  2004  \n",
       "4917     Oxford University Press  USA  1983  \n",
       "4933  University Press of New England  2007  >"
      ]
     },
     "execution_count": 360,
     "metadata": {},
     "output_type": "execute_result"
    }
   ],
   "source": [
    "df[(df['average_rating']>4.5) & (df['ratings_count']<10)].count"
   ]
  },
  {
   "cell_type": "code",
   "execution_count": 361,
   "metadata": {},
   "outputs": [
    {
     "data": {
      "text/plain": [
       "language_code\n",
       "en-GB    3.922523\n",
       "en-US    3.914800\n",
       "eng      3.931143\n",
       "ger      3.979773\n",
       "grc      2.366667\n",
       "jpn      4.252381\n",
       "lat      4.170000\n",
       "mul      4.116000\n",
       "spa      3.927938\n",
       "Name: average_rating, dtype: float64"
      ]
     },
     "execution_count": 361,
     "metadata": {},
     "output_type": "execute_result"
    }
   ],
   "source": [
    "df.groupby(['language_code'])['average_rating'].mean()"
   ]
  },
  {
   "cell_type": "code",
   "execution_count": 363,
   "metadata": {},
   "outputs": [
    {
     "data": {
      "text/html": [
       "<div>\n",
       "<style scoped>\n",
       "    .dataframe tbody tr th:only-of-type {\n",
       "        vertical-align: middle;\n",
       "    }\n",
       "\n",
       "    .dataframe tbody tr th {\n",
       "        vertical-align: top;\n",
       "    }\n",
       "\n",
       "    .dataframe thead th {\n",
       "        text-align: right;\n",
       "    }\n",
       "</style>\n",
       "<table border=\"1\" class=\"dataframe\">\n",
       "  <thead>\n",
       "    <tr style=\"text-align: right;\">\n",
       "      <th></th>\n",
       "      <th>title</th>\n",
       "      <th>author</th>\n",
       "      <th>average_rating</th>\n",
       "      <th>isbn13</th>\n",
       "    </tr>\n",
       "  </thead>\n",
       "  <tbody>\n",
       "    <tr>\n",
       "      <th>0</th>\n",
       "      <td>The Hunchback of Notre-Dame</td>\n",
       "      <td>Victor Hugo</td>\n",
       "      <td>4.00</td>\n",
       "      <td>9780345472427</td>\n",
       "    </tr>\n",
       "    <tr>\n",
       "      <th>1</th>\n",
       "      <td>La Cucina Di Lidia: Recipes and Memories from ...</td>\n",
       "      <td>Lidia Matticchio Bastianich</td>\n",
       "      <td>4.14</td>\n",
       "      <td>9780767914222</td>\n",
       "    </tr>\n",
       "    <tr>\n",
       "      <th>2</th>\n",
       "      <td>Breach of Promise</td>\n",
       "      <td>James Scott Bell</td>\n",
       "      <td>4.00</td>\n",
       "      <td>9780310243878</td>\n",
       "    </tr>\n",
       "    <tr>\n",
       "      <th>3</th>\n",
       "      <td>Brief Interviews with Hideous Men</td>\n",
       "      <td>David Foster Wallace</td>\n",
       "      <td>3.86</td>\n",
       "      <td>9780349111889</td>\n",
       "    </tr>\n",
       "    <tr>\n",
       "      <th>4</th>\n",
       "      <td>The Killing Dance (Anita Blake  Vampire Hunter...</td>\n",
       "      <td>Laurell K. Hamilton</td>\n",
       "      <td>4.13</td>\n",
       "      <td>9780425209066</td>\n",
       "    </tr>\n",
       "  </tbody>\n",
       "</table>\n",
       "</div>"
      ],
      "text/plain": [
       "                                               title  \\\n",
       "0                        The Hunchback of Notre-Dame   \n",
       "1  La Cucina Di Lidia: Recipes and Memories from ...   \n",
       "2                                  Breach of Promise   \n",
       "3                  Brief Interviews with Hideous Men   \n",
       "4  The Killing Dance (Anita Blake  Vampire Hunter...   \n",
       "\n",
       "                        author  average_rating         isbn13  \n",
       "0                  Victor Hugo            4.00  9780345472427  \n",
       "1  Lidia Matticchio Bastianich            4.14  9780767914222  \n",
       "2             James Scott Bell            4.00  9780310243878  \n",
       "3         David Foster Wallace            3.86  9780349111889  \n",
       "4          Laurell K. Hamilton            4.13  9780425209066  "
      ]
     },
     "execution_count": 363,
     "metadata": {},
     "output_type": "execute_result"
    }
   ],
   "source": [
    "df.iloc[0:5,0:4]"
   ]
  },
  {
   "cell_type": "code",
   "execution_count": 364,
   "metadata": {},
   "outputs": [
    {
     "data": {
      "text/html": [
       "<div>\n",
       "<style scoped>\n",
       "    .dataframe tbody tr th:only-of-type {\n",
       "        vertical-align: middle;\n",
       "    }\n",
       "\n",
       "    .dataframe tbody tr th {\n",
       "        vertical-align: top;\n",
       "    }\n",
       "\n",
       "    .dataframe thead th {\n",
       "        text-align: right;\n",
       "    }\n",
       "</style>\n",
       "<table border=\"1\" class=\"dataframe\">\n",
       "  <thead>\n",
       "    <tr style=\"text-align: right;\">\n",
       "      <th></th>\n",
       "      <th>language_code</th>\n",
       "      <th>num_pages</th>\n",
       "      <th>ratings_count</th>\n",
       "    </tr>\n",
       "  </thead>\n",
       "  <tbody>\n",
       "    <tr>\n",
       "      <th>1</th>\n",
       "      <td>en-GB</td>\n",
       "      <td>288.0</td>\n",
       "      <td>48</td>\n",
       "    </tr>\n",
       "    <tr>\n",
       "      <th>5</th>\n",
       "      <td>eng</td>\n",
       "      <td>446.0</td>\n",
       "      <td>16301</td>\n",
       "    </tr>\n",
       "  </tbody>\n",
       "</table>\n",
       "</div>"
      ],
      "text/plain": [
       "  language_code  num_pages  ratings_count\n",
       "1         en-GB      288.0             48\n",
       "5           eng      446.0          16301"
      ]
     },
     "execution_count": 364,
     "metadata": {},
     "output_type": "execute_result"
    }
   ],
   "source": [
    "df.loc[[1, 5],['language_code', 'num_pages', 'ratings_count']]"
   ]
  },
  {
   "cell_type": "code",
   "execution_count": 370,
   "metadata": {},
   "outputs": [
    {
     "data": {
      "text/plain": [
       "341.0940205355345"
      ]
     },
     "execution_count": 370,
     "metadata": {},
     "output_type": "execute_result"
    }
   ],
   "source": [
    "df['num_pages'].mean()"
   ]
  },
  {
   "cell_type": "code",
   "execution_count": 378,
   "metadata": {},
   "outputs": [
    {
     "data": {
      "text/plain": [
       "<bound method NDFrame.describe of                                                   title  \\\n",
       "0                           The Hunchback of Notre-Dame   \n",
       "1     La Cucina Di Lidia: Recipes and Memories from ...   \n",
       "2                                     Breach of Promise   \n",
       "3                     Brief Interviews with Hideous Men   \n",
       "4     The Killing Dance (Anita Blake  Vampire Hunter...   \n",
       "...                                                 ...   \n",
       "4995                                 The Complete Works   \n",
       "4996                               Shipwreck (Island I)   \n",
       "4997           Every Night Italian: Every Night Italian   \n",
       "4998                                     Go Down  Moses   \n",
       "4999  The Avignon Quintet: Monsieur  Livia  Constanc...   \n",
       "\n",
       "                           author  average_rating         isbn13  \\\n",
       "0                     Victor Hugo            4.00  9780345472427   \n",
       "1     Lidia Matticchio Bastianich            4.14  9780767914222   \n",
       "2                James Scott Bell            4.00  9780310243878   \n",
       "3            David Foster Wallace            3.86  9780349111889   \n",
       "4             Laurell K. Hamilton            4.13  9780425209066   \n",
       "...                           ...             ...            ...   \n",
       "4995          Michel de Montaigne            4.44  9781400040216   \n",
       "4996                Gordon Korman            3.80  9780439023313   \n",
       "4997               Giuliano Hazan            3.79  9780684800288   \n",
       "4998             William Faulkner            3.93  9780679732174   \n",
       "4999             Lawrence Durrell            4.07  9780571225552   \n",
       "\n",
       "     language_code  num_pages  ratings_count  text_reviews_count  \\\n",
       "0            en-US      534.0            140                  22   \n",
       "1            en-GB      288.0             48                   3   \n",
       "2              eng      345.0            368                  36   \n",
       "3              eng      273.0          18335                1155   \n",
       "4            en-US      368.0          59524                 946   \n",
       "...            ...        ...            ...                 ...   \n",
       "4995           eng     1392.0            166                  13   \n",
       "4996           eng        NaN            103                  14   \n",
       "4997           eng      256.0             70                   2   \n",
       "4998           eng      365.0           8289                 370   \n",
       "4999         en-US     1376.0            287                  23   \n",
       "\n",
       "                   publisher  year  \n",
       "0             Modern Library  2004  \n",
       "1            Clarkson Potter  2003  \n",
       "2                  Zondervan  2004  \n",
       "3                     Abacus  2000  \n",
       "4          Berkley Hardcover  2006  \n",
       "...                      ...   ...  \n",
       "4995      Everyman's Library  2003  \n",
       "4996  Scholastic Audio Books  2007  \n",
       "4997                Scribner  2000  \n",
       "4998                 Vintage  1991  \n",
       "4999           Faber & Faber  2004  \n",
       "\n",
       "[5000 rows x 10 columns]>"
      ]
     },
     "execution_count": 378,
     "metadata": {},
     "output_type": "execute_result"
    }
   ],
   "source": [
    "df.describe"
   ]
  },
  {
   "cell_type": "code",
   "execution_count": 426,
   "metadata": {},
   "outputs": [
    {
     "data": {
      "text/plain": [
       "5"
      ]
     },
     "execution_count": 426,
     "metadata": {},
     "output_type": "execute_result"
    }
   ],
   "source": [
    "(df[(df['year']>2010) & \n",
    "    (df['num_pages']>500)]).shape[0]"
   ]
  },
  {
   "cell_type": "code",
   "execution_count": 425,
   "metadata": {},
   "outputs": [
    {
     "data": {
      "text/html": [
       "<div>\n",
       "<style scoped>\n",
       "    .dataframe tbody tr th:only-of-type {\n",
       "        vertical-align: middle;\n",
       "    }\n",
       "\n",
       "    .dataframe tbody tr th {\n",
       "        vertical-align: top;\n",
       "    }\n",
       "\n",
       "    .dataframe thead th {\n",
       "        text-align: right;\n",
       "    }\n",
       "</style>\n",
       "<table border=\"1\" class=\"dataframe\">\n",
       "  <thead>\n",
       "    <tr style=\"text-align: right;\">\n",
       "      <th></th>\n",
       "      <th>title</th>\n",
       "      <th>author</th>\n",
       "      <th>average_rating</th>\n",
       "      <th>isbn13</th>\n",
       "      <th>language_code</th>\n",
       "      <th>num_pages</th>\n",
       "      <th>ratings_count</th>\n",
       "      <th>text_reviews_count</th>\n",
       "      <th>publisher</th>\n",
       "    </tr>\n",
       "    <tr>\n",
       "      <th>year</th>\n",
       "      <th></th>\n",
       "      <th></th>\n",
       "      <th></th>\n",
       "      <th></th>\n",
       "      <th></th>\n",
       "      <th></th>\n",
       "      <th></th>\n",
       "      <th></th>\n",
       "      <th></th>\n",
       "    </tr>\n",
       "  </thead>\n",
       "  <tbody>\n",
       "    <tr>\n",
       "      <th>1925</th>\n",
       "      <td>1</td>\n",
       "      <td>1</td>\n",
       "      <td>1</td>\n",
       "      <td>1</td>\n",
       "      <td>1</td>\n",
       "      <td>1</td>\n",
       "      <td>1</td>\n",
       "      <td>1</td>\n",
       "      <td>1</td>\n",
       "    </tr>\n",
       "    <tr>\n",
       "      <th>1954</th>\n",
       "      <td>1</td>\n",
       "      <td>1</td>\n",
       "      <td>1</td>\n",
       "      <td>1</td>\n",
       "      <td>1</td>\n",
       "      <td>1</td>\n",
       "      <td>1</td>\n",
       "      <td>1</td>\n",
       "      <td>1</td>\n",
       "    </tr>\n",
       "    <tr>\n",
       "      <th>1957</th>\n",
       "      <td>1</td>\n",
       "      <td>1</td>\n",
       "      <td>1</td>\n",
       "      <td>1</td>\n",
       "      <td>1</td>\n",
       "      <td>1</td>\n",
       "      <td>1</td>\n",
       "      <td>1</td>\n",
       "      <td>1</td>\n",
       "    </tr>\n",
       "    <tr>\n",
       "      <th>1965</th>\n",
       "      <td>1</td>\n",
       "      <td>1</td>\n",
       "      <td>1</td>\n",
       "      <td>1</td>\n",
       "      <td>1</td>\n",
       "      <td>1</td>\n",
       "      <td>1</td>\n",
       "      <td>1</td>\n",
       "      <td>1</td>\n",
       "    </tr>\n",
       "    <tr>\n",
       "      <th>1968</th>\n",
       "      <td>2</td>\n",
       "      <td>2</td>\n",
       "      <td>2</td>\n",
       "      <td>2</td>\n",
       "      <td>2</td>\n",
       "      <td>2</td>\n",
       "      <td>2</td>\n",
       "      <td>2</td>\n",
       "      <td>2</td>\n",
       "    </tr>\n",
       "    <tr>\n",
       "      <th>1971</th>\n",
       "      <td>1</td>\n",
       "      <td>1</td>\n",
       "      <td>1</td>\n",
       "      <td>1</td>\n",
       "      <td>1</td>\n",
       "      <td>1</td>\n",
       "      <td>1</td>\n",
       "      <td>1</td>\n",
       "      <td>1</td>\n",
       "    </tr>\n",
       "    <tr>\n",
       "      <th>1972</th>\n",
       "      <td>1</td>\n",
       "      <td>1</td>\n",
       "      <td>1</td>\n",
       "      <td>1</td>\n",
       "      <td>1</td>\n",
       "      <td>1</td>\n",
       "      <td>1</td>\n",
       "      <td>1</td>\n",
       "      <td>1</td>\n",
       "    </tr>\n",
       "    <tr>\n",
       "      <th>1973</th>\n",
       "      <td>1</td>\n",
       "      <td>1</td>\n",
       "      <td>1</td>\n",
       "      <td>1</td>\n",
       "      <td>1</td>\n",
       "      <td>1</td>\n",
       "      <td>1</td>\n",
       "      <td>1</td>\n",
       "      <td>1</td>\n",
       "    </tr>\n",
       "    <tr>\n",
       "      <th>1975</th>\n",
       "      <td>2</td>\n",
       "      <td>2</td>\n",
       "      <td>2</td>\n",
       "      <td>2</td>\n",
       "      <td>2</td>\n",
       "      <td>2</td>\n",
       "      <td>2</td>\n",
       "      <td>2</td>\n",
       "      <td>2</td>\n",
       "    </tr>\n",
       "    <tr>\n",
       "      <th>1976</th>\n",
       "      <td>3</td>\n",
       "      <td>3</td>\n",
       "      <td>3</td>\n",
       "      <td>3</td>\n",
       "      <td>3</td>\n",
       "      <td>3</td>\n",
       "      <td>3</td>\n",
       "      <td>3</td>\n",
       "      <td>3</td>\n",
       "    </tr>\n",
       "    <tr>\n",
       "      <th>1977</th>\n",
       "      <td>6</td>\n",
       "      <td>6</td>\n",
       "      <td>6</td>\n",
       "      <td>6</td>\n",
       "      <td>6</td>\n",
       "      <td>6</td>\n",
       "      <td>6</td>\n",
       "      <td>6</td>\n",
       "      <td>6</td>\n",
       "    </tr>\n",
       "    <tr>\n",
       "      <th>1978</th>\n",
       "      <td>1</td>\n",
       "      <td>1</td>\n",
       "      <td>1</td>\n",
       "      <td>1</td>\n",
       "      <td>1</td>\n",
       "      <td>1</td>\n",
       "      <td>1</td>\n",
       "      <td>1</td>\n",
       "      <td>1</td>\n",
       "    </tr>\n",
       "    <tr>\n",
       "      <th>1979</th>\n",
       "      <td>1</td>\n",
       "      <td>1</td>\n",
       "      <td>1</td>\n",
       "      <td>1</td>\n",
       "      <td>1</td>\n",
       "      <td>1</td>\n",
       "      <td>1</td>\n",
       "      <td>1</td>\n",
       "      <td>1</td>\n",
       "    </tr>\n",
       "    <tr>\n",
       "      <th>1980</th>\n",
       "      <td>3</td>\n",
       "      <td>3</td>\n",
       "      <td>3</td>\n",
       "      <td>3</td>\n",
       "      <td>3</td>\n",
       "      <td>3</td>\n",
       "      <td>3</td>\n",
       "      <td>3</td>\n",
       "      <td>3</td>\n",
       "    </tr>\n",
       "    <tr>\n",
       "      <th>1981</th>\n",
       "      <td>1</td>\n",
       "      <td>1</td>\n",
       "      <td>1</td>\n",
       "      <td>1</td>\n",
       "      <td>1</td>\n",
       "      <td>1</td>\n",
       "      <td>1</td>\n",
       "      <td>1</td>\n",
       "      <td>1</td>\n",
       "    </tr>\n",
       "    <tr>\n",
       "      <th>1982</th>\n",
       "      <td>4</td>\n",
       "      <td>4</td>\n",
       "      <td>4</td>\n",
       "      <td>4</td>\n",
       "      <td>4</td>\n",
       "      <td>4</td>\n",
       "      <td>4</td>\n",
       "      <td>4</td>\n",
       "      <td>4</td>\n",
       "    </tr>\n",
       "    <tr>\n",
       "      <th>1983</th>\n",
       "      <td>4</td>\n",
       "      <td>4</td>\n",
       "      <td>4</td>\n",
       "      <td>4</td>\n",
       "      <td>3</td>\n",
       "      <td>4</td>\n",
       "      <td>4</td>\n",
       "      <td>4</td>\n",
       "      <td>4</td>\n",
       "    </tr>\n",
       "    <tr>\n",
       "      <th>1984</th>\n",
       "      <td>10</td>\n",
       "      <td>10</td>\n",
       "      <td>10</td>\n",
       "      <td>10</td>\n",
       "      <td>10</td>\n",
       "      <td>10</td>\n",
       "      <td>10</td>\n",
       "      <td>10</td>\n",
       "      <td>10</td>\n",
       "    </tr>\n",
       "    <tr>\n",
       "      <th>1985</th>\n",
       "      <td>8</td>\n",
       "      <td>8</td>\n",
       "      <td>8</td>\n",
       "      <td>8</td>\n",
       "      <td>8</td>\n",
       "      <td>8</td>\n",
       "      <td>8</td>\n",
       "      <td>8</td>\n",
       "      <td>8</td>\n",
       "    </tr>\n",
       "    <tr>\n",
       "      <th>1986</th>\n",
       "      <td>5</td>\n",
       "      <td>5</td>\n",
       "      <td>5</td>\n",
       "      <td>5</td>\n",
       "      <td>4</td>\n",
       "      <td>5</td>\n",
       "      <td>5</td>\n",
       "      <td>5</td>\n",
       "      <td>5</td>\n",
       "    </tr>\n",
       "    <tr>\n",
       "      <th>1987</th>\n",
       "      <td>6</td>\n",
       "      <td>6</td>\n",
       "      <td>6</td>\n",
       "      <td>6</td>\n",
       "      <td>6</td>\n",
       "      <td>6</td>\n",
       "      <td>6</td>\n",
       "      <td>6</td>\n",
       "      <td>6</td>\n",
       "    </tr>\n",
       "    <tr>\n",
       "      <th>1988</th>\n",
       "      <td>7</td>\n",
       "      <td>7</td>\n",
       "      <td>7</td>\n",
       "      <td>7</td>\n",
       "      <td>7</td>\n",
       "      <td>7</td>\n",
       "      <td>7</td>\n",
       "      <td>7</td>\n",
       "      <td>7</td>\n",
       "    </tr>\n",
       "    <tr>\n",
       "      <th>1989</th>\n",
       "      <td>3</td>\n",
       "      <td>3</td>\n",
       "      <td>3</td>\n",
       "      <td>3</td>\n",
       "      <td>3</td>\n",
       "      <td>3</td>\n",
       "      <td>3</td>\n",
       "      <td>3</td>\n",
       "      <td>3</td>\n",
       "    </tr>\n",
       "    <tr>\n",
       "      <th>1990</th>\n",
       "      <td>8</td>\n",
       "      <td>8</td>\n",
       "      <td>8</td>\n",
       "      <td>8</td>\n",
       "      <td>8</td>\n",
       "      <td>8</td>\n",
       "      <td>8</td>\n",
       "      <td>8</td>\n",
       "      <td>8</td>\n",
       "    </tr>\n",
       "    <tr>\n",
       "      <th>1991</th>\n",
       "      <td>13</td>\n",
       "      <td>13</td>\n",
       "      <td>13</td>\n",
       "      <td>13</td>\n",
       "      <td>13</td>\n",
       "      <td>13</td>\n",
       "      <td>13</td>\n",
       "      <td>13</td>\n",
       "      <td>13</td>\n",
       "    </tr>\n",
       "    <tr>\n",
       "      <th>1992</th>\n",
       "      <td>17</td>\n",
       "      <td>17</td>\n",
       "      <td>17</td>\n",
       "      <td>17</td>\n",
       "      <td>17</td>\n",
       "      <td>17</td>\n",
       "      <td>17</td>\n",
       "      <td>17</td>\n",
       "      <td>17</td>\n",
       "    </tr>\n",
       "    <tr>\n",
       "      <th>1993</th>\n",
       "      <td>14</td>\n",
       "      <td>14</td>\n",
       "      <td>14</td>\n",
       "      <td>14</td>\n",
       "      <td>14</td>\n",
       "      <td>14</td>\n",
       "      <td>14</td>\n",
       "      <td>14</td>\n",
       "      <td>14</td>\n",
       "    </tr>\n",
       "    <tr>\n",
       "      <th>1994</th>\n",
       "      <td>18</td>\n",
       "      <td>18</td>\n",
       "      <td>18</td>\n",
       "      <td>18</td>\n",
       "      <td>18</td>\n",
       "      <td>18</td>\n",
       "      <td>18</td>\n",
       "      <td>18</td>\n",
       "      <td>18</td>\n",
       "    </tr>\n",
       "    <tr>\n",
       "      <th>1995</th>\n",
       "      <td>19</td>\n",
       "      <td>19</td>\n",
       "      <td>19</td>\n",
       "      <td>19</td>\n",
       "      <td>19</td>\n",
       "      <td>19</td>\n",
       "      <td>19</td>\n",
       "      <td>19</td>\n",
       "      <td>19</td>\n",
       "    </tr>\n",
       "    <tr>\n",
       "      <th>1996</th>\n",
       "      <td>23</td>\n",
       "      <td>23</td>\n",
       "      <td>23</td>\n",
       "      <td>23</td>\n",
       "      <td>23</td>\n",
       "      <td>23</td>\n",
       "      <td>23</td>\n",
       "      <td>23</td>\n",
       "      <td>23</td>\n",
       "    </tr>\n",
       "    <tr>\n",
       "      <th>1997</th>\n",
       "      <td>21</td>\n",
       "      <td>21</td>\n",
       "      <td>21</td>\n",
       "      <td>21</td>\n",
       "      <td>21</td>\n",
       "      <td>21</td>\n",
       "      <td>21</td>\n",
       "      <td>21</td>\n",
       "      <td>21</td>\n",
       "    </tr>\n",
       "    <tr>\n",
       "      <th>1998</th>\n",
       "      <td>35</td>\n",
       "      <td>35</td>\n",
       "      <td>35</td>\n",
       "      <td>35</td>\n",
       "      <td>34</td>\n",
       "      <td>35</td>\n",
       "      <td>35</td>\n",
       "      <td>35</td>\n",
       "      <td>35</td>\n",
       "    </tr>\n",
       "    <tr>\n",
       "      <th>1999</th>\n",
       "      <td>28</td>\n",
       "      <td>28</td>\n",
       "      <td>28</td>\n",
       "      <td>28</td>\n",
       "      <td>28</td>\n",
       "      <td>28</td>\n",
       "      <td>28</td>\n",
       "      <td>28</td>\n",
       "      <td>28</td>\n",
       "    </tr>\n",
       "    <tr>\n",
       "      <th>2000</th>\n",
       "      <td>40</td>\n",
       "      <td>40</td>\n",
       "      <td>40</td>\n",
       "      <td>40</td>\n",
       "      <td>40</td>\n",
       "      <td>40</td>\n",
       "      <td>40</td>\n",
       "      <td>40</td>\n",
       "      <td>40</td>\n",
       "    </tr>\n",
       "    <tr>\n",
       "      <th>2001</th>\n",
       "      <td>52</td>\n",
       "      <td>52</td>\n",
       "      <td>52</td>\n",
       "      <td>52</td>\n",
       "      <td>49</td>\n",
       "      <td>52</td>\n",
       "      <td>52</td>\n",
       "      <td>52</td>\n",
       "      <td>52</td>\n",
       "    </tr>\n",
       "    <tr>\n",
       "      <th>2002</th>\n",
       "      <td>62</td>\n",
       "      <td>62</td>\n",
       "      <td>62</td>\n",
       "      <td>62</td>\n",
       "      <td>58</td>\n",
       "      <td>62</td>\n",
       "      <td>62</td>\n",
       "      <td>62</td>\n",
       "      <td>62</td>\n",
       "    </tr>\n",
       "    <tr>\n",
       "      <th>2003</th>\n",
       "      <td>59</td>\n",
       "      <td>59</td>\n",
       "      <td>59</td>\n",
       "      <td>59</td>\n",
       "      <td>57</td>\n",
       "      <td>59</td>\n",
       "      <td>59</td>\n",
       "      <td>59</td>\n",
       "      <td>59</td>\n",
       "    </tr>\n",
       "    <tr>\n",
       "      <th>2004</th>\n",
       "      <td>75</td>\n",
       "      <td>75</td>\n",
       "      <td>75</td>\n",
       "      <td>75</td>\n",
       "      <td>73</td>\n",
       "      <td>75</td>\n",
       "      <td>75</td>\n",
       "      <td>75</td>\n",
       "      <td>75</td>\n",
       "    </tr>\n",
       "    <tr>\n",
       "      <th>2005</th>\n",
       "      <td>84</td>\n",
       "      <td>84</td>\n",
       "      <td>84</td>\n",
       "      <td>84</td>\n",
       "      <td>82</td>\n",
       "      <td>84</td>\n",
       "      <td>84</td>\n",
       "      <td>84</td>\n",
       "      <td>84</td>\n",
       "    </tr>\n",
       "    <tr>\n",
       "      <th>2006</th>\n",
       "      <td>85</td>\n",
       "      <td>85</td>\n",
       "      <td>85</td>\n",
       "      <td>85</td>\n",
       "      <td>83</td>\n",
       "      <td>85</td>\n",
       "      <td>85</td>\n",
       "      <td>85</td>\n",
       "      <td>85</td>\n",
       "    </tr>\n",
       "    <tr>\n",
       "      <th>2007</th>\n",
       "      <td>33</td>\n",
       "      <td>33</td>\n",
       "      <td>33</td>\n",
       "      <td>33</td>\n",
       "      <td>33</td>\n",
       "      <td>33</td>\n",
       "      <td>33</td>\n",
       "      <td>33</td>\n",
       "      <td>33</td>\n",
       "    </tr>\n",
       "    <tr>\n",
       "      <th>2008</th>\n",
       "      <td>2</td>\n",
       "      <td>2</td>\n",
       "      <td>2</td>\n",
       "      <td>2</td>\n",
       "      <td>2</td>\n",
       "      <td>2</td>\n",
       "      <td>2</td>\n",
       "      <td>2</td>\n",
       "      <td>2</td>\n",
       "    </tr>\n",
       "    <tr>\n",
       "      <th>2009</th>\n",
       "      <td>5</td>\n",
       "      <td>5</td>\n",
       "      <td>5</td>\n",
       "      <td>5</td>\n",
       "      <td>5</td>\n",
       "      <td>5</td>\n",
       "      <td>5</td>\n",
       "      <td>5</td>\n",
       "      <td>5</td>\n",
       "    </tr>\n",
       "    <tr>\n",
       "      <th>2010</th>\n",
       "      <td>1</td>\n",
       "      <td>1</td>\n",
       "      <td>1</td>\n",
       "      <td>1</td>\n",
       "      <td>1</td>\n",
       "      <td>1</td>\n",
       "      <td>1</td>\n",
       "      <td>1</td>\n",
       "      <td>1</td>\n",
       "    </tr>\n",
       "    <tr>\n",
       "      <th>2011</th>\n",
       "      <td>3</td>\n",
       "      <td>3</td>\n",
       "      <td>3</td>\n",
       "      <td>3</td>\n",
       "      <td>3</td>\n",
       "      <td>3</td>\n",
       "      <td>3</td>\n",
       "      <td>3</td>\n",
       "      <td>3</td>\n",
       "    </tr>\n",
       "    <tr>\n",
       "      <th>2017</th>\n",
       "      <td>2</td>\n",
       "      <td>2</td>\n",
       "      <td>2</td>\n",
       "      <td>2</td>\n",
       "      <td>2</td>\n",
       "      <td>2</td>\n",
       "      <td>2</td>\n",
       "      <td>2</td>\n",
       "      <td>2</td>\n",
       "    </tr>\n",
       "  </tbody>\n",
       "</table>\n",
       "</div>"
      ],
      "text/plain": [
       "      title  author  average_rating  isbn13  language_code  num_pages  \\\n",
       "year                                                                    \n",
       "1925      1       1               1       1              1          1   \n",
       "1954      1       1               1       1              1          1   \n",
       "1957      1       1               1       1              1          1   \n",
       "1965      1       1               1       1              1          1   \n",
       "1968      2       2               2       2              2          2   \n",
       "1971      1       1               1       1              1          1   \n",
       "1972      1       1               1       1              1          1   \n",
       "1973      1       1               1       1              1          1   \n",
       "1975      2       2               2       2              2          2   \n",
       "1976      3       3               3       3              3          3   \n",
       "1977      6       6               6       6              6          6   \n",
       "1978      1       1               1       1              1          1   \n",
       "1979      1       1               1       1              1          1   \n",
       "1980      3       3               3       3              3          3   \n",
       "1981      1       1               1       1              1          1   \n",
       "1982      4       4               4       4              4          4   \n",
       "1983      4       4               4       4              3          4   \n",
       "1984     10      10              10      10             10         10   \n",
       "1985      8       8               8       8              8          8   \n",
       "1986      5       5               5       5              4          5   \n",
       "1987      6       6               6       6              6          6   \n",
       "1988      7       7               7       7              7          7   \n",
       "1989      3       3               3       3              3          3   \n",
       "1990      8       8               8       8              8          8   \n",
       "1991     13      13              13      13             13         13   \n",
       "1992     17      17              17      17             17         17   \n",
       "1993     14      14              14      14             14         14   \n",
       "1994     18      18              18      18             18         18   \n",
       "1995     19      19              19      19             19         19   \n",
       "1996     23      23              23      23             23         23   \n",
       "1997     21      21              21      21             21         21   \n",
       "1998     35      35              35      35             34         35   \n",
       "1999     28      28              28      28             28         28   \n",
       "2000     40      40              40      40             40         40   \n",
       "2001     52      52              52      52             49         52   \n",
       "2002     62      62              62      62             58         62   \n",
       "2003     59      59              59      59             57         59   \n",
       "2004     75      75              75      75             73         75   \n",
       "2005     84      84              84      84             82         84   \n",
       "2006     85      85              85      85             83         85   \n",
       "2007     33      33              33      33             33         33   \n",
       "2008      2       2               2       2              2          2   \n",
       "2009      5       5               5       5              5          5   \n",
       "2010      1       1               1       1              1          1   \n",
       "2011      3       3               3       3              3          3   \n",
       "2017      2       2               2       2              2          2   \n",
       "\n",
       "      ratings_count  text_reviews_count  publisher  \n",
       "year                                                \n",
       "1925              1                   1          1  \n",
       "1954              1                   1          1  \n",
       "1957              1                   1          1  \n",
       "1965              1                   1          1  \n",
       "1968              2                   2          2  \n",
       "1971              1                   1          1  \n",
       "1972              1                   1          1  \n",
       "1973              1                   1          1  \n",
       "1975              2                   2          2  \n",
       "1976              3                   3          3  \n",
       "1977              6                   6          6  \n",
       "1978              1                   1          1  \n",
       "1979              1                   1          1  \n",
       "1980              3                   3          3  \n",
       "1981              1                   1          1  \n",
       "1982              4                   4          4  \n",
       "1983              4                   4          4  \n",
       "1984             10                  10         10  \n",
       "1985              8                   8          8  \n",
       "1986              5                   5          5  \n",
       "1987              6                   6          6  \n",
       "1988              7                   7          7  \n",
       "1989              3                   3          3  \n",
       "1990              8                   8          8  \n",
       "1991             13                  13         13  \n",
       "1992             17                  17         17  \n",
       "1993             14                  14         14  \n",
       "1994             18                  18         18  \n",
       "1995             19                  19         19  \n",
       "1996             23                  23         23  \n",
       "1997             21                  21         21  \n",
       "1998             35                  35         35  \n",
       "1999             28                  28         28  \n",
       "2000             40                  40         40  \n",
       "2001             52                  52         52  \n",
       "2002             62                  62         62  \n",
       "2003             59                  59         59  \n",
       "2004             75                  75         75  \n",
       "2005             84                  84         84  \n",
       "2006             85                  85         85  \n",
       "2007             33                  33         33  \n",
       "2008              2                   2          2  \n",
       "2009              5                   5          5  \n",
       "2010              1                   1          1  \n",
       "2011              3                   3          3  \n",
       "2017              2                   2          2  "
      ]
     },
     "execution_count": 425,
     "metadata": {},
     "output_type": "execute_result"
    }
   ],
   "source": [
    "c = df[df['num_pages']>500 ]\n",
    "c.groupby('year').count()"
   ]
  },
  {
   "cell_type": "code",
   "execution_count": 414,
   "metadata": {},
   "outputs": [
    {
     "data": {
      "text/plain": [
       "17"
      ]
     },
     "execution_count": 414,
     "metadata": {},
     "output_type": "execute_result"
    }
   ],
   "source": [
    "len(df[df['publisher'] == 'DAW']['average_rating']>4)"
   ]
  },
  {
   "cell_type": "code",
   "execution_count": 416,
   "metadata": {},
   "outputs": [
    {
     "data": {
      "text/plain": [
       "21"
      ]
     },
     "execution_count": 416,
     "metadata": {},
     "output_type": "execute_result"
    }
   ],
   "source": [
    "len(df[df['author'] == \"Agatha Christie\"])"
   ]
  },
  {
   "cell_type": "code",
   "execution_count": 424,
   "metadata": {},
   "outputs": [
    {
     "data": {
      "text/html": [
       "<div>\n",
       "<style scoped>\n",
       "    .dataframe tbody tr th:only-of-type {\n",
       "        vertical-align: middle;\n",
       "    }\n",
       "\n",
       "    .dataframe tbody tr th {\n",
       "        vertical-align: top;\n",
       "    }\n",
       "\n",
       "    .dataframe thead th {\n",
       "        text-align: right;\n",
       "    }\n",
       "</style>\n",
       "<table border=\"1\" class=\"dataframe\">\n",
       "  <thead>\n",
       "    <tr style=\"text-align: right;\">\n",
       "      <th></th>\n",
       "      <th>title</th>\n",
       "      <th>author</th>\n",
       "      <th>average_rating</th>\n",
       "      <th>isbn13</th>\n",
       "      <th>num_pages</th>\n",
       "      <th>ratings_count</th>\n",
       "      <th>text_reviews_count</th>\n",
       "      <th>publisher</th>\n",
       "      <th>year</th>\n",
       "    </tr>\n",
       "    <tr>\n",
       "      <th>language_code</th>\n",
       "      <th></th>\n",
       "      <th></th>\n",
       "      <th></th>\n",
       "      <th></th>\n",
       "      <th></th>\n",
       "      <th></th>\n",
       "      <th></th>\n",
       "      <th></th>\n",
       "      <th></th>\n",
       "    </tr>\n",
       "  </thead>\n",
       "  <tbody>\n",
       "    <tr>\n",
       "      <th>en-GB</th>\n",
       "      <td>70</td>\n",
       "      <td>70</td>\n",
       "      <td>70</td>\n",
       "      <td>70</td>\n",
       "      <td>69</td>\n",
       "      <td>70</td>\n",
       "      <td>70</td>\n",
       "      <td>70</td>\n",
       "      <td>70</td>\n",
       "    </tr>\n",
       "    <tr>\n",
       "      <th>en-US</th>\n",
       "      <td>451</td>\n",
       "      <td>451</td>\n",
       "      <td>451</td>\n",
       "      <td>451</td>\n",
       "      <td>446</td>\n",
       "      <td>451</td>\n",
       "      <td>451</td>\n",
       "      <td>451</td>\n",
       "      <td>451</td>\n",
       "    </tr>\n",
       "    <tr>\n",
       "      <th>eng</th>\n",
       "      <td>2476</td>\n",
       "      <td>2476</td>\n",
       "      <td>2476</td>\n",
       "      <td>2476</td>\n",
       "      <td>2456</td>\n",
       "      <td>2476</td>\n",
       "      <td>2476</td>\n",
       "      <td>2476</td>\n",
       "      <td>2476</td>\n",
       "    </tr>\n",
       "    <tr>\n",
       "      <th>ger</th>\n",
       "      <td>28</td>\n",
       "      <td>28</td>\n",
       "      <td>28</td>\n",
       "      <td>28</td>\n",
       "      <td>28</td>\n",
       "      <td>28</td>\n",
       "      <td>28</td>\n",
       "      <td>28</td>\n",
       "      <td>28</td>\n",
       "    </tr>\n",
       "    <tr>\n",
       "      <th>jpn</th>\n",
       "      <td>13</td>\n",
       "      <td>13</td>\n",
       "      <td>13</td>\n",
       "      <td>13</td>\n",
       "      <td>13</td>\n",
       "      <td>13</td>\n",
       "      <td>13</td>\n",
       "      <td>13</td>\n",
       "      <td>13</td>\n",
       "    </tr>\n",
       "    <tr>\n",
       "      <th>lat</th>\n",
       "      <td>1</td>\n",
       "      <td>1</td>\n",
       "      <td>1</td>\n",
       "      <td>1</td>\n",
       "      <td>1</td>\n",
       "      <td>1</td>\n",
       "      <td>1</td>\n",
       "      <td>1</td>\n",
       "      <td>1</td>\n",
       "    </tr>\n",
       "    <tr>\n",
       "      <th>mul</th>\n",
       "      <td>2</td>\n",
       "      <td>2</td>\n",
       "      <td>2</td>\n",
       "      <td>2</td>\n",
       "      <td>2</td>\n",
       "      <td>2</td>\n",
       "      <td>2</td>\n",
       "      <td>2</td>\n",
       "      <td>2</td>\n",
       "    </tr>\n",
       "    <tr>\n",
       "      <th>spa</th>\n",
       "      <td>84</td>\n",
       "      <td>84</td>\n",
       "      <td>84</td>\n",
       "      <td>84</td>\n",
       "      <td>83</td>\n",
       "      <td>84</td>\n",
       "      <td>84</td>\n",
       "      <td>84</td>\n",
       "      <td>84</td>\n",
       "    </tr>\n",
       "  </tbody>\n",
       "</table>\n",
       "</div>"
      ],
      "text/plain": [
       "               title  author  average_rating  isbn13  num_pages  \\\n",
       "language_code                                                     \n",
       "en-GB             70      70              70      70         69   \n",
       "en-US            451     451             451     451        446   \n",
       "eng             2476    2476            2476    2476       2456   \n",
       "ger               28      28              28      28         28   \n",
       "jpn               13      13              13      13         13   \n",
       "lat                1       1               1       1          1   \n",
       "mul                2       2               2       2          2   \n",
       "spa               84      84              84      84         83   \n",
       "\n",
       "               ratings_count  text_reviews_count  publisher  year  \n",
       "language_code                                                      \n",
       "en-GB                     70                  70         70    70  \n",
       "en-US                    451                 451        451   451  \n",
       "eng                     2476                2476       2476  2476  \n",
       "ger                       28                  28         28    28  \n",
       "jpn                       13                  13         13    13  \n",
       "lat                        1                   1          1     1  \n",
       "mul                        2                   2          2     2  \n",
       "spa                       84                  84         84    84  "
      ]
     },
     "execution_count": 424,
     "metadata": {},
     "output_type": "execute_result"
    }
   ],
   "source": [
    "c = df[df['year']>2000 ]\n",
    "c.groupby('language_code').count()"
   ]
  }
 ],
 "metadata": {
  "kernelspec": {
   "display_name": "Python 3",
   "language": "python",
   "name": "python3"
  },
  "language_info": {
   "codemirror_mode": {
    "name": "ipython",
    "version": 3
   },
   "file_extension": ".py",
   "mimetype": "text/x-python",
   "name": "python",
   "nbconvert_exporter": "python",
   "pygments_lexer": "ipython3",
   "version": "3.11.5"
  }
 },
 "nbformat": 4,
 "nbformat_minor": 2
}
