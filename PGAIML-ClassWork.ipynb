{
 "cells": [
  {
   "cell_type": "markdown",
   "metadata": {},
   "source": [
    "# PGAIML Class works #"
   ]
  },
  {
   "cell_type": "markdown",
   "metadata": {},
   "source": [
    "## Python Class ##\n",
    "### Date: 2021-12-09 ###"
   ]
  },
  {
   "cell_type": "code",
   "execution_count": 11,
   "metadata": {},
   "outputs": [
    {
     "name": "stdout",
     "output_type": "stream",
     "text": [
      "cid is a <class 'list'> .\n",
      "It contains 5 elements.\n",
      "The elements are ['cid-0001', 'cid-0002', 'cid-0003', 'cid-0004', 'cid-0005']\n"
     ]
    }
   ],
   "source": [
    "cid =[]\n",
    "\n",
    "i = 0\n",
    "while i < 5:\n",
    "    cid.append('cid-000' + str(i+1))\n",
    "    i += 1\n",
    "\n",
    "print('cid is a',type(cid), '.\\nIt contains',len(cid), 'elements.\\nThe elements are',cid)"
   ]
  },
  {
   "cell_type": "code",
   "execution_count": 20,
   "metadata": {},
   "outputs": [
    {
     "data": {
      "text/plain": [
       "[0, 1, 4]"
      ]
     },
     "execution_count": 20,
     "metadata": {},
     "output_type": "execute_result"
    }
   ],
   "source": [
    "# Enumerate to determine which elements in the list are > 0.5\n",
    "prec_on_time = [0.62, 0.78, 0.20, 0.32, 0.85]\n",
    "[i for i,x in enumerate(prec_on_time) if x >0.5]"
   ]
  },
  {
   "cell_type": "code",
   "execution_count": 22,
   "metadata": {},
   "outputs": [],
   "source": [
    "credit_score = [650, 723, 581, 462, 773]   # list for storing credit score\n",
    "age_of_customer = [25, 28, 38, 41, 62]     # list for sotring age of the customer\n",
    "debt_status = ['no-debt', 'no-debt', 'no-debt', 'in-debt', 'no-debt']  # list to store the debt status\n",
    "no_of_existing_credit_cards = [3, 2, 4, 1, 2] # list to store the number of exisitng credit cards"
   ]
  },
  {
   "cell_type": "code",
   "execution_count": 23,
   "metadata": {},
   "outputs": [],
   "source": [
    "# dictionary is created with key and value pairs\n",
    "df1 = {\n",
    "    'cust_id': cid, \n",
    "    'cred_score': credit_score, \n",
    "    'age': age_of_customer,\n",
    "    'debt_status':debt_status,\n",
    "    'curr_cred_cards':no_of_existing_credit_cards\n",
    "}"
   ]
  },
  {
   "cell_type": "code",
   "execution_count": 24,
   "metadata": {},
   "outputs": [
    {
     "data": {
      "text/plain": [
       "{'cust_id': ['cid-0001', 'cid-0002', 'cid-0003', 'cid-0004', 'cid-0005'],\n",
       " 'cred_score': [650, 723, 581, 462, 773],\n",
       " 'age': [25, 28, 38, 41, 62],\n",
       " 'debt_status': ['no-debt', 'no-debt', 'no-debt', 'in-debt', 'no-debt'],\n",
       " 'curr_cred_cards': [3, 2, 4, 1, 2]}"
      ]
     },
     "execution_count": 24,
     "metadata": {},
     "output_type": "execute_result"
    }
   ],
   "source": [
    "df1"
   ]
  },
  {
   "cell_type": "code",
   "execution_count": 44,
   "metadata": {},
   "outputs": [],
   "source": [
    "import pandas as pd\n",
    "\n",
    "df = pd.DataFrame(df1)\n"
   ]
  },
  {
   "cell_type": "code",
   "execution_count": 56,
   "metadata": {},
   "outputs": [
    {
     "data": {
      "text/html": [
       "<div>\n",
       "<style scoped>\n",
       "    .dataframe tbody tr th:only-of-type {\n",
       "        vertical-align: middle;\n",
       "    }\n",
       "\n",
       "    .dataframe tbody tr th {\n",
       "        vertical-align: top;\n",
       "    }\n",
       "\n",
       "    .dataframe thead th {\n",
       "        text-align: right;\n",
       "    }\n",
       "</style>\n",
       "<table border=\"1\" class=\"dataframe\">\n",
       "  <thead>\n",
       "    <tr style=\"text-align: right;\">\n",
       "      <th></th>\n",
       "      <th>cust_id</th>\n",
       "      <th>cred_score</th>\n",
       "      <th>age</th>\n",
       "      <th>debt_status</th>\n",
       "    </tr>\n",
       "    <tr>\n",
       "      <th>curr_cred_cards</th>\n",
       "      <th></th>\n",
       "      <th></th>\n",
       "      <th></th>\n",
       "      <th></th>\n",
       "    </tr>\n",
       "  </thead>\n",
       "  <tbody>\n",
       "    <tr>\n",
       "      <th>1</th>\n",
       "      <td>1</td>\n",
       "      <td>1</td>\n",
       "      <td>1</td>\n",
       "      <td>1</td>\n",
       "    </tr>\n",
       "    <tr>\n",
       "      <th>2</th>\n",
       "      <td>2</td>\n",
       "      <td>2</td>\n",
       "      <td>2</td>\n",
       "      <td>2</td>\n",
       "    </tr>\n",
       "    <tr>\n",
       "      <th>3</th>\n",
       "      <td>1</td>\n",
       "      <td>1</td>\n",
       "      <td>1</td>\n",
       "      <td>1</td>\n",
       "    </tr>\n",
       "    <tr>\n",
       "      <th>4</th>\n",
       "      <td>1</td>\n",
       "      <td>1</td>\n",
       "      <td>1</td>\n",
       "      <td>1</td>\n",
       "    </tr>\n",
       "  </tbody>\n",
       "</table>\n",
       "</div>"
      ],
      "text/plain": [
       "                 cust_id  cred_score  age  debt_status\n",
       "curr_cred_cards                                       \n",
       "1                      1           1    1            1\n",
       "2                      2           2    2            2\n",
       "3                      1           1    1            1\n",
       "4                      1           1    1            1"
      ]
     },
     "execution_count": 56,
     "metadata": {},
     "output_type": "execute_result"
    }
   ],
   "source": [
    "df.groupby('curr_cred_cards').count()"
   ]
  },
  {
   "cell_type": "code",
   "execution_count": 66,
   "metadata": {},
   "outputs": [
    {
     "name": "stdout",
     "output_type": "stream",
     "text": [
      "Operating System is posix\n",
      "Curent working directory is /\n",
      "List directory contents is\n",
      " ['home', 'usr', 'bin', 'sbin', '.file', 'etc', 'var', 'Library', 'System', '.VolumeIcon.icns', 'private', '.vol', 'Users', 'Applications', 'opt', 'dev', 'Volumes', 'tmp', 'cores']\n"
     ]
    }
   ],
   "source": [
    "import os\n",
    "print('Operating System is', os.name)\n",
    "print('Curent working directory is', os.getcwd())\n",
    "print('List directory contents is\\n', os.listdir())"
   ]
  }
 ],
 "metadata": {
  "kernelspec": {
   "display_name": "Python 3",
   "language": "python",
   "name": "python3"
  },
  "language_info": {
   "codemirror_mode": {
    "name": "ipython",
    "version": 3
   },
   "file_extension": ".py",
   "mimetype": "text/x-python",
   "name": "python",
   "nbconvert_exporter": "python",
   "pygments_lexer": "ipython3",
   "version": "3.12.0"
  }
 },
 "nbformat": 4,
 "nbformat_minor": 2
}
