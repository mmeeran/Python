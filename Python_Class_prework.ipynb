{
  "nbformat": 4,
  "nbformat_minor": 0,
  "metadata": {
    "colab": {
      "provenance": [],
      "toc_visible": true,
      "authorship_tag": "ABX9TyPhkqNwW2j2bp/5z1S8514a",
      "include_colab_link": true
    },
    "kernelspec": {
      "name": "python3",
      "display_name": "Python 3"
    },
    "language_info": {
      "name": "python"
    }
  },
  "cells": [
    {
      "cell_type": "markdown",
      "metadata": {
        "id": "view-in-github",
        "colab_type": "text"
      },
      "source": [
        "<a href=\"https://colab.research.google.com/github/mmeeran/Python/blob/main/Python_Class_prework.ipynb\" target=\"_parent\"><img src=\"https://colab.research.google.com/assets/colab-badge.svg\" alt=\"Open In Colab\"/></a>"
      ]
    },
    {
      "cell_type": "markdown",
      "source": [
        "#Google Colab Notes:\n",
        "https://research.google.com/colaboratory/faq.html\n",
        "\n",
        "https://colab.research.google.com/notebooks/io.ipynb\n",
        "\n",
        "External data: Local Files, Drive, Sheets, and Cloud Storage - Colaboratory (google.com)\n",
        "\n",
        "### List Comprehensions:\n",
        "https://towardsdatascience.com/how-list-comprehensions-can-help-your-code-look-better-and-run-smoother-3cf8f87172ae\n",
        "\n",
        "### List Comprehension, Conditional, and Looping Statements (Quick Code-Python)\n",
        "https://medium.com/geekculture/list-comprehension-conditional-and-looping-statements-in-python-16db4ea9e58b\n",
        "\n",
        "List Comprehension, Conditional, and Looping Statements (Quick Code-Python) | by Shreedhar Vellayaraj | Geek Culture | Medium"
      ],
      "metadata": {
        "id": "Jvr5MUbFAjFp"
      }
    },
    {
      "cell_type": "code",
      "execution_count": null,
      "metadata": {
        "colab": {
          "base_uri": "https://localhost:8080/"
        },
        "id": "9B9dL5qb6joh",
        "outputId": "e4126df1-e236-41d5-f5d7-a8ffaac6befb"
      },
      "outputs": [
        {
          "output_type": "stream",
          "name": "stdout",
          "text": [
            "Allahu Akbar\n"
          ]
        }
      ],
      "source": [
        "print('Allahu Akbar')"
      ]
    },
    {
      "cell_type": "markdown",
      "source": [
        "# Python"
      ],
      "metadata": {
        "id": "wnfI7iouCKaI"
      }
    },
    {
      "cell_type": "code",
      "source": [
        "a = 10\n",
        "b = 5.1\n",
        "add = a + b\n",
        "\n",
        "print(type(add))"
      ],
      "metadata": {
        "colab": {
          "base_uri": "https://localhost:8080/"
        },
        "id": "3BbBNOAh9T5Q",
        "outputId": "ff7bf44b-63c3-41d8-e713-a64e41c1ef7e"
      },
      "execution_count": null,
      "outputs": [
        {
          "output_type": "stream",
          "name": "stdout",
          "text": [
            "<class 'float'>\n"
          ]
        }
      ]
    },
    {
      "cell_type": "code",
      "source": [
        "#checking if it is true\n",
        "5 == (3 + 2)"
      ],
      "metadata": {
        "colab": {
          "base_uri": "https://localhost:8080/"
        },
        "id": "aPqf-QCy9aAj",
        "outputId": "99936eb4-61a5-4734-dbf9-1ad84eefe9e6"
      },
      "execution_count": null,
      "outputs": [
        {
          "output_type": "execute_result",
          "data": {
            "text/plain": [
              "True"
            ]
          },
          "metadata": {},
          "execution_count": 3
        }
      ]
    },
    {
      "cell_type": "code",
      "source": [
        "\n",
        "a = 3\n",
        "print(a + (33))\n"
      ],
      "metadata": {
        "colab": {
          "base_uri": "https://localhost:8080/"
        },
        "id": "X6k9JaMF9moQ",
        "outputId": "f22caa95-6128-43e3-cd7f-c9b4a4a66c3e"
      },
      "execution_count": null,
      "outputs": [
        {
          "output_type": "stream",
          "name": "stdout",
          "text": [
            "36\n"
          ]
        }
      ]
    },
    {
      "cell_type": "code",
      "source": [
        "v = 10\n",
        "w = 25\n",
        "x = 70\n",
        "y = 2\n",
        "z = (v + w) * (x / y)\n",
        "\n",
        "print(z)\n",
        "print(type(z))"
      ],
      "metadata": {
        "colab": {
          "base_uri": "https://localhost:8080/"
        },
        "id": "yHXQnJdr9oSo",
        "outputId": "fc331eb0-7287-4d8a-9131-aa2f9be89437"
      },
      "execution_count": null,
      "outputs": [
        {
          "output_type": "stream",
          "name": "stdout",
          "text": [
            "1225.0\n",
            "<class 'float'>\n"
          ]
        }
      ]
    },
    {
      "cell_type": "code",
      "source": [
        "\n",
        "celsius = 35\n",
        "fah = 1.8 * celsius + 32\n",
        "print(\"Temperature in Fahrenheit =\", fah)"
      ],
      "metadata": {
        "colab": {
          "base_uri": "https://localhost:8080/"
        },
        "id": "hgfWb46h9_qn",
        "outputId": "d7a8e13b-a364-49d5-df7e-f20e639015c4"
      },
      "execution_count": null,
      "outputs": [
        {
          "output_type": "stream",
          "name": "stdout",
          "text": [
            "Temperature in Fahrenheit = 95.0\n"
          ]
        }
      ]
    },
    {
      "cell_type": "code",
      "source": [
        "\n",
        "repeated_list = [2] * 4\n",
        "print(repeated_list)"
      ],
      "metadata": {
        "colab": {
          "base_uri": "https://localhost:8080/"
        },
        "id": "JHBnsjCk-FJl",
        "outputId": "7e59a6f5-fdbe-4ea3-f059-ca2ab41a3597"
      },
      "execution_count": null,
      "outputs": [
        {
          "output_type": "stream",
          "name": "stdout",
          "text": [
            "[2, 2, 2, 2]\n"
          ]
        }
      ]
    },
    {
      "cell_type": "code",
      "source": [
        "\n",
        "fruit = [\"apple\",\"orange\",\"grapes\",\"watermelon\"]\n",
        "print(fruit[2])\n",
        "print(fruit[1])\n"
      ],
      "metadata": {
        "colab": {
          "base_uri": "https://localhost:8080/"
        },
        "id": "QzMjj2zP-JOY",
        "outputId": "4262d54a-ace4-4d3f-bad7-3e17523209c8"
      },
      "execution_count": null,
      "outputs": [
        {
          "output_type": "stream",
          "name": "stdout",
          "text": [
            "grapes\n",
            "orange\n"
          ]
        }
      ]
    },
    {
      "cell_type": "code",
      "source": [
        "alphabet = ['a','b','c']\n",
        "for i in alphabet:\n",
        " print(i)"
      ],
      "metadata": {
        "colab": {
          "base_uri": "https://localhost:8080/"
        },
        "id": "AC4mo2ph-QOf",
        "outputId": "e6d7a7c8-ed73-4385-eef6-954e2c8e96fc"
      },
      "execution_count": null,
      "outputs": [
        {
          "output_type": "stream",
          "name": "stdout",
          "text": [
            "a\n",
            "b\n",
            "c\n"
          ]
        }
      ]
    },
    {
      "cell_type": "code",
      "source": [
        "\n",
        "number = [1, 12, 24, 36, 11, 20,50]\n",
        "for i in number:\n",
        " sq = i * i\n",
        " print(sq)"
      ],
      "metadata": {
        "colab": {
          "base_uri": "https://localhost:8080/"
        },
        "id": "RsCVguBB-Uq_",
        "outputId": "5a034ad4-a5d0-46d1-b041-81540c2fa43d"
      },
      "execution_count": null,
      "outputs": [
        {
          "output_type": "stream",
          "name": "stdout",
          "text": [
            "1\n",
            "144\n",
            "576\n",
            "1296\n",
            "121\n",
            "400\n",
            "2500\n"
          ]
        }
      ]
    },
    {
      "cell_type": "code",
      "source": [
        "color = ['white','red', 'blue', 'green','blue','yellow', 'black']\n",
        "color.pop(5)"
      ],
      "metadata": {
        "colab": {
          "base_uri": "https://localhost:8080/",
          "height": 35
        },
        "id": "CWLivn6W-YrO",
        "outputId": "ffd36a9a-821c-4397-e238-dd8e97de92c1"
      },
      "execution_count": null,
      "outputs": [
        {
          "output_type": "execute_result",
          "data": {
            "text/plain": [
              "'yellow'"
            ],
            "application/vnd.google.colaboratory.intrinsic+json": {
              "type": "string"
            }
          },
          "metadata": {},
          "execution_count": 11
        }
      ]
    },
    {
      "cell_type": "code",
      "source": [
        "\n",
        "color = ['white','red', 'blue', 'green','blue','yellow', 'black']\n",
        "len(color)"
      ],
      "metadata": {
        "colab": {
          "base_uri": "https://localhost:8080/"
        },
        "id": "Da9-Nf4w-coa",
        "outputId": "72a9b9db-2037-447e-f6ef-427105848014"
      },
      "execution_count": null,
      "outputs": [
        {
          "output_type": "execute_result",
          "data": {
            "text/plain": [
              "7"
            ]
          },
          "metadata": {},
          "execution_count": 12
        }
      ]
    },
    {
      "cell_type": "code",
      "source": [
        "\n",
        "car = { \"brand\" : \"Audi\",\"model\" : \"Q2\", \"year\" : 1980}\n",
        "print(car)"
      ],
      "metadata": {
        "colab": {
          "base_uri": "https://localhost:8080/"
        },
        "id": "zG5I36eU-gi8",
        "outputId": "96c00d40-1ee7-43ee-8649-188981307f3c"
      },
      "execution_count": null,
      "outputs": [
        {
          "output_type": "stream",
          "name": "stdout",
          "text": [
            "{'brand': 'Audi', 'model': 'Q2', 'year': 1980}\n"
          ]
        }
      ]
    },
    {
      "cell_type": "code",
      "source": [
        "\n",
        "car = { \"brand\" : \"Audi\",\"model\" : \"Q2\", \"year\" : 1980}\n",
        "print(car)\n",
        "car[\"year\"] = 2019\n",
        "print(car)"
      ],
      "metadata": {
        "colab": {
          "base_uri": "https://localhost:8080/"
        },
        "id": "GhtnhSvB-lD_",
        "outputId": "c13af385-b2ef-4858-eb4e-6727da2dd60d"
      },
      "execution_count": null,
      "outputs": [
        {
          "output_type": "stream",
          "name": "stdout",
          "text": [
            "{'brand': 'Audi', 'model': 'Q2', 'year': 1980}\n",
            "{'brand': 'Audi', 'model': 'Q2', 'year': 2019}\n"
          ]
        }
      ]
    },
    {
      "cell_type": "code",
      "source": [
        "\n",
        "a = 56\n",
        "if a == 10:\n",
        " print(\"Hello\")\n",
        "else:\n",
        " print(\"Good Bye\")"
      ],
      "metadata": {
        "colab": {
          "base_uri": "https://localhost:8080/"
        },
        "id": "hMty-KTT-oul",
        "outputId": "c5d978ab-abeb-45b4-cf8c-a8bef4b6637b"
      },
      "execution_count": null,
      "outputs": [
        {
          "output_type": "stream",
          "name": "stdout",
          "text": [
            "Good Bye\n"
          ]
        }
      ]
    },
    {
      "cell_type": "code",
      "source": [
        "\n",
        "a = 2020\n",
        "if a % 2 == 0:\n",
        " print(\"Number is Even\")\n",
        "else:\n",
        " print(\"Number is Odd\")"
      ],
      "metadata": {
        "colab": {
          "base_uri": "https://localhost:8080/"
        },
        "id": "4a2XLmrd-tRD",
        "outputId": "15b70d01-8dd8-4224-fbbc-223e7cc1fba1"
      },
      "execution_count": null,
      "outputs": [
        {
          "output_type": "stream",
          "name": "stdout",
          "text": [
            "Number is Even\n"
          ]
        }
      ]
    },
    {
      "cell_type": "code",
      "source": [
        "\n",
        "length = 5\n",
        "breadth = 10\n",
        "# find the area and perimeter of the rectangle\n",
        "Area = length * breadth\n",
        "Perimeter = 2 * (length + breadth)\n",
        "# check whether the area of the rectangle is greater than the perimeter of the rectangle\n",
        "if Area > Perimeter:\n",
        " print(\"Area of the rectangle is greater than the Perimeter of the rectangle\")\n",
        "else:\n",
        " print(\"Perimeter of the rectangle is greater than the Area of the rectangle\")\n"
      ],
      "metadata": {
        "colab": {
          "base_uri": "https://localhost:8080/"
        },
        "id": "GP2NpLwf-yL-",
        "outputId": "854017d5-a1a3-42a7-d035-d4820d96d937"
      },
      "execution_count": null,
      "outputs": [
        {
          "output_type": "stream",
          "name": "stdout",
          "text": [
            "Area of the rectangle is greater than the Perimeter of the rectangle\n"
          ]
        }
      ]
    },
    {
      "cell_type": "code",
      "source": [
        "\n",
        "m1 = 72\n",
        "m2 = 85\n",
        "m3 = 96\n",
        "m4 = 42\n",
        "m5 = 95\n",
        "avg = (m1 + m2 + m3 + m4 + m5) / 5\n",
        "print(\"Average=\", avg)\n",
        "if avg > 90:\n",
        " print(\"Grade A\")\n",
        "elif avg > 80:\n",
        " print(\"Grade B\")\n",
        "elif avg > 70:\n",
        " print(\"Grade C\")\n",
        "elif avg > 60:\n",
        " print(\"Grade D\")\n",
        "elif avg > 50:\n",
        " print(\"Grade E\")\n",
        "else:\n",
        " print(\"Fail\")"
      ],
      "metadata": {
        "colab": {
          "base_uri": "https://localhost:8080/"
        },
        "id": "mFBI3dau-15r",
        "outputId": "0d821a61-53f6-44c4-be4f-cb4b1f75e546"
      },
      "execution_count": null,
      "outputs": [
        {
          "output_type": "stream",
          "name": "stdout",
          "text": [
            "Average= 78.0\n",
            "Grade C\n"
          ]
        }
      ]
    },
    {
      "cell_type": "code",
      "source": [
        "\n",
        "a = \"I am a Data Scientist\"\n",
        "if \"Data\" in a:\n",
        " print(\"It is present\")\n",
        "else:\n",
        " print(False)"
      ],
      "metadata": {
        "colab": {
          "base_uri": "https://localhost:8080/"
        },
        "id": "TpAr4h9k-7vm",
        "outputId": "6ce0fd10-1784-4695-ea3e-7a2d619dc5c3"
      },
      "execution_count": null,
      "outputs": [
        {
          "output_type": "stream",
          "name": "stdout",
          "text": [
            "It is present\n"
          ]
        }
      ]
    },
    {
      "cell_type": "code",
      "source": [
        "a = -99\n",
        "if a > 0:\n",
        " print(\"Number is Positive\")\n",
        "else:\n",
        " print(\"Number is negative\")"
      ],
      "metadata": {
        "colab": {
          "base_uri": "https://localhost:8080/"
        },
        "id": "TssyAEOz_D0u",
        "outputId": "a3c37fd2-2cb2-452a-d632-f6f8fe24cbc6"
      },
      "execution_count": null,
      "outputs": [
        {
          "output_type": "stream",
          "name": "stdout",
          "text": [
            "Number is negative\n"
          ]
        }
      ]
    },
    {
      "cell_type": "code",
      "source": [
        "\n",
        "age = int(input('Enter your age: '))\n",
        "if age < 18:\n",
        " print(\"Not Eligible for work\")\n",
        "elif age >= 18 and age <= 60:\n",
        " print(\"Eligible to work\")\n",
        "else:\n",
        " print(\"Too old to work as per the government rules\")"
      ],
      "metadata": {
        "colab": {
          "base_uri": "https://localhost:8080/"
        },
        "id": "a8n-yxKs_IGL",
        "outputId": "cb497f36-4251-4890-d252-8b7288e55114"
      },
      "execution_count": null,
      "outputs": [
        {
          "output_type": "stream",
          "name": "stdout",
          "text": [
            "Enter your age: 77\n",
            "Too old to work as per the government rules\n"
          ]
        }
      ]
    },
    {
      "cell_type": "code",
      "source": [
        "\n",
        "first = 25\n",
        "second = 34\n",
        "third = 45\n",
        "if first >= second and first >= third:\n",
        " print(first)\n",
        "elif second >= first and second >= third:\n",
        " print(second)\n",
        "elif third >= first and third >= second:\n",
        " print(third)\n",
        "else:\n",
        " print(\"All of the values are equal\")"
      ],
      "metadata": {
        "colab": {
          "base_uri": "https://localhost:8080/"
        },
        "id": "ubgFi-Mz_RX7",
        "outputId": "7f567d3d-23a3-45d9-f448-a276abd66d53"
      },
      "execution_count": null,
      "outputs": [
        {
          "output_type": "stream",
          "name": "stdout",
          "text": [
            "45\n"
          ]
        }
      ]
    },
    {
      "cell_type": "code",
      "source": [
        "\n",
        "for i in range(-10, 0, 1):\n",
        " print(i)\n"
      ],
      "metadata": {
        "colab": {
          "base_uri": "https://localhost:8080/"
        },
        "id": "xAwrCoY2_U8z",
        "outputId": "59f3dd2c-67d0-432a-cee9-b5783c0e76ce"
      },
      "execution_count": null,
      "outputs": [
        {
          "output_type": "stream",
          "name": "stdout",
          "text": [
            "-10\n",
            "-9\n",
            "-8\n",
            "-7\n",
            "-6\n",
            "-5\n",
            "-4\n",
            "-3\n",
            "-2\n",
            "-1\n"
          ]
        }
      ]
    },
    {
      "cell_type": "code",
      "source": [
        "\n",
        "n = 8\n",
        "for i in range(1, 11):\n",
        " print(\"{} ^ {} =\".format(n, i), n**i)"
      ],
      "metadata": {
        "colab": {
          "base_uri": "https://localhost:8080/"
        },
        "id": "2PWiwPXh_Yve",
        "outputId": "4debdaa9-f931-4738-8e89-160c03b80ec7"
      },
      "execution_count": null,
      "outputs": [
        {
          "output_type": "stream",
          "name": "stdout",
          "text": [
            "8 ^ 1 = 8\n",
            "8 ^ 2 = 64\n",
            "8 ^ 3 = 512\n",
            "8 ^ 4 = 4096\n",
            "8 ^ 5 = 32768\n",
            "8 ^ 6 = 262144\n",
            "8 ^ 7 = 2097152\n",
            "8 ^ 8 = 16777216\n",
            "8 ^ 9 = 134217728\n",
            "8 ^ 10 = 1073741824\n"
          ]
        }
      ]
    },
    {
      "cell_type": "code",
      "source": [
        "\n",
        "for i in range(1, 50):\n",
        " if(i % 3 == 0 and i % 5 == 0):\n",
        "     print(\"FizzBuzz => \" + str(i))\n",
        " elif (i % 3 == 0):\n",
        "     print(\"Fizz => \" + str(i))\n",
        " elif(i % 5 == 0):\n",
        "     print(\"Buzz => \" + str(i))\n"
      ],
      "metadata": {
        "colab": {
          "base_uri": "https://localhost:8080/"
        },
        "id": "KbicVdi1_dk7",
        "outputId": "d04cfa65-b241-487a-b237-28ed92ca1271"
      },
      "execution_count": null,
      "outputs": [
        {
          "output_type": "stream",
          "name": "stdout",
          "text": [
            "Fizz => 3\n",
            "Buzz => 5\n",
            "Fizz => 6\n",
            "Fizz => 9\n",
            "Buzz => 10\n",
            "Fizz => 12\n",
            "FizzBuzz => 15\n",
            "Fizz => 18\n",
            "Buzz => 20\n",
            "Fizz => 21\n",
            "Fizz => 24\n",
            "Buzz => 25\n",
            "Fizz => 27\n",
            "FizzBuzz => 30\n",
            "Fizz => 33\n",
            "Buzz => 35\n",
            "Fizz => 36\n",
            "Fizz => 39\n",
            "Buzz => 40\n",
            "Fizz => 42\n",
            "FizzBuzz => 45\n",
            "Fizz => 48\n"
          ]
        }
      ]
    },
    {
      "cell_type": "code",
      "source": [
        "\n",
        "for i in range(202, 321):\n",
        "    if i % 7 == 0 and i % 5 != 0:\n",
        "        print(i)\n"
      ],
      "metadata": {
        "colab": {
          "base_uri": "https://localhost:8080/"
        },
        "id": "YLOVZv32_f-7",
        "outputId": "e9eac636-e11e-4b6c-e7f0-d48f6ece720d"
      },
      "execution_count": null,
      "outputs": [
        {
          "output_type": "stream",
          "name": "stdout",
          "text": [
            "203\n",
            "217\n",
            "224\n",
            "231\n",
            "238\n",
            "252\n",
            "259\n",
            "266\n",
            "273\n",
            "287\n",
            "294\n",
            "301\n",
            "308\n"
          ]
        }
      ]
    },
    {
      "cell_type": "code",
      "source": [
        "\n",
        "st = \"Data Science\"\n",
        "count = 0\n",
        "for i in st:\n",
        " if i == \"a\" or i == \"e\" or i == \"i\" or i == \"o\" or i == \"u\":\n",
        "     count = count + 1\n",
        "print(count)\n"
      ],
      "metadata": {
        "colab": {
          "base_uri": "https://localhost:8080/"
        },
        "id": "SbGIYX7P_nVE",
        "outputId": "49e42cc4-97cb-49c2-df5f-752daca929c1"
      },
      "execution_count": null,
      "outputs": [
        {
          "output_type": "stream",
          "name": "stdout",
          "text": [
            "5\n"
          ]
        }
      ]
    },
    {
      "cell_type": "code",
      "source": [
        "\n",
        "a = \"Data Science\"\n",
        "for i in range(0, 5):\n",
        " print(a)"
      ],
      "metadata": {
        "colab": {
          "base_uri": "https://localhost:8080/"
        },
        "id": "ndPwJjvj_plI",
        "outputId": "67fb3480-2ddb-46a9-d731-c6ac81e6b9bf"
      },
      "execution_count": null,
      "outputs": [
        {
          "output_type": "stream",
          "name": "stdout",
          "text": [
            "Data Science\n",
            "Data Science\n",
            "Data Science\n",
            "Data Science\n",
            "Data Science\n"
          ]
        }
      ]
    },
    {
      "cell_type": "code",
      "source": [
        "\n",
        "def mths(a, b):\n",
        " print(a + b)\n",
        " print(a - b)\n",
        " print(a * b)\n",
        " print(a // b)\n",
        "\n",
        "mths(9, 5)"
      ],
      "metadata": {
        "colab": {
          "base_uri": "https://localhost:8080/"
        },
        "id": "e2P-VfSk_qKW",
        "outputId": "c734ae3e-ab4b-4c42-d7f6-e5a2575ab613"
      },
      "execution_count": null,
      "outputs": [
        {
          "output_type": "stream",
          "name": "stdout",
          "text": [
            "14\n",
            "4\n",
            "45\n",
            "1\n"
          ]
        }
      ]
    },
    {
      "cell_type": "code",
      "source": [
        "\n",
        "def sq():\n",
        " for i in range(1, 11):\n",
        "     print(i ** 2)\n",
        "\n",
        "sq()"
      ],
      "metadata": {
        "colab": {
          "base_uri": "https://localhost:8080/"
        },
        "id": "s441gJ1M_0d6",
        "outputId": "0435e89a-ea80-4768-cacf-6176eafcba1f"
      },
      "execution_count": null,
      "outputs": [
        {
          "output_type": "stream",
          "name": "stdout",
          "text": [
            "1\n",
            "4\n",
            "9\n",
            "16\n",
            "25\n",
            "36\n",
            "49\n",
            "64\n",
            "81\n",
            "100\n"
          ]
        }
      ]
    },
    {
      "cell_type": "code",
      "source": [
        "\n",
        "function = lambda x: x * x + 5\n",
        "\n",
        "function (1)"
      ],
      "metadata": {
        "colab": {
          "base_uri": "https://localhost:8080/"
        },
        "id": "ONXlziar_4Jg",
        "outputId": "8d159a48-f52e-40f8-f718-a268a0014513"
      },
      "execution_count": null,
      "outputs": [
        {
          "output_type": "execute_result",
          "data": {
            "text/plain": [
              "6"
            ]
          },
          "metadata": {},
          "execution_count": 33
        }
      ]
    },
    {
      "cell_type": "code",
      "source": [
        "\n",
        "def power(a, b):\n",
        " return a ** b\n",
        "power(7,2)"
      ],
      "metadata": {
        "colab": {
          "base_uri": "https://localhost:8080/"
        },
        "id": "KrEsJgfX_-EM",
        "outputId": "356bcb4e-d699-4229-c9da-e821a19d667d"
      },
      "execution_count": null,
      "outputs": [
        {
          "output_type": "execute_result",
          "data": {
            "text/plain": [
              "49"
            ]
          },
          "metadata": {},
          "execution_count": 34
        }
      ]
    },
    {
      "cell_type": "code",
      "source": [
        "\n",
        "def sq(base, height):\n",
        " return 0.5 * base * height\n",
        "sq(5, 10)\n"
      ],
      "metadata": {
        "colab": {
          "base_uri": "https://localhost:8080/"
        },
        "id": "O544L1gQADho",
        "outputId": "989cf184-0153-427f-c762-a877a9825d3c"
      },
      "execution_count": null,
      "outputs": [
        {
          "output_type": "execute_result",
          "data": {
            "text/plain": [
              "25.0"
            ]
          },
          "metadata": {},
          "execution_count": 35
        }
      ]
    },
    {
      "cell_type": "code",
      "source": [
        "\n",
        "def greet(country):\n",
        " print(\"I am from\", country)\n",
        "greet(\"Sweden\")"
      ],
      "metadata": {
        "colab": {
          "base_uri": "https://localhost:8080/"
        },
        "id": "gzU3Ut9rANUO",
        "outputId": "c6984048-3d85-4633-d382-255de5013774"
      },
      "execution_count": null,
      "outputs": [
        {
          "output_type": "stream",
          "name": "stdout",
          "text": [
            "I am from Sweden\n"
          ]
        }
      ]
    },
    {
      "cell_type": "code",
      "source": [
        "\n",
        "def convert(celsius):\n",
        " fah = 1.8 * celsius + 32\n",
        " print(\"Temperature in Fahrenheit =\", fah)\n",
        "convert(20)"
      ],
      "metadata": {
        "colab": {
          "base_uri": "https://localhost:8080/"
        },
        "id": "DZOGdS-9ARjx",
        "outputId": "ec0a4e7c-de47-4bf6-d0ed-80a54ef194e1"
      },
      "execution_count": null,
      "outputs": [
        {
          "output_type": "stream",
          "name": "stdout",
          "text": [
            "Temperature in Fahrenheit = 68.0\n"
          ]
        }
      ]
    }
  ]
}