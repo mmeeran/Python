{
  "nbformat": 4,
  "nbformat_minor": 0,
  "metadata": {
    "colab": {
      "provenance": [],
      "authorship_tag": "ABX9TyM5ESrO4hG+w8B0mtrl1e+R",
      "include_colab_link": true
    },
    "kernelspec": {
      "name": "python3",
      "display_name": "Python 3"
    },
    "language_info": {
      "name": "python"
    }
  },
  "cells": [
    {
      "cell_type": "markdown",
      "metadata": {
        "id": "view-in-github",
        "colab_type": "text"
      },
      "source": [
        "<a href=\"https://colab.research.google.com/github/mmeeran/Python/blob/main/Python_Class_prework.ipynb\" target=\"_parent\"><img src=\"https://colab.research.google.com/assets/colab-badge.svg\" alt=\"Open In Colab\"/></a>"
      ]
    },
    {
      "cell_type": "code",
      "execution_count": 1,
      "metadata": {
        "colab": {
          "base_uri": "https://localhost:8080/"
        },
        "id": "9B9dL5qb6joh",
        "outputId": "e4126df1-e236-41d5-f5d7-a8ffaac6befb"
      },
      "outputs": [
        {
          "output_type": "stream",
          "name": "stdout",
          "text": [
            "Allahu Akbar\n"
          ]
        }
      ],
      "source": [
        "print('Allahu Akbar')"
      ]
    },
    {
      "cell_type": "code",
      "source": [
        "a = 10\n",
        "b = 5.1\n",
        "add = a + b\n",
        "\n",
        "print(type(add))"
      ],
      "metadata": {
        "colab": {
          "base_uri": "https://localhost:8080/"
        },
        "id": "3BbBNOAh9T5Q",
        "outputId": "ff7bf44b-63c3-41d8-e713-a64e41c1ef7e"
      },
      "execution_count": 2,
      "outputs": [
        {
          "output_type": "stream",
          "name": "stdout",
          "text": [
            "<class 'float'>\n"
          ]
        }
      ]
    },
    {
      "cell_type": "code",
      "source": [
        "#checking if it is true\n",
        "5 == (3 + 2)"
      ],
      "metadata": {
        "colab": {
          "base_uri": "https://localhost:8080/"
        },
        "id": "aPqf-QCy9aAj",
        "outputId": "99936eb4-61a5-4734-dbf9-1ad84eefe9e6"
      },
      "execution_count": 3,
      "outputs": [
        {
          "output_type": "execute_result",
          "data": {
            "text/plain": [
              "True"
            ]
          },
          "metadata": {},
          "execution_count": 3
        }
      ]
    },
    {
      "cell_type": "code",
      "source": [
        "\n",
        "a = 3\n",
        "print(a + (33))\n"
      ],
      "metadata": {
        "colab": {
          "base_uri": "https://localhost:8080/"
        },
        "id": "X6k9JaMF9moQ",
        "outputId": "f22caa95-6128-43e3-cd7f-c9b4a4a66c3e"
      },
      "execution_count": 4,
      "outputs": [
        {
          "output_type": "stream",
          "name": "stdout",
          "text": [
            "36\n"
          ]
        }
      ]
    },
    {
      "cell_type": "code",
      "source": [
        "v = 10\n",
        "w = 25\n",
        "x = 70\n",
        "y = 2\n",
        "z = (v + w) * (x / y)\n",
        "\n",
        "print(z)\n",
        "print(type(z))"
      ],
      "metadata": {
        "colab": {
          "base_uri": "https://localhost:8080/"
        },
        "id": "yHXQnJdr9oSo",
        "outputId": "fc331eb0-7287-4d8a-9131-aa2f9be89437"
      },
      "execution_count": 5,
      "outputs": [
        {
          "output_type": "stream",
          "name": "stdout",
          "text": [
            "1225.0\n",
            "<class 'float'>\n"
          ]
        }
      ]
    },
    {
      "cell_type": "code",
      "source": [
        "\n",
        "celsius = 35\n",
        "fah = 1.8 * celsius + 32\n",
        "print(\"Temperature in Fahrenheit =\", fah)"
      ],
      "metadata": {
        "colab": {
          "base_uri": "https://localhost:8080/"
        },
        "id": "hgfWb46h9_qn",
        "outputId": "d7a8e13b-a364-49d5-df7e-f20e639015c4"
      },
      "execution_count": 6,
      "outputs": [
        {
          "output_type": "stream",
          "name": "stdout",
          "text": [
            "Temperature in Fahrenheit = 95.0\n"
          ]
        }
      ]
    },
    {
      "cell_type": "code",
      "source": [
        "\n",
        "repeated_list = [2] * 4\n",
        "print(repeated_list)"
      ],
      "metadata": {
        "colab": {
          "base_uri": "https://localhost:8080/"
        },
        "id": "JHBnsjCk-FJl",
        "outputId": "7e59a6f5-fdbe-4ea3-f059-ca2ab41a3597"
      },
      "execution_count": 7,
      "outputs": [
        {
          "output_type": "stream",
          "name": "stdout",
          "text": [
            "[2, 2, 2, 2]\n"
          ]
        }
      ]
    },
    {
      "cell_type": "code",
      "source": [
        "\n",
        "fruit = [\"apple\",\"orange\",\"grapes\",\"watermelon\"]\n",
        "print(fruit[2])\n",
        "print(fruit[1])\n"
      ],
      "metadata": {
        "colab": {
          "base_uri": "https://localhost:8080/"
        },
        "id": "QzMjj2zP-JOY",
        "outputId": "4262d54a-ace4-4d3f-bad7-3e17523209c8"
      },
      "execution_count": 8,
      "outputs": [
        {
          "output_type": "stream",
          "name": "stdout",
          "text": [
            "grapes\n",
            "orange\n"
          ]
        }
      ]
    },
    {
      "cell_type": "code",
      "source": [
        "alphabet = ['a','b','c']\n",
        "for i in alphabet:\n",
        " print(i)"
      ],
      "metadata": {
        "colab": {
          "base_uri": "https://localhost:8080/"
        },
        "id": "AC4mo2ph-QOf",
        "outputId": "e6d7a7c8-ed73-4385-eef6-954e2c8e96fc"
      },
      "execution_count": 9,
      "outputs": [
        {
          "output_type": "stream",
          "name": "stdout",
          "text": [
            "a\n",
            "b\n",
            "c\n"
          ]
        }
      ]
    },
    {
      "cell_type": "code",
      "source": [
        "\n",
        "number = [1, 12, 24, 36, 11, 20,50]\n",
        "for i in number:\n",
        " sq = i * i\n",
        " print(sq)"
      ],
      "metadata": {
        "colab": {
          "base_uri": "https://localhost:8080/"
        },
        "id": "RsCVguBB-Uq_",
        "outputId": "5a034ad4-a5d0-46d1-b041-81540c2fa43d"
      },
      "execution_count": 10,
      "outputs": [
        {
          "output_type": "stream",
          "name": "stdout",
          "text": [
            "1\n",
            "144\n",
            "576\n",
            "1296\n",
            "121\n",
            "400\n",
            "2500\n"
          ]
        }
      ]
    },
    {
      "cell_type": "code",
      "source": [
        "color = ['white','red', 'blue', 'green','blue','yellow', 'black']\n",
        "color.pop(5)"
      ],
      "metadata": {
        "colab": {
          "base_uri": "https://localhost:8080/",
          "height": 35
        },
        "id": "CWLivn6W-YrO",
        "outputId": "ffd36a9a-821c-4397-e238-dd8e97de92c1"
      },
      "execution_count": 11,
      "outputs": [
        {
          "output_type": "execute_result",
          "data": {
            "text/plain": [
              "'yellow'"
            ],
            "application/vnd.google.colaboratory.intrinsic+json": {
              "type": "string"
            }
          },
          "metadata": {},
          "execution_count": 11
        }
      ]
    },
    {
      "cell_type": "code",
      "source": [
        "\n",
        "color = ['white','red', 'blue', 'green','blue','yellow', 'black']\n",
        "len(color)"
      ],
      "metadata": {
        "colab": {
          "base_uri": "https://localhost:8080/"
        },
        "id": "Da9-Nf4w-coa",
        "outputId": "72a9b9db-2037-447e-f6ef-427105848014"
      },
      "execution_count": 12,
      "outputs": [
        {
          "output_type": "execute_result",
          "data": {
            "text/plain": [
              "7"
            ]
          },
          "metadata": {},
          "execution_count": 12
        }
      ]
    },
    {
      "cell_type": "code",
      "source": [
        "\n",
        "car = { \"brand\" : \"Audi\",\"model\" : \"Q2\", \"year\" : 1980}\n",
        "print(car)"
      ],
      "metadata": {
        "colab": {
          "base_uri": "https://localhost:8080/"
        },
        "id": "zG5I36eU-gi8",
        "outputId": "96c00d40-1ee7-43ee-8649-188981307f3c"
      },
      "execution_count": 13,
      "outputs": [
        {
          "output_type": "stream",
          "name": "stdout",
          "text": [
            "{'brand': 'Audi', 'model': 'Q2', 'year': 1980}\n"
          ]
        }
      ]
    },
    {
      "cell_type": "code",
      "source": [
        "\n",
        "car = { \"brand\" : \"Audi\",\"model\" : \"Q2\", \"year\" : 1980}\n",
        "print(car)\n",
        "car[\"year\"] = 2019\n",
        "print(car)"
      ],
      "metadata": {
        "colab": {
          "base_uri": "https://localhost:8080/"
        },
        "id": "GhtnhSvB-lD_",
        "outputId": "c13af385-b2ef-4858-eb4e-6727da2dd60d"
      },
      "execution_count": 14,
      "outputs": [
        {
          "output_type": "stream",
          "name": "stdout",
          "text": [
            "{'brand': 'Audi', 'model': 'Q2', 'year': 1980}\n",
            "{'brand': 'Audi', 'model': 'Q2', 'year': 2019}\n"
          ]
        }
      ]
    },
    {
      "cell_type": "code",
      "source": [
        "\n",
        "a = 56\n",
        "if a == 10:\n",
        " print(\"Hello\")\n",
        "else:\n",
        " print(\"Good Bye\")"
      ],
      "metadata": {
        "colab": {
          "base_uri": "https://localhost:8080/"
        },
        "id": "hMty-KTT-oul",
        "outputId": "c5d978ab-abeb-45b4-cf8c-a8bef4b6637b"
      },
      "execution_count": 15,
      "outputs": [
        {
          "output_type": "stream",
          "name": "stdout",
          "text": [
            "Good Bye\n"
          ]
        }
      ]
    },
    {
      "cell_type": "code",
      "source": [
        "\n",
        "a = 2020\n",
        "if a % 2 == 0:\n",
        " print(\"Number is Even\")\n",
        "else:\n",
        " print(\"Number is Odd\")"
      ],
      "metadata": {
        "colab": {
          "base_uri": "https://localhost:8080/"
        },
        "id": "4a2XLmrd-tRD",
        "outputId": "15b70d01-8dd8-4224-fbbc-223e7cc1fba1"
      },
      "execution_count": 16,
      "outputs": [
        {
          "output_type": "stream",
          "name": "stdout",
          "text": [
            "Number is Even\n"
          ]
        }
      ]
    },
    {
      "cell_type": "code",
      "source": [
        "\n",
        "length = 5\n",
        "breadth = 10\n",
        "# find the area and perimeter of the rectangle\n",
        "Area = length * breadth\n",
        "Perimeter = 2 * (length + breadth)\n",
        "# check whether the area of the rectangle is greater than the perimeter of the rectangle\n",
        "if Area > Perimeter:\n",
        " print(\"Area of the rectangle is greater than the Perimeter of the rectangle\")\n",
        "else:\n",
        " print(\"Perimeter of the rectangle is greater than the Area of the rectangle\")\n"
      ],
      "metadata": {
        "colab": {
          "base_uri": "https://localhost:8080/"
        },
        "id": "GP2NpLwf-yL-",
        "outputId": "854017d5-a1a3-42a7-d035-d4820d96d937"
      },
      "execution_count": 17,
      "outputs": [
        {
          "output_type": "stream",
          "name": "stdout",
          "text": [
            "Area of the rectangle is greater than the Perimeter of the rectangle\n"
          ]
        }
      ]
    },
    {
      "cell_type": "code",
      "source": [
        "\n",
        "m1 = 72\n",
        "m2 = 85\n",
        "m3 = 96\n",
        "m4 = 42\n",
        "m5 = 95\n",
        "avg = (m1 + m2 + m3 + m4 + m5) / 5\n",
        "print(\"Average=\", avg)\n",
        "if avg > 90:\n",
        " print(\"Grade A\")\n",
        "elif avg > 80:\n",
        " print(\"Grade B\")\n",
        "elif avg > 70:\n",
        " print(\"Grade C\")\n",
        "elif avg > 60:\n",
        " print(\"Grade D\")\n",
        "elif avg > 50:\n",
        " print(\"Grade E\")\n",
        "else:\n",
        " print(\"Fail\")"
      ],
      "metadata": {
        "colab": {
          "base_uri": "https://localhost:8080/"
        },
        "id": "mFBI3dau-15r",
        "outputId": "0d821a61-53f6-44c4-be4f-cb4b1f75e546"
      },
      "execution_count": 18,
      "outputs": [
        {
          "output_type": "stream",
          "name": "stdout",
          "text": [
            "Average= 78.0\n",
            "Grade C\n"
          ]
        }
      ]
    },
    {
      "cell_type": "code",
      "source": [
        "\n",
        "a = \"I am a Data Scientist\"\n",
        "if \"Data\" in a:\n",
        " print(\"It is present\")\n",
        "else:\n",
        " print(False)"
      ],
      "metadata": {
        "colab": {
          "base_uri": "https://localhost:8080/"
        },
        "id": "TpAr4h9k-7vm",
        "outputId": "6ce0fd10-1784-4695-ea3e-7a2d619dc5c3"
      },
      "execution_count": 19,
      "outputs": [
        {
          "output_type": "stream",
          "name": "stdout",
          "text": [
            "It is present\n"
          ]
        }
      ]
    }
  ]
}