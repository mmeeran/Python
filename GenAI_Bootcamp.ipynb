{
  "nbformat": 4,
  "nbformat_minor": 0,
  "metadata": {
    "colab": {
      "provenance": [],
      "authorship_tag": "ABX9TyMJvNJEi9LXYgLvkWyPu2l0",
      "include_colab_link": true
    },
    "kernelspec": {
      "name": "python3",
      "display_name": "Python 3"
    },
    "language_info": {
      "name": "python"
    }
  },
  "cells": [
    {
      "cell_type": "markdown",
      "metadata": {
        "id": "view-in-github",
        "colab_type": "text"
      },
      "source": [
        "<a href=\"https://colab.research.google.com/github/mmeeran/Python/blob/main/GenAI_Bootcamp.ipynb\" target=\"_parent\"><img src=\"https://colab.research.google.com/assets/colab-badge.svg\" alt=\"Open In Colab\"/></a>"
      ]
    },
    {
      "cell_type": "markdown",
      "source": [
        "#Genrative AI Bootcamp"
      ],
      "metadata": {
        "id": "aTlXM7bzD4ag"
      }
    },
    {
      "cell_type": "code",
      "source": [
        "print(\"Hello World\")"
      ],
      "metadata": {
        "colab": {
          "base_uri": "https://localhost:8080/"
        },
        "id": "R3rGfetLEPKh",
        "outputId": "998e680b-6c85-4f00-9508-8f5491d205e5"
      },
      "execution_count": 2,
      "outputs": [
        {
          "output_type": "stream",
          "name": "stdout",
          "text": [
            "Hello World\n"
          ]
        }
      ]
    },
    {
      "cell_type": "code",
      "source": [
        "def add(x, y):\n",
        "  return x + y\n",
        "\n",
        "add(3,4)"
      ],
      "metadata": {
        "colab": {
          "base_uri": "https://localhost:8080/"
        },
        "id": "9y1pRahaEduX",
        "outputId": "8e8868a5-3c37-4119-e268-9061e6664c83"
      },
      "execution_count": 4,
      "outputs": [
        {
          "output_type": "execute_result",
          "data": {
            "text/plain": [
              "7"
            ]
          },
          "metadata": {},
          "execution_count": 4
        }
      ]
    },
    {
      "cell_type": "code",
      "source": [
        "def subtract(x, y):\n",
        "  return x - y\n",
        "\n",
        "subtract(8,4)"
      ],
      "metadata": {
        "colab": {
          "base_uri": "https://localhost:8080/"
        },
        "id": "tjoSPRmvFWBO",
        "outputId": "452325f8-ac60-4ea5-cd18-d63dc2d263e3"
      },
      "execution_count": 8,
      "outputs": [
        {
          "output_type": "execute_result",
          "data": {
            "text/plain": [
              "4"
            ]
          },
          "metadata": {},
          "execution_count": 8
        }
      ]
    },
    {
      "cell_type": "code",
      "source": [
        "def multiply(x, y):\n",
        "  return x * y\n",
        "\n",
        "multiply(3,4)"
      ],
      "metadata": {
        "colab": {
          "base_uri": "https://localhost:8080/"
        },
        "id": "_gNDEPnpFmrV",
        "outputId": "32935e71-8863-4c43-ab32-2463ee936f01"
      },
      "execution_count": 9,
      "outputs": [
        {
          "output_type": "execute_result",
          "data": {
            "text/plain": [
              "12"
            ]
          },
          "metadata": {},
          "execution_count": 9
        }
      ]
    },
    {
      "cell_type": "code",
      "source": [
        "# @title Default title text\n",
        "def divide(x, y):\n",
        "\n",
        "  if y == 0:\n",
        "    print (\"Invalid divisor\")\n",
        "    return\n",
        "  else:\n",
        "   return x / y\n",
        "\n",
        "divide(21, 0)"
      ],
      "metadata": {
        "colab": {
          "base_uri": "https://localhost:8080/"
        },
        "id": "HdsBsymbFz-A",
        "outputId": "84fbe40f-9faa-4ff6-bc13-48f0aa16195e"
      },
      "execution_count": 15,
      "outputs": [
        {
          "output_type": "stream",
          "name": "stdout",
          "text": [
            "Invalid divisor\n"
          ]
        }
      ]
    },
    {
      "cell_type": "code",
      "source": [
        "val1 = int(input(\"Enter 1st value\"))\n",
        "val2 = int(input(\"Enter 2nd value\"))\n",
        "\n",
        "print (\"Sum of\", val1, \"and\", val2, \"is\", add(val1, val2))\n",
        "print (\"Subtraction of\", val1, \"and\", val2, \"is\", subtract(val1, val2))\n",
        "print (\"Multiplication of\", val1, \"and\", val2, \"is\", multiply(val1, val2))\n",
        "print (\"Division of\", val1, \"and\", val2, \"is\", divide(val1, val2))"
      ],
      "metadata": {
        "colab": {
          "base_uri": "https://localhost:8080/"
        },
        "id": "x9L_g0LsHGmS",
        "outputId": "b357e8f5-4c34-48fc-917a-5e460c83c91b"
      },
      "execution_count": 25,
      "outputs": [
        {
          "output_type": "stream",
          "name": "stdout",
          "text": [
            "Enter 1st value8\n",
            "Enter 2nd value0\n",
            "Sum of 8 and 0 is 8\n",
            "Subtraction of 8 and 0 is 8\n",
            "Multiplication of 8 and 0 is 0\n",
            "Invalid divisor\n",
            "Division of 8 and 0 is None\n"
          ]
        }
      ]
    }
  ]
}