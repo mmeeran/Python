{
  "nbformat": 4,
  "nbformat_minor": 0,
  "metadata": {
    "colab": {
      "provenance": [],
      "authorship_tag": "ABX9TyPlOgU2ZH6KvJOfDDTGPKEn",
      "include_colab_link": true
    },
    "kernelspec": {
      "name": "python3",
      "display_name": "Python 3"
    },
    "language_info": {
      "name": "python"
    }
  },
  "cells": [
    {
      "cell_type": "markdown",
      "metadata": {
        "id": "view-in-github",
        "colab_type": "text"
      },
      "source": [
        "<a href=\"https://colab.research.google.com/github/mmeeran/Python/blob/main/GenAI_Bootcamp.ipynb\" target=\"_parent\"><img src=\"https://colab.research.google.com/assets/colab-badge.svg\" alt=\"Open In Colab\"/></a>"
      ]
    },
    {
      "cell_type": "markdown",
      "source": [
        "#Genrative AI Bootcamp"
      ],
      "metadata": {
        "id": "aTlXM7bzD4ag"
      }
    },
    {
      "cell_type": "code",
      "source": [
        "print(\"Hello World\")"
      ],
      "metadata": {
        "colab": {
          "base_uri": "https://localhost:8080/"
        },
        "id": "R3rGfetLEPKh",
        "outputId": "998e680b-6c85-4f00-9508-8f5491d205e5"
      },
      "execution_count": 2,
      "outputs": [
        {
          "output_type": "stream",
          "name": "stdout",
          "text": [
            "Hello World\n"
          ]
        }
      ]
    },
    {
      "cell_type": "code",
      "source": [
        "def add(x, y):\n",
        "  return x + y\n",
        "\n",
        "add(3,4)"
      ],
      "metadata": {
        "colab": {
          "base_uri": "https://localhost:8080/"
        },
        "id": "9y1pRahaEduX",
        "outputId": "8e8868a5-3c37-4119-e268-9061e6664c83"
      },
      "execution_count": 4,
      "outputs": [
        {
          "output_type": "execute_result",
          "data": {
            "text/plain": [
              "7"
            ]
          },
          "metadata": {},
          "execution_count": 4
        }
      ]
    },
    {
      "cell_type": "code",
      "source": [
        "def subtract(x, y):\n",
        "  return x - y\n",
        "\n",
        "subtract(8,4)"
      ],
      "metadata": {
        "colab": {
          "base_uri": "https://localhost:8080/"
        },
        "id": "tjoSPRmvFWBO",
        "outputId": "452325f8-ac60-4ea5-cd18-d63dc2d263e3"
      },
      "execution_count": 8,
      "outputs": [
        {
          "output_type": "execute_result",
          "data": {
            "text/plain": [
              "4"
            ]
          },
          "metadata": {},
          "execution_count": 8
        }
      ]
    },
    {
      "cell_type": "code",
      "source": [
        "def multiply(x, y):\n",
        "  return x * y\n",
        "\n",
        "multiply(3,4)"
      ],
      "metadata": {
        "colab": {
          "base_uri": "https://localhost:8080/"
        },
        "id": "_gNDEPnpFmrV",
        "outputId": "32935e71-8863-4c43-ab32-2463ee936f01"
      },
      "execution_count": 9,
      "outputs": [
        {
          "output_type": "execute_result",
          "data": {
            "text/plain": [
              "12"
            ]
          },
          "metadata": {},
          "execution_count": 9
        }
      ]
    },
    {
      "cell_type": "code",
      "source": [
        "# @title Default title text\n",
        "def divide(x, y):\n",
        "\n",
        "  if y == 0:\n",
        "    print (\"Invalid divisor\")\n",
        "    return\n",
        "  else:\n",
        "   return x / y\n",
        "\n",
        "divide(21, 0)"
      ],
      "metadata": {
        "colab": {
          "base_uri": "https://localhost:8080/"
        },
        "id": "HdsBsymbFz-A",
        "outputId": "84fbe40f-9faa-4ff6-bc13-48f0aa16195e"
      },
      "execution_count": 15,
      "outputs": [
        {
          "output_type": "stream",
          "name": "stdout",
          "text": [
            "Invalid divisor\n"
          ]
        }
      ]
    },
    {
      "cell_type": "code",
      "source": [
        "val1 = int(input(\"Enter 1st value\"))\n",
        "val2 = int(input(\"Enter 2nd value\"))\n",
        "\n",
        "MyOperator = input(\"Enter Operator\")\n",
        "\n",
        "if MyOperator == \"+\":\n",
        "  print (\"Sum of\", val1, \"and\", val2, \"is\", add(val1, val2))\n",
        "elif MyOperator == \"-\":\n",
        "  print (\"Subtraction of\", val1, \"and\", val2, \"is\", subtract(val1, val2))\n",
        "elif MyOperator == \"*\":\n",
        "  print (\"Multiplication of\", val1, \"and\", val2, \"is\", multiply(val1, val2))\n",
        "elif MyOperator == \"/\":\n",
        "  print (\"Division of\", val1, \"and\", val2, \"is\", divide(val1, val2))\n",
        "else:\n",
        "  print(\"Invalid Operator\")"
      ],
      "metadata": {
        "colab": {
          "base_uri": "https://localhost:8080/"
        },
        "id": "x9L_g0LsHGmS",
        "outputId": "570ec34a-e2ae-4ec0-e381-49adec7253e4"
      },
      "execution_count": 26,
      "outputs": [
        {
          "output_type": "stream",
          "name": "stdout",
          "text": [
            "Enter 1st value3\n",
            "Enter 2nd value2\n",
            "Enter Operator+\n",
            "Sum of 3 and 2 is 5\n"
          ]
        }
      ]
    },
    {
      "cell_type": "code",
      "source": [
        "def MyCalc(x, y, op):\n",
        "  if op == \"+\":\n",
        "    return \"Sum of \" + str(x) + \" and \" + str(y) + \" is \" + str(x + y)\n",
        "  elif op == \"-\":\n",
        "    return \"Subtraction of \" + str(x) + \" and \" + str(y) + \" is \" + str(x - y)\n",
        "  elif op == \"*\":\n",
        "    return \"Multiplication of \" + str(x) + \" and \" + str(y) + \" is \" + str(x * y)\n",
        "  elif op == \"/\":\n",
        "    if y == 0:\n",
        "      return \"Invalid divisor\"\n",
        "    else:\n",
        "      return \"Division of \" + str(x) + \" and \" + str(y) + \" is \" + str(x / y)\n",
        "  else:\n",
        "    return \"Invalid Operator\""
      ],
      "metadata": {
        "id": "pZENmhxxLXBj"
      },
      "execution_count": 27,
      "outputs": []
    },
    {
      "cell_type": "code",
      "source": [
        "val1 = int(input(\"Enter 1st value\"))\n",
        "val2 = int(input(\"Enter 2nd value\"))\n",
        "\n",
        "MyOperator = input(\"Enter Operator\")\n",
        "\n",
        "MyCalc(val1, val2, MyOperator)"
      ],
      "metadata": {
        "colab": {
          "base_uri": "https://localhost:8080/",
          "height": 88
        },
        "id": "mrcTFwA4M7w8",
        "outputId": "31d3cd94-dfca-4591-c24c-25130f124b0b"
      },
      "execution_count": 28,
      "outputs": [
        {
          "name": "stdout",
          "output_type": "stream",
          "text": [
            "Enter 1st value5\n",
            "Enter 2nd value5\n",
            "Enter Operator/\n"
          ]
        },
        {
          "output_type": "execute_result",
          "data": {
            "text/plain": [
              "'Division of 5 and 5 is 1.0'"
            ],
            "application/vnd.google.colaboratory.intrinsic+json": {
              "type": "string"
            }
          },
          "metadata": {},
          "execution_count": 28
        }
      ]
    }
  ]
}